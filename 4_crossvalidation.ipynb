{
 "cells": [
  {
   "cell_type": "markdown",
   "metadata": {},
   "source": [
    "# Session 4 - Resampling Methods"
   ]
  },
  {
   "cell_type": "markdown",
   "metadata": {},
   "source": [
    "## Content\n",
    "\n",
    "- [Cross-Validation](#Cross-Validation)\n",
    "- [The Bootstrap](#The-Bootstrap)\n",
    "\n",
    "## Labs\n",
    "\n",
    "- [Cross-Validation and the Bootstrap](#Lab-1:-Cross-Validation-and-the-Bootstrap)"
   ]
  },
  {
   "cell_type": "code",
   "execution_count": 25,
   "metadata": {},
   "outputs": [],
   "source": [
    "# Import\n",
    "import pandas as pd\n",
    "import numpy as np\n",
    "import seaborn as sns\n",
    "import time\n",
    "\n",
    "from numpy.linalg import inv\n",
    "from numpy.random import normal\n",
    "from sklearn.linear_model import LinearRegression\n",
    "from sklearn.metrics import mean_squared_error\n",
    "from sklearn.model_selection import train_test_split, LeaveOneOut, KFold, cross_val_score\n",
    "from sklearn.preprocessing import PolynomialFeatures\n",
    "from sklearn.utils import resample"
   ]
  },
  {
   "cell_type": "code",
   "execution_count": 26,
   "metadata": {},
   "outputs": [],
   "source": [
    "# Import matplotlib for graphs\n",
    "import matplotlib.pyplot as plt\n",
    "from mpl_toolkits.mplot3d import axes3d\n",
    "\n",
    "# Set global parameters\n",
    "%matplotlib inline\n",
    "plt.style.use('seaborn-white')\n",
    "plt.rcParams['lines.linewidth'] = 3\n",
    "plt.rcParams['figure.figsize'] = (10,6)\n",
    "plt.rcParams['figure.titlesize'] = 20\n",
    "plt.rcParams['axes.titlesize'] = 18\n",
    "plt.rcParams['axes.labelsize'] = 14\n",
    "plt.rcParams['legend.fontsize'] = 14"
   ]
  },
  {
   "cell_type": "markdown",
   "metadata": {},
   "source": [
    "## Cross-Validation"
   ]
  },
  {
   "cell_type": "markdown",
   "metadata": {},
   "source": [
    "For this exercise we are going to use the car dataset."
   ]
  },
  {
   "cell_type": "code",
   "execution_count": 27,
   "metadata": {},
   "outputs": [
    {
     "data": {
      "text/html": [
       "<div>\n",
       "<style scoped>\n",
       "    .dataframe tbody tr th:only-of-type {\n",
       "        vertical-align: middle;\n",
       "    }\n",
       "\n",
       "    .dataframe tbody tr th {\n",
       "        vertical-align: top;\n",
       "    }\n",
       "\n",
       "    .dataframe thead th {\n",
       "        text-align: right;\n",
       "    }\n",
       "</style>\n",
       "<table border=\"1\" class=\"dataframe\">\n",
       "  <thead>\n",
       "    <tr style=\"text-align: right;\">\n",
       "      <th></th>\n",
       "      <th>mpg</th>\n",
       "      <th>cylinders</th>\n",
       "      <th>displacement</th>\n",
       "      <th>horsepower</th>\n",
       "      <th>weight</th>\n",
       "      <th>acceleration</th>\n",
       "      <th>year</th>\n",
       "      <th>origin</th>\n",
       "      <th>name</th>\n",
       "    </tr>\n",
       "  </thead>\n",
       "  <tbody>\n",
       "    <tr>\n",
       "      <th>0</th>\n",
       "      <td>18.0</td>\n",
       "      <td>8</td>\n",
       "      <td>307.0</td>\n",
       "      <td>130.0</td>\n",
       "      <td>3504</td>\n",
       "      <td>12.0</td>\n",
       "      <td>70</td>\n",
       "      <td>1</td>\n",
       "      <td>chevrolet chevelle malibu</td>\n",
       "    </tr>\n",
       "    <tr>\n",
       "      <th>1</th>\n",
       "      <td>15.0</td>\n",
       "      <td>8</td>\n",
       "      <td>350.0</td>\n",
       "      <td>165.0</td>\n",
       "      <td>3693</td>\n",
       "      <td>11.5</td>\n",
       "      <td>70</td>\n",
       "      <td>1</td>\n",
       "      <td>buick skylark 320</td>\n",
       "    </tr>\n",
       "    <tr>\n",
       "      <th>2</th>\n",
       "      <td>18.0</td>\n",
       "      <td>8</td>\n",
       "      <td>318.0</td>\n",
       "      <td>150.0</td>\n",
       "      <td>3436</td>\n",
       "      <td>11.0</td>\n",
       "      <td>70</td>\n",
       "      <td>1</td>\n",
       "      <td>plymouth satellite</td>\n",
       "    </tr>\n",
       "    <tr>\n",
       "      <th>3</th>\n",
       "      <td>16.0</td>\n",
       "      <td>8</td>\n",
       "      <td>304.0</td>\n",
       "      <td>150.0</td>\n",
       "      <td>3433</td>\n",
       "      <td>12.0</td>\n",
       "      <td>70</td>\n",
       "      <td>1</td>\n",
       "      <td>amc rebel sst</td>\n",
       "    </tr>\n",
       "    <tr>\n",
       "      <th>4</th>\n",
       "      <td>17.0</td>\n",
       "      <td>8</td>\n",
       "      <td>302.0</td>\n",
       "      <td>140.0</td>\n",
       "      <td>3449</td>\n",
       "      <td>10.5</td>\n",
       "      <td>70</td>\n",
       "      <td>1</td>\n",
       "      <td>ford torino</td>\n",
       "    </tr>\n",
       "  </tbody>\n",
       "</table>\n",
       "</div>"
      ],
      "text/plain": [
       "    mpg  cylinders  displacement  horsepower  weight  acceleration  year  \\\n",
       "0  18.0          8         307.0       130.0    3504          12.0    70   \n",
       "1  15.0          8         350.0       165.0    3693          11.5    70   \n",
       "2  18.0          8         318.0       150.0    3436          11.0    70   \n",
       "3  16.0          8         304.0       150.0    3433          12.0    70   \n",
       "4  17.0          8         302.0       140.0    3449          10.5    70   \n",
       "\n",
       "   origin                       name  \n",
       "0       1  chevrolet chevelle malibu  \n",
       "1       1          buick skylark 320  \n",
       "2       1         plymouth satellite  \n",
       "3       1              amc rebel sst  \n",
       "4       1                ford torino  "
      ]
     },
     "execution_count": 27,
     "metadata": {},
     "output_type": "execute_result"
    }
   ],
   "source": [
    "# Load car dataset\n",
    "df1 = pd.read_csv('data/Auto.csv', na_values='?').dropna()\n",
    "df1.head()"
   ]
  },
  {
   "cell_type": "markdown",
   "metadata": {},
   "source": [
    "### The Validation Set Approach"
   ]
  },
  {
   "cell_type": "markdown",
   "metadata": {},
   "source": [
    "Suppose that we would like to estimate the test error associated with fit- ting a particular statistical learning method on a set of observations. The validation set approach is a very simple strategy for this task. It involves randomly dividing the available set of observations into two parts\n",
    "\n",
    "1. a **training set** and \n",
    "2. a **validation set** or hold-out set\n",
    "\n",
    "The model is fit on the training set, and the fitted model is used to predict the responses for the observations in the validation set. The resulting validation set error rate-typically assessed using MSE in the case of a quantitative response—provides an estimate of the test error rate.\n",
    "\n",
    "In the following example we are are going to compute the MSE fit polynomial of different order (one to ten)."
   ]
  },
  {
   "cell_type": "code",
   "execution_count": 28,
   "metadata": {},
   "outputs": [],
   "source": [
    "# Cross-validation function for polynomials\n",
    "def cv_poly(X, y, p_order, r_states, t_prop):\n",
    "    start = time.time()\n",
    "    \n",
    "    # Init scores\n",
    "    scores = np.zeros((p_order.size,r_states.size))\n",
    "    \n",
    "    # For every polynomial degree\n",
    "    for i in p_order:\n",
    "        # Generate 10 random splits of the dataset\n",
    "        for j in r_states:\n",
    "\n",
    "            # Generate polynomial\n",
    "            X_poly = PolynomialFeatures(i+1).fit_transform(X)\n",
    "\n",
    "            # Split sample in train and test\n",
    "            X_train, X_test, y_train, y_test = train_test_split(X_poly, y, test_size=t_prop)\n",
    "\n",
    "            # Fit regression                                                                    \n",
    "            ols = LinearRegression().fit(X_train, y_train)\n",
    "            pred = ols.predict(X_test)\n",
    "            scores[i,j]= mean_squared_error(y_test, pred)\n",
    "    print('Time elapsed: %.4f seconds' % (time.time()-start))\n",
    "    return scores"
   ]
  },
  {
   "cell_type": "code",
   "execution_count": 29,
   "metadata": {},
   "outputs": [
    {
     "name": "stdout",
     "output_type": "stream",
     "text": [
      "Time elapsed: 0.3450 seconds\n"
     ]
    }
   ],
   "source": [
    "# Init\n",
    "t_prop = 0.5\n",
    "p_order = np.arange(10)\n",
    "r_states = np.arange(10)\n",
    "\n",
    "# Get X,y \n",
    "X = df1.horsepower.values.reshape(-1,1)\n",
    "y = df1.mpg.ravel()\n",
    "\n",
    "# Compute scores\n",
    "cv_scores = cv_poly(X, y, p_order, r_states, t_prop)"
   ]
  },
  {
   "cell_type": "code",
   "execution_count": 31,
   "metadata": {},
   "outputs": [
    {
     "data": {
      "image/png": "[encoded data removed]",
      "text/plain": [
       "<Figure size 1008x432 with 2 Axes>"
      ]
     },
     "metadata": {},
     "output_type": "display_data"
    }
   ],
   "source": [
    "# Figure 5.2\n",
    "fig, (ax1, ax2) = plt.subplots(1,2,figsize=(14,6))\n",
    "fig.suptitle('Figure 5.2')\n",
    "\n",
    "# Left plot (first split)\n",
    "ax1.plot(p_order+1,cv_scores[:,0], '-o')\n",
    "ax1.set_title('Random split of the data set')\n",
    "\n",
    "# Right plot (all splits)\n",
    "ax2.plot(p_order+1,cv_scores)\n",
    "ax2.set_title('10 random splits of the data set')\n",
    "\n",
    "for ax in fig.axes:\n",
    "    ax.set_ylabel('Mean Squared Error')\n",
    "    ax.set_ylim(15,30)\n",
    "    ax.set_xlabel('Degree of Polynomial')\n",
    "    ax.set_xlim(0.5,10.5)\n",
    "    ax.set_xticks(range(2,11,2));"
   ]
  },
  {
   "cell_type": "markdown",
   "metadata": {},
   "source": [
    "This figure illustrates a **first drawback** of the validation approach: the estimate of the test error rate can be highly variable, depending on pre- cisely which observations are included in the training set and which observations are included in the validation set.\n",
    "\n",
    "\n",
    "The **second drawback** of the validation approach is that only a subset of the observations—those that are included in the training set rather than in the validation set—are used to fit the model. Since statistical methods tend to per- form worse when trained on fewer observations, this suggests that the validation set error rate may tend to overestimate the test error rate for the model fit on the entire data set."
   ]
  },
  {
   "cell_type": "markdown",
   "metadata": {},
   "source": [
    "### Leave-One-Out Cross-Validation"
   ]
  },
  {
   "cell_type": "markdown",
   "metadata": {},
   "source": [
    "Leave-one-out cross-validation (LOOCV) ttempts to address that method’s drawbacks.\n",
    "\n",
    "Like the validation set approach, LOOCV involves splitting the set of observations into two parts. However, instead of creating two subsets of comparable size, a single observation $i$ is used for the validation set, and the remaining $n-1$ observations make up the training set. The statistical learning method is fit on the $n−1$ training observations and the MSE is computed using the excluded observation $i$. The procedure is repeated $n$ times, for $i=1,...,n$.\n",
    "\n",
    "The LOOCV estimate for the test MSE is the average of these $n$ test error estimates:\n",
    "\n",
    "$$\n",
    "\\mathrm{CV}_{(n)}=\\frac{1}{n} \\sum_{i=1}^{n} \\mathrm{MSE}_{i}\n",
    "$$\n",
    "\n",
    "LOOCV has a couple of major **advantages** over the validation set approach. \n",
    "\n",
    "First, it has far less bias. In LOOCV, we repeatedly fit the statistical learning method using training sets that contain $n − 1$ observations, almost as many as are in the entire data set. However, this also means that LOOCV is more computationally intense.\n",
    "\n",
    "Second, in contrast to the validation approach which will yield different results when applied repeatedly due to randomness in the training/validation set splits, performing LOOCV multiple times will always yield the same results: there is no randomness in the training/validation set splits."
   ]
  },
  {
   "cell_type": "code",
   "execution_count": 32,
   "metadata": {
    "scrolled": true
   },
   "outputs": [],
   "source": [
    "# LeaveOneOut CV function for polynomials\n",
    "def loo_cv_poly(X, y, p_order):\n",
    "    start = time.time()\n",
    "    \n",
    "    # Init\n",
    "    loo = LeaveOneOut().get_n_splits(y)\n",
    "    loo_scores = np.zeros((p_order.size,1))\n",
    "    \n",
    "    # For every polynomial degree\n",
    "    for i in p_order:\n",
    "        # Generate polynomial\n",
    "        X_poly = PolynomialFeatures(i+1).fit_transform(X)\n",
    "\n",
    "        # Get score\n",
    "        loo_scores[i] = cross_val_score(LinearRegression(), X_poly, y, cv=loo, scoring='neg_mean_squared_error').mean()\n",
    "        \n",
    "    print('Time elapsed: %.4f seconds' % (time.time()-start))\n",
    "    return loo_scores"
   ]
  },
  {
   "cell_type": "code",
   "execution_count": 38,
   "metadata": {},
   "outputs": [
    {
     "name": "stdout",
     "output_type": "stream",
     "text": [
      "Time elapsed: 0.2519 seconds\n",
      "Time elapsed: 5.4084 seconds\n"
     ]
    }
   ],
   "source": [
    "# Validation set approach\n",
    "cv_scores = cv_poly(X, y, p_order, r_states, t_prop)\n",
    "    \n",
    "# Leave One Out CV\n",
    "loo_scores = loo_cv_poly(X, y, p_order)"
   ]
  },
  {
   "cell_type": "markdown",
   "metadata": {},
   "source": [
    "As expected, LOOCV is much more computationally intense. Even accounting for the fact that we repeat every the validation set approach 10 times."
   ]
  },
  {
   "cell_type": "code",
   "execution_count": 39,
   "metadata": {
    "scrolled": false
   },
   "outputs": [
    {
     "data": {
      "image/png": "[encoded data removed]",
      "text/plain": [
       "<Figure size 504x432 with 1 Axes>"
      ]
     },
     "metadata": {},
     "output_type": "display_data"
    }
   ],
   "source": [
    "fig, ax = plt.subplots(1,1, figsize=(7,6))\n",
    "\n",
    "# Left plot\n",
    "ax.plot(p_order+1, np.array(loo_scores)*-1, '-o', label='LOOCV')\n",
    "ax.plot(p_order+1, np.mean(cv_scores, axis=1), '-o', c='orange', label='Standard CV')\n",
    "ax.set_ylabel('Mean Squared Error'); ax.set_xlabel('Degree of Polynomial');\n",
    "ax.set_ylim(15,30); ax.set_xlim(0.5,10.5);\n",
    "ax.set_xticks(range(2,11,2));\n",
    "ax.legend();"
   ]
  },
  {
   "cell_type": "markdown",
   "metadata": {},
   "source": [
    "With least squares linear or polynomial regression, an amazing shortcut makes the cost of LOOCV the same as that of a single model fit! The following formula holds:\n",
    "\n",
    "$$\n",
    "\\mathrm{CV}_{(n)}=\\frac{1}{n} \\sum_{i=1}^{n}\\left(\\frac{y_{i}-\\hat{y}_{i}}{1-h_{i}}\\right)^{2}\n",
    "$$\n",
    "\n",
    "where $\\hat y_i$ is the $i^{th}$ fitted value from the original least squares fit, and $h_i$ is the leverage of observation $i$."
   ]
  },
  {
   "cell_type": "markdown",
   "metadata": {},
   "source": [
    "### k-Fold Cross-Validation"
   ]
  },
  {
   "cell_type": "markdown",
   "metadata": {},
   "source": [
    "An alternative to LOOCV is k-fold CV. This approach involves the following steps:\n",
    "\n",
    "1. Randomly dividing the set of observations into $k$ groups, or folds, of approximately equal size.\n",
    "2. The first fold is treated as a validation set, and the method is fit on the remaining $k − 1$ folds. \n",
    "3. The mean squared error, MSE1, is then computed on the observations in the held-out fold.\n",
    "4. Steps (1)-(3) are repeated $k$ times; each time, a different group of observations is treated as a validation set.\n",
    "\n",
    "The k-fold CV estimate is computed by averaging these values\n",
    "\n",
    "$$\n",
    "\\mathrm{CV}_{(k)}=\\frac{1}{k} \\sum_{i=1}^{k} \\mathrm{MSE}_{i}\n",
    "$$\n",
    "\n",
    "LOOCV is a special case of k-fold CV in which $k$ is set to equal $n$. In practice, one typically performs k-fold CV using $k = 5$ or $k = 10$.\n",
    "\n",
    "The most obvious **advantage** is computational. LOOCV requires fitting the statistical learning method $n$ times, while k-fold CV only requires $k$ splits. "
   ]
  },
  {
   "cell_type": "code",
   "execution_count": 35,
   "metadata": {},
   "outputs": [],
   "source": [
    "# 10fold CV function for polynomials\n",
    "def k10_cv_poly(X, y, p_order, r_states, folds):\n",
    "    start = time.time()\n",
    "    \n",
    "    # Init\n",
    "    k10_scores = np.zeros((p_order.size,r_states.size))\n",
    "\n",
    "    # Generate 10 random splits of the dataset\n",
    "    for j in r_states:\n",
    "\n",
    "        # For every polynomial degree\n",
    "        for i in p_order:\n",
    "\n",
    "            # Generate polynomial\n",
    "            X_poly = PolynomialFeatures(i+1).fit_transform(X)\n",
    "\n",
    "            # Split sample in train and test\n",
    "            kf10 = KFold(n_splits=folds, shuffle=True, random_state=j)\n",
    "            k10_scores[i,j] = cross_val_score(LinearRegression(), X_poly, y, cv=kf10, \n",
    "                                               scoring='neg_mean_squared_error').mean()  \n",
    "    \n",
    "    print('Time elapsed: %.4f seconds' % (time.time()-start))\n",
    "    return k10_scores"
   ]
  },
  {
   "cell_type": "code",
   "execution_count": 36,
   "metadata": {},
   "outputs": [
    {
     "name": "stdout",
     "output_type": "stream",
     "text": [
      "Time elapsed: 6.1230 seconds\n",
      "Time elapsed: 1.5633 seconds\n"
     ]
    }
   ],
   "source": [
    "# Leave One Out CV\n",
    "loo_scores = loo_cv_poly(X, y, p_order)\n",
    "    \n",
    "# 10-fold CV\n",
    "folds = 10\n",
    "k10_scores = k10_cv_poly(X, y, p_order, r_states, folds)"
   ]
  },
  {
   "cell_type": "markdown",
   "metadata": {},
   "source": [
    "Indeed we see that the LOOCV approach is more computationally intense. Even accounting for the fact that we repeat every 10-fold cross-validation 10 times."
   ]
  },
  {
   "cell_type": "code",
   "execution_count": 48,
   "metadata": {
    "scrolled": false
   },
   "outputs": [
    {
     "data": {
      "image/png": "[encoded data removed]",
      "text/plain": [
       "<Figure size 1224x360 with 3 Axes>"
      ]
     },
     "metadata": {},
     "output_type": "display_data"
    }
   ],
   "source": [
    "# Figure 5.4\n",
    "fig, (ax1, ax2, ax3) = plt.subplots(1,3,figsize=(17,5))\n",
    "fig.suptitle('Figure 5.4')\n",
    "\n",
    "# Left plot\n",
    "ax1.plot(p_order+1, np.array(loo_scores)*-1, '-o')\n",
    "ax1.set_title('LOOCV', fontsize=12)\n",
    "\n",
    "# Center plot\n",
    "ax2.plot(p_order+1,k10_scores*-1)\n",
    "ax2.set_title('10-fold CV', fontsize=12)\n",
    "\n",
    "# Right plot\n",
    "ax3.plot(p_order+1, np.array(loo_scores)*-1, '-o', label='LOOCV')\n",
    "ax3.plot(p_order+1, np.mean(cv_scores, axis=1), '-o', label='Standard CV')\n",
    "ax3.plot(p_order+1,np.mean(k10_scores,axis=1)*-1, '-o', label='10-fold CV')\n",
    "ax3.set_title('Comparison', fontsize=12);\n",
    "ax3.legend();\n",
    "\n",
    "for ax in fig.axes:\n",
    "    ax.set_ylabel('Mean Squared Error')\n",
    "    ax.set_ylim(15,30)\n",
    "    ax.set_xlabel('Degree of Polynomial')\n",
    "    ax.set_xlim(0.5,10.5)\n",
    "    ax.set_xticks(range(2,11,2));"
   ]
  },
  {
   "cell_type": "markdown",
   "metadata": {},
   "source": [
    "10-fold cross-validation outputs a very similar MSE with respect to LOOCV, but with considerably less computational time."
   ]
  },
  {
   "cell_type": "markdown",
   "metadata": {},
   "source": [
    "## The Bootstrap"
   ]
  },
  {
   "cell_type": "markdown",
   "metadata": {},
   "source": [
    "The bootstrap is a widely applicable and extremely powerful statistical tool that can be used to quantify the uncertainty associated with a given estimator or statistical learning method. In the specific case of linear regression, this is not particularly useful since there exist a formula for the standard errors. However, there are many models (almost all actually) for which there exists no closed for solution to the estimator variance.\n",
    "\n",
    "In pricinple, we would like to draw independent samples from the true data generating process and assessing the uncertainty of an estimator by comparing its values across the different samples. However, this is clearly unfeasible since we do not know the true data generating process.\n",
    "\n",
    "With the bootstrap, rather than repeatedly obtaining independent data sets from the population, we instead obtain distinct data sets by repeatedly sampling observations from the original data set. The power of the bootstrap lies in the fact that it can be easily applied to a wide range of statistical learning methods, including some for which a measure of variability is otherwise difficult to obtain and is not automatically output by statistical software.\n",
    "\n",
    "We are now going to assess its usefulness through simulation. Take the following model:\n",
    "\n",
    "$$\n",
    "y_i = \\beta_0 \\cdot x_i + \\varepsilon_i\n",
    "$$\n",
    "\n",
    "where $\\beta_0 = 0.6$ and $\\varepsilon \\sim N(0,1)$. We are now going to assess the variance of the OLS estimator $\\hat \\beta$ with the standard formula, simulating different samples and with bootstrap."
   ]
  },
  {
   "cell_type": "code",
   "execution_count": 13,
   "metadata": {},
   "outputs": [],
   "source": [
    "# Set seed\n",
    "np.random.seed(1)\n",
    "\n",
    "# Init\n",
    "simulations = 1000\n",
    "N = 1000\n",
    "beta_0 = 0.6\n",
    "beta_sim = np.zeros((simulations,1))\n",
    "\n",
    "# Generate X\n",
    "X = normal(0,3,N).reshape(-1,1)\n",
    "\n",
    "# Loop over simulations\n",
    "for i in range(simulations):\n",
    "    \n",
    "    # Generate y\n",
    "    e = normal(0,1,N).reshape(-1,1)\n",
    "    y = beta_0*X + e\n",
    "    \n",
    "    # Estimate beta OLS\n",
    "    beta_sim[i] = inv(X.T @ X) @ X.T @ y"
   ]
  },
  {
   "cell_type": "code",
   "execution_count": 14,
   "metadata": {},
   "outputs": [],
   "source": [
    "# Init Bootstrap\n",
    "beta_boot = np.zeros((simulations,1))\n",
    "\n",
    "# Loop over simulations\n",
    "for i in range(simulations):\n",
    "    \n",
    "    # Sample y\n",
    "    X_sample, y_sample = resample(X, y, random_state=i)\n",
    "    \n",
    "    # Estimate beta OLS\n",
    "    beta_boot[i] = inv(X_sample.T @ X_sample) @ X_sample.T @ y_sample"
   ]
  },
  {
   "cell_type": "markdown",
   "metadata": {},
   "source": [
    "We can first compare the means."
   ]
  },
  {
   "cell_type": "code",
   "execution_count": 15,
   "metadata": {},
   "outputs": [
    {
     "name": "stdout",
     "output_type": "stream",
     "text": [
      "True value      : 0.6000\n",
      "Mean Simulations: 0.6003\n",
      "Mean One Sample : 0.5815\n",
      "Mean Boostrap   : 0.5816\n"
     ]
    }
   ],
   "source": [
    "# Print means\n",
    "print('True value      : %.4f' % beta_0)\n",
    "print('Mean Simulations: %.4f' % np.mean(beta_sim))\n",
    "print('Mean One Sample : %.4f' % beta_sim[-1])\n",
    "print('Mean Boostrap   : %.4f' % np.mean(beta_boot))"
   ]
  },
  {
   "cell_type": "markdown",
   "metadata": {},
   "source": [
    "The mean of the bootstrap estimtor is quite off. But this is not its actual purpose: it is designed to assess the uncertainty of an estimator, not its value.\n",
    "\n",
    "Now we compare the variances."
   ]
  },
  {
   "cell_type": "code",
   "execution_count": 16,
   "metadata": {},
   "outputs": [
    {
     "name": "stdout",
     "output_type": "stream",
     "text": [
      "True std       : 0.010737\n",
      "Std Simulations: 0.010830\n",
      "Std One Sample : 0.010536\n",
      "Std Boostrap   : 0.010812\n"
     ]
    }
   ],
   "source": [
    "# Print variances\n",
    "print('True std       : %.6f' % np.sqrt(inv(X.T @ X)))\n",
    "print('Std Simulations: %.6f' % np.std(beta_sim))\n",
    "print('Std One Sample : %.6f' % np.sqrt(inv(X.T @ X) * np.var(y - beta_sim[-1]*X)))\n",
    "print('Std Boostrap   : %.6f' % np.std(beta_boot))"
   ]
  },
  {
   "cell_type": "markdown",
   "metadata": {},
   "source": [
    "Bootstrap gets as close to the true standard deviation of the estimator as the simulation with the true data generating process. Impressive!\n",
    "\n",
    "We can now have a visual inspection."
   ]
  },
  {
   "cell_type": "code",
   "execution_count": 18,
   "metadata": {},
   "outputs": [
    {
     "data": {
      "image/png": "[encoded data removed]",
      "text/plain": [
       "<Figure size 1008x432 with 3 Axes>"
      ]
     },
     "metadata": {},
     "output_type": "display_data"
    }
   ],
   "source": [
    "# Figure 5.10\n",
    "fig, (ax1, ax2, ax3) = plt.subplots(1,3,figsize=(14,6))\n",
    "fig.suptitle('Figure 5.10')\n",
    "\n",
    "# Left plot\n",
    "ax1.hist(beta_sim, bins=10, edgecolor='black');\n",
    "ax1.axvline(x=beta_0, color='r', label='beta_0')\n",
    "ax1.set_xlabel('beta simulated');\n",
    "\n",
    "# Center plot\n",
    "ax2.hist(beta_boot, bins=10, color='orange', edgecolor='black');\n",
    "ax2.axvline(x=beta_0, color='r', label='beta_0')\n",
    "ax2.set_xlabel('beta bootstrap');\n",
    "\n",
    "# Right plot\n",
    "df_bootstrap = pd.DataFrame({'simulated': beta_sim.ravel(), 'bootstrap':beta_boot.ravel()}, \n",
    "                            index=range(simulations))\n",
    "ax3 = sns.boxplot(data=df_bootstrap, width=0.5, linewidth=2);\n",
    "ax3.axhline(y=beta_0, color='r', label='beta_0');"
   ]
  },
  {
   "cell_type": "markdown",
   "metadata": {},
   "source": [
    "As we can see, the bootstrap is a powerful tool to assess the uncertainty of an estimator."
   ]
  },
  {
   "cell_type": "markdown",
   "metadata": {},
   "source": [
    "# Labs"
   ]
  },
  {
   "cell_type": "markdown",
   "metadata": {},
   "source": [
    "## Lab 1: Cross-Validation and the Bootstrap"
   ]
  },
  {
   "cell_type": "markdown",
   "metadata": {},
   "source": [
    "### Lab 1.1: The Validation Set Approach"
   ]
  },
  {
   "cell_type": "markdown",
   "metadata": {},
   "source": [
    "In this section, we'll explore the use of the validation set approach in order to estimate the\n",
    "test error rates that result from fitting various linear models on the ${\\tt Auto}$ data set."
   ]
  },
  {
   "cell_type": "code",
   "execution_count": null,
   "metadata": {},
   "outputs": [],
   "source": [
    "df1 = pd.read_csv('Auto.csv', na_values='?').dropna()\n",
    "df1.info()"
   ]
  },
  {
   "cell_type": "markdown",
   "metadata": {},
   "source": [
    "We begin by using the ${\\tt sample()}$ function to split the set of observations\n",
    "into two halves, by selecting a random subset of 196 observations out of\n",
    "the original 392 observations. We refer to these observations as the training\n",
    "set.\n",
    "\n",
    "We'll use the ${\\tt random\\_state}$ parameter in order to set a seed for\n",
    "${\\tt python}$’s random number generator, so that you'll obtain precisely the same results each time. It is generally a good idea to set a random seed when performing an analysis such as cross-validation\n",
    "that contains an element of randomness, so that the results obtained can be reproduced precisely at a later time."
   ]
  },
  {
   "cell_type": "code",
   "execution_count": null,
   "metadata": {},
   "outputs": [],
   "source": [
    "train_df = df1.sample(196, random_state = 1)\n",
    "test_df = df1[~df1.isin(train_df)].dropna(how = 'all')\n",
    "\n",
    "X_train = train_df['horsepower'].values.reshape(-1,1)\n",
    "y_train = train_df['mpg']\n",
    "X_test = test_df['horsepower'].values.reshape(-1,1)\n",
    "y_test = test_df['mpg']"
   ]
  },
  {
   "cell_type": "markdown",
   "metadata": {},
   "source": [
    "We then use ${\\tt LinearRegression()}$ to fit a linear regression to predict ${\\tt mpg}$ from ${\\tt horsepower}$ using only\n",
    "the observations corresponding to the training set."
   ]
  },
  {
   "cell_type": "code",
   "execution_count": null,
   "metadata": {},
   "outputs": [],
   "source": [
    "lm = skl_lm.LinearRegression()\n",
    "model = lm.fit(X_train, y_train)"
   ]
  },
  {
   "cell_type": "markdown",
   "metadata": {},
   "source": [
    "We now use the ${\\tt predict()}$ function to estimate the response for the test\n",
    "observations, and we use ${\\tt sklearn}$ to caclulate the MSE."
   ]
  },
  {
   "cell_type": "code",
   "execution_count": null,
   "metadata": {},
   "outputs": [],
   "source": [
    "pred = model.predict(X_test)\n",
    "MSE = mean_squared_error(y_test, pred)\n",
    "    \n",
    "print(MSE)"
   ]
  },
  {
   "cell_type": "markdown",
   "metadata": {},
   "source": [
    "Therefore, the estimated test MSE for the linear regression fit is 23.36. We\n",
    "can use the ${\\tt PolynomialFeatures()}$ function to estimate the test error for the polynomial\n",
    "and cubic regressions."
   ]
  },
  {
   "cell_type": "code",
   "execution_count": null,
   "metadata": {},
   "outputs": [],
   "source": [
    "# Quadratic\n",
    "poly = PolynomialFeatures(degree=2)\n",
    "X_train2 = poly.fit_transform(X_train)\n",
    "X_test2 = poly.fit_transform(X_test)\n",
    "\n",
    "model = lm.fit(X_train2, y_train)\n",
    "print(mean_squared_error(y_test, model.predict(X_test2)))\n",
    "\n",
    "# Cubic\n",
    "poly = PolynomialFeatures(degree=3)\n",
    "X_train3 = poly.fit_transform(X_train)\n",
    "X_test3 = poly.fit_transform(X_test)\n",
    "\n",
    "model = lm.fit(X_train3, y_train)\n",
    "print(mean_squared_error(y_test, model.predict(X_test3)))"
   ]
  },
  {
   "cell_type": "markdown",
   "metadata": {},
   "source": [
    "These error rates are 20.25 and 20.33, respectively. If we choose a different\n",
    "training set instead, then we will obtain somewhat different errors on the\n",
    "validation set. We can test this out by setting a different random seed:"
   ]
  },
  {
   "cell_type": "code",
   "execution_count": null,
   "metadata": {},
   "outputs": [],
   "source": [
    "train_df = df1.sample(196, random_state = 2)\n",
    "test_df = df1[~df1.isin(train_df)].dropna(how = 'all')\n",
    "\n",
    "X_train = train_df['horsepower'].values.reshape(-1,1)\n",
    "y_train = train_df['mpg']\n",
    "X_test = test_df['horsepower'].values.reshape(-1,1)\n",
    "y_test = test_df['mpg']\n",
    "\n",
    "# Linear\n",
    "model = lm.fit(X_train, y_train)\n",
    "print(mean_squared_error(y_test, model.predict(X_test)))\n",
    "\n",
    "# Quadratic\n",
    "poly = PolynomialFeatures(degree=2)\n",
    "X_train2 = poly.fit_transform(X_train)\n",
    "X_test2 = poly.fit_transform(X_test)\n",
    "\n",
    "model = lm.fit(X_train2, y_train)\n",
    "print(mean_squared_error(y_test, model.predict(X_test2)))\n",
    "\n",
    "# Cubic\n",
    "poly = PolynomialFeatures(degree=3)\n",
    "X_train3 = poly.fit_transform(X_train)\n",
    "X_test3 = poly.fit_transform(X_test)\n",
    "\n",
    "model = lm.fit(X_train3, y_train)\n",
    "print(mean_squared_error(y_test, model.predict(X_test3)))"
   ]
  },
  {
   "cell_type": "markdown",
   "metadata": {},
   "source": [
    "Using this split of the observations into a training set and a validation\n",
    "set, we find that the validation set error rates for the models with linear,\n",
    "quadratic, and cubic terms are 25.11, 19.72, and 19.92, respectively.\n",
    "\n",
    "These results are consistent with our previous findings: a model that\n",
    "predicts ${\\tt mpg}$ using a quadratic function of ${\\tt horsepower}$ performs better than\n",
    "a model that involves only a linear function of ${\\tt horsepower}$, and there is\n",
    "little evidence in favor of a model that uses a cubic function of ${\\tt horsepower}$."
   ]
  },
  {
   "cell_type": "markdown",
   "metadata": {},
   "source": [
    "### Lab 1.2:  Leave-One-Out Cross-Validation"
   ]
  },
  {
   "cell_type": "markdown",
   "metadata": {},
   "source": [
    "The LOOCV estimate can be automatically computed for any generalized linear model using the `LeaveOneOut()` and `KFold()` functions."
   ]
  },
  {
   "cell_type": "code",
   "execution_count": null,
   "metadata": {},
   "outputs": [],
   "source": [
    "# Model\n",
    "model = lm.fit(X_train, y_train)\n",
    "\n",
    "# Leave one out\n",
    "loo = LeaveOneOut()\n",
    "X = df1['horsepower'].values.reshape(-1,1)\n",
    "y = df1['mpg'].values.reshape(-1,1)\n",
    "loo.get_n_splits(X)\n",
    "\n",
    "# Cross-validation\n",
    "crossvalidation = KFold(n_splits=392, random_state=None, shuffle=False)\n",
    "scores = cross_val_score(model, X, y, scoring=\"neg_mean_squared_error\", cv=crossvalidation,\n",
    " n_jobs=1)\n",
    "\n",
    "# Print\n",
    "print(\"Folds: \" + str(len(scores)) + \", MSE: \" + str(np.mean(np.abs(scores))) + \", STD: \" + str(np.std(scores)))"
   ]
  },
  {
   "cell_type": "markdown",
   "metadata": {},
   "source": [
    "Our cross-validation estimate for the test error is approximately 24.23. We can repeat this procedure for increasingly complex polynomial fits.\n",
    "To automate the process, we use the `for()` function to initiate a for loop\n",
    "which iteratively fits polynomial regressions for polynomials of order `i = 1`\n",
    "to `i = 5` and computes the associated cross-validation error. \n",
    "\n",
    "This command may take a couple of minutes to run."
   ]
  },
  {
   "cell_type": "code",
   "execution_count": null,
   "metadata": {},
   "outputs": [],
   "source": [
    "# Loop\n",
    "for i in range(1,6):\n",
    "    poly = PolynomialFeatures(degree=i)\n",
    "    X_current = poly.fit_transform(X)\n",
    "    model = lm.fit(X_current, y)\n",
    "    scores = cross_val_score(model, X_current, y, scoring=\"neg_mean_squared_error\", cv=crossvalidation,\n",
    " n_jobs=1)\n",
    "    \n",
    "    print(\"Degree-\"+str(i)+\" polynomial MSE: \" + str(np.mean(np.abs(scores))) + \", STD: \" + str(np.std(scores)))"
   ]
  },
  {
   "cell_type": "markdown",
   "metadata": {},
   "source": [
    "Here we see a sharp drop in the estimated test MSE between\n",
    "the linear and quadratic fits, but then no clear improvement from using\n",
    "higher-order polynomials."
   ]
  },
  {
   "cell_type": "markdown",
   "metadata": {},
   "source": [
    "### Lab 1.3: k-Fold Cross-Validation"
   ]
  },
  {
   "cell_type": "markdown",
   "metadata": {},
   "source": [
    "The `KFold` function can (intuitively) also be used to implement `k`-fold CV. Below we\n",
    "use `k = 10`, a common choice for `k`, on the `Auto` data set. We once again set\n",
    "a random seed and initialize a vector in which we will print the CV errors\n",
    "corresponding to the polynomial fits of orders one to ten."
   ]
  },
  {
   "cell_type": "code",
   "execution_count": null,
   "metadata": {},
   "outputs": [],
   "source": [
    "crossvalidation = KFold(n_splits=10, random_state=1, shuffle=False)\n",
    "\n",
    "# Loop\n",
    "for i in range(1,11):\n",
    "    poly = PolynomialFeatures(degree=i)\n",
    "    X_current = poly.fit_transform(X)\n",
    "    model = lm.fit(X_current, y)\n",
    "    scores = cross_val_score(model, X_current, y, scoring=\"neg_mean_squared_error\", cv=crossvalidation,\n",
    " n_jobs=1)\n",
    "    \n",
    "    print(\"Degree-\"+str(i)+\" polynomial MSE: \" + str(np.mean(np.abs(scores))) + \", STD: \" + str(np.std(scores)))"
   ]
  },
  {
   "cell_type": "markdown",
   "metadata": {},
   "source": [
    "Notice that the computation time is **much** shorter than that of LOOCV.\n",
    "(In principle, the computation time for LOOCV for a least squares linear\n",
    "model should be faster than for `k`-fold CV, due to the availability of the\n",
    "formula (5.2) for LOOCV; however, unfortunately the `KFold()` function\n",
    "does not make use of this formula.) We still see little evidence that using\n",
    "cubic or higher-order polynomial terms leads to lower test error than simply\n",
    "using a quadratic fit."
   ]
  },
  {
   "cell_type": "markdown",
   "metadata": {},
   "source": [
    "#### An Application to Default Data"
   ]
  },
  {
   "cell_type": "markdown",
   "metadata": {},
   "source": [
    "Now that you're armed with more useful technique for resampling your data, let's try fitting a model for the `Default` dataset:"
   ]
  },
  {
   "cell_type": "code",
   "execution_count": null,
   "metadata": {},
   "outputs": [],
   "source": [
    "# Load default dataset\n",
    "df2 = pd.read_csv('Default.csv', na_values='?').dropna()\n",
    "df2.describe()"
   ]
  },
  {
   "cell_type": "markdown",
   "metadata": {},
   "source": [
    "First we'll try just holding out a random 20% of the data:"
   ]
  },
  {
   "cell_type": "code",
   "execution_count": null,
   "metadata": {},
   "outputs": [],
   "source": [
    "import statsmodels.formula.api as smf\n",
    "import statsmodels.api as sm\n",
    "from sklearn.metrics import confusion_matrix, classification_report\n",
    "\n",
    "for i in range(1,11):\n",
    "    train_df2 = df2.sample(8000, random_state = i)\n",
    "    test_df2 = df2[~df2.isin(train_df2)].dropna(how = 'all')\n",
    "    \n",
    "    # Fit a logistic regression to predict default using balance\n",
    "    model = smf.glm('default~balance', data=train_df2, family=sm.families.Binomial())\n",
    "    result = model.fit()\n",
    "    predictions_nominal = [\"Yes\" if x < 0.5 else \"No\" for x in result.predict(test_df2)]\n",
    "    print(\"----------------\")\n",
    "    print(\"Random Seed = \" + str(i) + \"\")\n",
    "    print(\"----------------\")\n",
    "    print(confusion_matrix(test_df2[\"default\"], \n",
    "                       predictions_nominal))\n",
    "    print(classification_report(test_df2[\"default\"], \n",
    "                            predictions_nominal, \n",
    "                            digits = 3))\n",
    "    print()"
   ]
  },
  {
   "cell_type": "markdown",
   "metadata": {},
   "source": [
    "Our accuracy is really high on this data, but we're getting different error rates depending on how we choose our test set. That's no good!\n",
    "\n",
    "Unfortunately this dataset is too big for us to run LOOCV, so we'll have to settle for `k`-fold. In the space below, build a logistic model on the full `Default` dataset and then run 5-fold cross-validation to get a more accurate estimate of your test error rate:"
   ]
  },
  {
   "cell_type": "code",
   "execution_count": null,
   "metadata": {},
   "outputs": [],
   "source": [
    "# Your code here"
   ]
  },
  {
   "cell_type": "markdown",
   "metadata": {},
   "source": [
    "### Lab 1.4: The Bootstrap"
   ]
  },
  {
   "cell_type": "markdown",
   "metadata": {},
   "source": [
    "We illustrate the use of the bootstrap in the simple example of Section 5.2,\n",
    "as well as on an example involving estimating the accuracy of the linear\n",
    "regression model on the `Auto`data set."
   ]
  },
  {
   "cell_type": "markdown",
   "metadata": {},
   "source": [
    "#### Estimating the Accuracy of a Statistic of Interest"
   ]
  },
  {
   "cell_type": "markdown",
   "metadata": {},
   "source": [
    "One of the great advantages of the bootstrap approach is that it can be\n",
    "applied in almost all situations. No complicated mathematical calculations\n",
    "are required. Performing a bootstrap analysis in R entails only two steps.\n",
    "\n",
    "- First, we must create a function that computes the statistic of interest.\n",
    "- Second, we use the `boot()` function, which is part of the boot library, to perform the bootstrap by repeatedly sampling observations from the data set with replacement.\n",
    "\n",
    "The `Portfolio` data set in the `ISLR` package is described in Section 5.2. It has variables called `X` and `Y`. "
   ]
  },
  {
   "cell_type": "code",
   "execution_count": null,
   "metadata": {},
   "outputs": [],
   "source": [
    "# Load Portfolio data\n",
    "portfolio_df = pd.read_csv('Portfolio.csv')\n",
    "portfolio_df.head()"
   ]
  },
  {
   "cell_type": "markdown",
   "metadata": {},
   "source": [
    "To illustrate the use of the bootstrap on this data, we must first create\n",
    "a function, `alpha()`, which takes as input the data and outputs the estimate for $\\alpha$ (described in more detail on page 187)."
   ]
  },
  {
   "cell_type": "code",
   "execution_count": null,
   "metadata": {},
   "outputs": [],
   "source": [
    "# Compute alpha\n",
    "def alpha(X,Y):\n",
    "    return ((np.var(Y)-np.cov(X,Y))/(np.var(X)+np.var(Y)-2*np.cov(X,Y)))"
   ]
  },
  {
   "cell_type": "markdown",
   "metadata": {},
   "source": [
    "This function returns, or outputs, an estimate for $\\alpha$ based on applying\n",
    "(5.7) to the observations indexed by the argument index. For instance, the\n",
    "following command tells `python` to estimate $\\alpha$ using all 100 observations."
   ]
  },
  {
   "cell_type": "code",
   "execution_count": null,
   "metadata": {},
   "outputs": [],
   "source": [
    "# Compute alpha from subsample\n",
    "X = portfolio_df.X[0:100]\n",
    "y = portfolio_df.Y[0:100]\n",
    "print(alpha(X,y))"
   ]
  },
  {
   "cell_type": "markdown",
   "metadata": {},
   "source": [
    "The next command uses the `sample()` function to randomly select 100 observations\n",
    "from the range 1 to 100, with replacement. This is equivalent\n",
    "to constructing a new bootstrap data set and recomputing $\\hat{\\alpha}$ based on the\n",
    "new data set."
   ]
  },
  {
   "cell_type": "code",
   "execution_count": null,
   "metadata": {},
   "outputs": [],
   "source": [
    "dfsample = portfolio_df.sample(frac=1, replace=True)\n",
    "X = dfsample.X[0:100]\n",
    "y = dfsample.Y[0:100]\n",
    "print(alpha(X,y))"
   ]
  },
  {
   "cell_type": "markdown",
   "metadata": {},
   "source": [
    "We can implement a bootstrap analysis by performing this command many\n",
    "times, recording all of the corresponding estimates for $\\alpha$, and computing the resulting standard deviation. However, the `boot()`function automates\n",
    "this approach. Below we produce $1,000$ bootstrap estimates for $\\alpha$:"
   ]
  },
  {
   "cell_type": "code",
   "execution_count": null,
   "metadata": {},
   "outputs": [],
   "source": [
    "# Build bootstrap function\n",
    "def bstrap(df):\n",
    "    tresult = 0\n",
    "    for i in range(0,1000):\n",
    "        dfsample = df.sample(frac=1, replace=True)\n",
    "        X = dfsample.X[0:100]\n",
    "        y = dfsample.Y[0:100]\n",
    "        result = alpha(X,y)\n",
    "        tresult += result\n",
    "    fresult = tresult / 1000\n",
    "    print(fresult)\n",
    "    \n",
    "# Bootstrap    \n",
    "bstrap(portfolio_df)"
   ]
  },
  {
   "cell_type": "markdown",
   "metadata": {},
   "source": [
    "The final output shows that using the original data, $\\hat{\\alpha} = 0.58$, and that the bootstrap estimate for $SE(\\hat{\\alpha})$ is 0.18."
   ]
  },
  {
   "cell_type": "markdown",
   "metadata": {},
   "source": [
    "#### Estimating the Accuracy of a Linear Regression Model"
   ]
  },
  {
   "cell_type": "markdown",
   "metadata": {},
   "source": [
    "The bootstrap approach can be used to assess the variability of the coefficient\n",
    "estimates and predictions from a statistical learning method. Here\n",
    "we use the bootstrap approach in order to assess the variability of the\n",
    "estimates for $\\beta_0$ and $\\beta_1$, the intercept and slope terms for the linear regression\n",
    "model that uses horsepower to predict mpg in the Auto data set. We\n",
    "will compare the estimates obtained using the bootstrap to those obtained\n",
    "using the formulas for $SE(\\hat{\\beta}_0)$ and $SE(\\hat{\\beta}_1)$ described in Section 3.1.2.\n",
    "\n",
    "First let's refresh our memory about a linear model of the `Auto` dataset:"
   ]
  },
  {
   "cell_type": "code",
   "execution_count": null,
   "metadata": {},
   "outputs": [],
   "source": [
    "# Load auto dataset\n",
    "auto_df = pd.read_csv('data/Auto.csv')\n",
    "auto_df.describe()"
   ]
  },
  {
   "cell_type": "code",
   "execution_count": null,
   "metadata": {},
   "outputs": [],
   "source": [
    "lm = skl_lm.LinearRegression()\n",
    "X = auto_df['horsepower'].values.reshape(-1,1)\n",
    "y = auto_df['mpg']\n",
    "clf = lm.fit(X,y)\n",
    "print(clf.coef_, clf.intercept_)"
   ]
  },
  {
   "cell_type": "markdown",
   "metadata": {},
   "source": [
    "Next, we use the `bootstrap()`function to compute the standard errors of 1,000\n",
    "bootstrap estimates for the intercept and slope terms:"
   ]
  },
  {
   "cell_type": "code",
   "execution_count": null,
   "metadata": {},
   "outputs": [],
   "source": [
    "from sklearn.metrics import mean_squared_error\n",
    "\n",
    "Xsamp, ysamp = resample(X, y, n_samples=1000)\n",
    "clf = lm.fit(Xsamp,ysamp)\n",
    "print('Intercept: ' + str(clf.intercept_) + \" Coef: \" + str(clf.coef_))"
   ]
  },
  {
   "cell_type": "markdown",
   "metadata": {},
   "source": [
    "## Next Session"
   ]
  },
  {
   "cell_type": "markdown",
   "metadata": {},
   "source": [
    "Jump to [Session 5 - Model Selection and Regularization](https://nbviewer.jupyter.org/github/matteocourthoud/Machine-Learning-for-Economic-Analysis-2020/blob/master/5_regularization.ipynb)"
   ]
  }
 ],
 "metadata": {
  "kernelspec": {
   "display_name": "Python 3",
   "language": "python",
   "name": "python3"
  },
  "language_info": {
   "codemirror_mode": {
    "name": "ipython",
    "version": 3
   },
   "file_extension": ".py",
   "mimetype": "text/x-python",
   "name": "python",
   "nbconvert_exporter": "python",
   "pygments_lexer": "ipython3",
   "version": "3.8.5"
  }
 },
 "nbformat": 4,
 "nbformat_minor": 1
}
