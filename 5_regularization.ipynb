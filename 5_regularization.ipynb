{
 "cells": [
  {
   "cell_type": "markdown",
   "metadata": {},
   "source": [
    "# Session 5 - Model Selection and Regularization"
   ]
  },
  {
   "cell_type": "markdown",
   "metadata": {},
   "source": [
    "### Contents\n",
    "\n",
    "- [Subset Selection](#Subset-Selection)\n",
    "- [Shrinkage Methods](#Shrinkage-Methods)\n",
    "- [Principal Components Regression](#Principal-Components-Regression)\n",
    "- [Partial Least Squares](#Partial-Least-Squares)\n",
    "\n",
    "### Labs\n",
    "- [Subset Selection methods](#Lab-1:-Subset-Selection-Methods)\n",
    "- [Ridge Regression and the Lasso](#Lab-2:-Ridge-Regression-and-the-Lasso)\n",
    "- [PCR and PLS Regression](#Lab-3:-PCR-and-PLS-Regression)"
   ]
  },
  {
   "cell_type": "code",
   "execution_count": 116,
   "metadata": {},
   "outputs": [],
   "source": [
    "import pandas as pd\n",
    "import numpy as np\n",
    "import time\n",
    "import itertools\n",
    "import statsmodels.api as sm\n",
    "\n",
    "from numpy.random import normal, uniform\n",
    "from itertools import combinations\n",
    "from statsmodels.api import add_constant\n",
    "from statsmodels.regression.linear_model import OLS\n",
    "from sklearn.linear_model import LinearRegression, Ridge, Lasso, RidgeCV, LassoCV\n",
    "from sklearn.cross_decomposition import PLSRegression, PLSSVD\n",
    "from sklearn.model_selection import KFold, cross_val_score, train_test_split\n",
    "from sklearn.preprocessing import scale\n",
    "from sklearn.decomposition import PCA"
   ]
  },
  {
   "cell_type": "code",
   "execution_count": 2,
   "metadata": {},
   "outputs": [],
   "source": [
    "# Import matplotlib for graphs\n",
    "import matplotlib.pyplot as plt\n",
    "from mpl_toolkits.mplot3d import axes3d\n",
    "\n",
    "# Set global parameters\n",
    "%matplotlib inline\n",
    "plt.style.use('seaborn-white')\n",
    "plt.rcParams['figure.figsize'] = (8,5)\n",
    "plt.rcParams['figure.titlesize'] = 20\n",
    "plt.rcParams['axes.titlesize'] = 18\n",
    "plt.rcParams['axes.labelsize'] = 12\n",
    "plt.rcParams['legend.fontsize'] = 12"
   ]
  },
  {
   "cell_type": "markdown",
   "metadata": {},
   "source": [
    "## Subset Selection"
   ]
  },
  {
   "cell_type": "code",
   "execution_count": 3,
   "metadata": {},
   "outputs": [],
   "source": [
    "# Credit ratings dataset\n",
    "credit = pd.read_csv('data/Credit.csv', usecols=list(range(1,12)))"
   ]
  },
  {
   "cell_type": "code",
   "execution_count": 4,
   "metadata": {},
   "outputs": [
    {
     "data": {
      "text/html": [
       "<div>\n",
       "<style scoped>\n",
       "    .dataframe tbody tr th:only-of-type {\n",
       "        vertical-align: middle;\n",
       "    }\n",
       "\n",
       "    .dataframe tbody tr th {\n",
       "        vertical-align: top;\n",
       "    }\n",
       "\n",
       "    .dataframe thead th {\n",
       "        text-align: right;\n",
       "    }\n",
       "</style>\n",
       "<table border=\"1\" class=\"dataframe\">\n",
       "  <thead>\n",
       "    <tr style=\"text-align: right;\">\n",
       "      <th></th>\n",
       "      <th>Income</th>\n",
       "      <th>Limit</th>\n",
       "      <th>Rating</th>\n",
       "      <th>Cards</th>\n",
       "      <th>Age</th>\n",
       "      <th>Education</th>\n",
       "      <th>Gender</th>\n",
       "      <th>Student</th>\n",
       "      <th>Married</th>\n",
       "      <th>Ethnicity</th>\n",
       "      <th>Balance</th>\n",
       "    </tr>\n",
       "  </thead>\n",
       "  <tbody>\n",
       "    <tr>\n",
       "      <th>0</th>\n",
       "      <td>14.891</td>\n",
       "      <td>3606</td>\n",
       "      <td>283</td>\n",
       "      <td>2</td>\n",
       "      <td>34</td>\n",
       "      <td>11</td>\n",
       "      <td>Male</td>\n",
       "      <td>No</td>\n",
       "      <td>Yes</td>\n",
       "      <td>Caucasian</td>\n",
       "      <td>333</td>\n",
       "    </tr>\n",
       "    <tr>\n",
       "      <th>1</th>\n",
       "      <td>106.025</td>\n",
       "      <td>6645</td>\n",
       "      <td>483</td>\n",
       "      <td>3</td>\n",
       "      <td>82</td>\n",
       "      <td>15</td>\n",
       "      <td>Female</td>\n",
       "      <td>Yes</td>\n",
       "      <td>Yes</td>\n",
       "      <td>Asian</td>\n",
       "      <td>903</td>\n",
       "    </tr>\n",
       "    <tr>\n",
       "      <th>2</th>\n",
       "      <td>104.593</td>\n",
       "      <td>7075</td>\n",
       "      <td>514</td>\n",
       "      <td>4</td>\n",
       "      <td>71</td>\n",
       "      <td>11</td>\n",
       "      <td>Male</td>\n",
       "      <td>No</td>\n",
       "      <td>No</td>\n",
       "      <td>Asian</td>\n",
       "      <td>580</td>\n",
       "    </tr>\n",
       "    <tr>\n",
       "      <th>3</th>\n",
       "      <td>148.924</td>\n",
       "      <td>9504</td>\n",
       "      <td>681</td>\n",
       "      <td>3</td>\n",
       "      <td>36</td>\n",
       "      <td>11</td>\n",
       "      <td>Female</td>\n",
       "      <td>No</td>\n",
       "      <td>No</td>\n",
       "      <td>Asian</td>\n",
       "      <td>964</td>\n",
       "    </tr>\n",
       "    <tr>\n",
       "      <th>4</th>\n",
       "      <td>55.882</td>\n",
       "      <td>4897</td>\n",
       "      <td>357</td>\n",
       "      <td>2</td>\n",
       "      <td>68</td>\n",
       "      <td>16</td>\n",
       "      <td>Male</td>\n",
       "      <td>No</td>\n",
       "      <td>Yes</td>\n",
       "      <td>Caucasian</td>\n",
       "      <td>331</td>\n",
       "    </tr>\n",
       "  </tbody>\n",
       "</table>\n",
       "</div>"
      ],
      "text/plain": [
       "    Income  Limit  Rating  Cards  Age  Education  Gender Student Married  \\\n",
       "0   14.891   3606     283      2   34         11    Male      No     Yes   \n",
       "1  106.025   6645     483      3   82         15  Female     Yes     Yes   \n",
       "2  104.593   7075     514      4   71         11    Male      No      No   \n",
       "3  148.924   9504     681      3   36         11  Female      No      No   \n",
       "4   55.882   4897     357      2   68         16    Male      No     Yes   \n",
       "\n",
       "   Ethnicity  Balance  \n",
       "0  Caucasian      333  \n",
       "1      Asian      903  \n",
       "2      Asian      580  \n",
       "3      Asian      964  \n",
       "4  Caucasian      331  "
      ]
     },
     "execution_count": 4,
     "metadata": {},
     "output_type": "execute_result"
    }
   ],
   "source": [
    "credit.head()"
   ]
  },
  {
   "cell_type": "code",
   "execution_count": 5,
   "metadata": {},
   "outputs": [],
   "source": [
    "# X and y\n",
    "X = credit.loc[:, credit.columns != 'Balance']\n",
    "y = credit.loc[:,'Balance']"
   ]
  },
  {
   "cell_type": "code",
   "execution_count": 6,
   "metadata": {},
   "outputs": [],
   "source": [
    "# Init RSS and R2\n",
    "RSS = np.zeros((0,2))\n",
    "R2 = np.zeros((0,2))\n",
    "\n",
    "# Categorical variables \n",
    "categ_cols = [\"Gender\", \"Student\", \"Married\", \"Ethnicity\"]\n",
    "\n",
    "# Loop over all possible combinations of regressions\n",
    "K = np.shape(X)[1]\n",
    "for k in range(K+1):\n",
    "    for i in combinations(range(K), k):\n",
    "        \n",
    "        # Subset X\n",
    "        X_subset = X.iloc[:,list(i)]\n",
    "        if k>0:\n",
    "            cols = list(set(categ_cols) & set(X_subset.columns))\n",
    "            X_subset = pd.get_dummies(X_subset, columns=cols, drop_first=True)\n",
    "\n",
    "        # Regress\n",
    "        reg = OLS(y,add_constant(X_subset)).fit()\n",
    "\n",
    "        # Metrics\n",
    "        r2 = np.reshape([k,reg.rsquared], (1,-1))\n",
    "        R2 = np.append(R2, r2, axis=0)\n",
    "        rss = np.reshape([k,reg.ssr], (1,-1))\n",
    "        RSS = np.append(RSS, rss, axis=0)"
   ]
  },
  {
   "cell_type": "code",
   "execution_count": 7,
   "metadata": {},
   "outputs": [],
   "source": [
    "# Save best scores\n",
    "R2_best = [np.max(R2[R2[:,0]==k,1]) for k in range(K+1)]\n",
    "RSS_best = [np.min(RSS[RSS[:,0]==k,1]) for k in range(K+1)]"
   ]
  },
  {
   "cell_type": "code",
   "execution_count": 8,
   "metadata": {
    "scrolled": true
   },
   "outputs": [
    {
     "data": {
      "image/png": "[encoded data removed]",
      "text/plain": [
       "<Figure size 864x360 with 2 Axes>"
      ]
     },
     "metadata": {},
     "output_type": "display_data"
    }
   ],
   "source": [
    "# Figure 6.1\n",
    "fig, (ax1,ax2) = plt.subplots(1,2, figsize=(12,5))\n",
    "fig.suptitle('Figure 6.1', fontsize=18)\n",
    "\n",
    "# MSE\n",
    "ax1.scatter(x=RSS[:,0], y=RSS[:,1], facecolors='None', edgecolors='k', alpha=0.5);\n",
    "ax1.plot(range(K+1), RSS_best, c='r');\n",
    "ax1.set_xlabel('Number of Predictors'); ax1.set_ylabel('RSS');\n",
    "\n",
    "# R2\n",
    "ax2.scatter(x=R2[:,0], y=R2[:,1], facecolors='None', edgecolors='k', alpha=0.5);\n",
    "ax2.plot(range(K+1), R2_best, c='r');\n",
    "ax2.set_xlabel('Number of Predictors'); ax2.set_ylabel('R2');"
   ]
  },
  {
   "cell_type": "code",
   "execution_count": 9,
   "metadata": {},
   "outputs": [],
   "source": [
    "# Init metrics\n",
    "AIC = np.zeros((0,2))\n",
    "BIC = np.zeros((0,2))\n",
    "R2_adj = np.zeros((0,2))\n",
    "\n",
    "# Loop over all possible combinations of regressions\n",
    "for k in range(K+1):\n",
    "    for i in combinations(range(K), k):\n",
    "        \n",
    "        # Subset X\n",
    "        X_subset = X.iloc[:,list(i)]\n",
    "        if k>0:\n",
    "            cols = list(set(categ_cols) & set(X_subset.columns))\n",
    "            X_subset = pd.get_dummies(X_subset, columns=cols, drop_first=True)\n",
    "\n",
    "        # Regress\n",
    "        reg = OLS(y,add_constant(X_subset)).fit()\n",
    "\n",
    "        # Advanced Metrics\n",
    "        aic = np.reshape([k,reg.aic], (1,-1))\n",
    "        AIC = np.append(AIC, aic, axis=0)\n",
    "        bic = np.reshape([k,reg.bic], (1,-1))\n",
    "        BIC = np.append(BIC, bic, axis=0)\n",
    "        r2_adj = np.reshape([k,reg.rsquared_adj], (1,-1))\n",
    "        R2_adj = np.append(R2_adj, r2_adj, axis=0)"
   ]
  },
  {
   "cell_type": "code",
   "execution_count": 10,
   "metadata": {},
   "outputs": [],
   "source": [
    "# Save best scores\n",
    "AIC_best = [np.min(AIC[AIC[:,0]==k,1]) for k in range(K+1)]\n",
    "BIC_best = [np.min(BIC[BIC[:,0]==k,1]) for k in range(K+1)]\n",
    "R2_adj_best = [np.max(R2_adj[R2_adj[:,0]==k,1]) for k in range(K+1)]"
   ]
  },
  {
   "cell_type": "code",
   "execution_count": 11,
   "metadata": {
    "scrolled": false
   },
   "outputs": [
    {
     "data": {
      "image/png": "[encoded data removed]",
      "text/plain": [
       "<Figure size 1152x360 with 3 Axes>"
      ]
     },
     "metadata": {},
     "output_type": "display_data"
    }
   ],
   "source": [
    "# Figure 6.2\n",
    "fig, (ax1,ax2,ax3) = plt.subplots(1,3, figsize=(16,5))\n",
    "fig.suptitle('Figure 6.2', fontsize=18)\n",
    "\n",
    "# AIC\n",
    "ax1.scatter(x=AIC[:,0], y=AIC[:,1], facecolors='None', edgecolors='k', alpha=0.5);\n",
    "ax1.plot(range(K+1),AIC_best, c='r');\n",
    "ax1.scatter(np.argmin(AIC_best), np.min(AIC_best), marker='x', s=300)\n",
    "ax1.set_xlabel('Number of Predictors'); ax1.set_ylabel('AIC');\n",
    "\n",
    "# BIC\n",
    "ax2.scatter(x=BIC[:,0], y=BIC[:,1], facecolors='None', edgecolors='k', alpha=0.5);\n",
    "ax2.plot(range(K+1), BIC_best, c='r');\n",
    "ax2.scatter(np.argmin(BIC_best), np.min(BIC_best), marker='x', s=300)\n",
    "ax2.set_xlabel('Number of Predictors'); ax2.set_ylabel('BIC');\n",
    "\n",
    "# R2 adj\n",
    "ax3.scatter(x=R2_adj[:,0], y=R2_adj[:,1], facecolors='None', edgecolors='k', alpha=0.5);\n",
    "ax3.plot(range(K+1), R2_adj_best, c='r');\n",
    "ax3.scatter(np.argmax(R2_adj_best), np.max(R2_adj_best), marker='x', s=300)\n",
    "ax3.set_xlabel('Number of Predictors'); ax3.set_ylabel('R2_adj');"
   ]
  },
  {
   "cell_type": "markdown",
   "metadata": {},
   "source": [
    "## Shrinkage Methods"
   ]
  },
  {
   "cell_type": "markdown",
   "metadata": {},
   "source": [
    "### Ridge Regression"
   ]
  },
  {
   "cell_type": "markdown",
   "metadata": {},
   "source": [
    "The __glmnet__ algorithms in R optimize the objective function using cyclical coordinate descent, while scikit-learn Ridge regression uses linear least squares with L2 regularization. They are rather different implementations, but the general principles are the same.\n",
    "\n",
    "The __glmnet() function in R__ optimizes:\n",
    "\n",
    "$$ \n",
    "\\frac{1}{N}|| X\\beta-y||^2_2+\\lambda\\bigg(\\frac{1}{2}(1−\\alpha)||\\beta||^2_2 \\ +\\ \\alpha||\\beta||_1\\bigg) \n",
    "$$\n",
    "\n",
    "(See R documentation and https://cran.r-project.org/web/packages/glmnet/vignettes/glmnet_beta.pdf)\n",
    "The function supports L1 and L2 regularization. For just Ridge regression we need to use $\\alpha = 0 $. This reduces the above cost function to\n",
    "\n",
    "$$ \n",
    "\\frac{1}{N}|| X\\beta-y||^2_2+\\frac{1}{2}\\lambda ||\\beta||^2_2 \n",
    "$$\n",
    "    \n",
    "The __sklearn Ridge()__ function optimizes:\n",
    "\n",
    "$$ \n",
    "||X\\beta - y||^2_2 + \\alpha ||\\beta||^2_2 \n",
    "$$\n",
    "\n",
    "which is equivalent to optimizing\n",
    "\n",
    "$$ \n",
    "\\frac{1}{N}||X\\beta - y||^2_2 + \\frac{\\alpha}{N} ||\\beta||^2_2 \n",
    "$$"
   ]
  },
  {
   "cell_type": "code",
   "execution_count": 12,
   "metadata": {},
   "outputs": [],
   "source": [
    "# X and y\n",
    "categ_cols = [\"Gender\", \"Student\", \"Married\", \"Ethnicity\"]\n",
    "X = credit.loc[:, credit.columns != 'Balance']\n",
    "X = pd.get_dummies(X, columns=categ_cols, drop_first=True)\n",
    "y = credit.loc[:,'Balance']\n",
    "n = len(credit)"
   ]
  },
  {
   "cell_type": "code",
   "execution_count": 13,
   "metadata": {},
   "outputs": [],
   "source": [
    "# Init alpha grid\n",
    "n_grid = 100\n",
    "alphas = 10**np.linspace(-2,5,n_grid).reshape(-1,1)\n",
    "ridge = Ridge()\n",
    "coefs = []\n",
    "\n",
    "# Loop over values of alpha\n",
    "for a in alphas:\n",
    "    ridge.set_params(alpha=a)\n",
    "    ridge.fit(scale(X), y)\n",
    "    coefs.append(ridge.coef_)\n",
    "coefs = np.reshape(coefs,(n_grid,-1))"
   ]
  },
  {
   "cell_type": "code",
   "execution_count": 14,
   "metadata": {},
   "outputs": [],
   "source": [
    "# OLS regression\n",
    "reg = LinearRegression().fit(scale(X),y)\n",
    "ols_coefs = reg.coef_;\n",
    "\n",
    "# Relative magnitude\n",
    "mod_ols = np.linalg.norm(ols_coefs)\n",
    "rel_beta = [np.linalg.norm(coefs[k,:])/mod_ols for k in range(n_grid)]\n",
    "rel_beta = np.reshape(rel_beta, (-1,1))"
   ]
  },
  {
   "cell_type": "code",
   "execution_count": 15,
   "metadata": {
    "scrolled": true
   },
   "outputs": [
    {
     "data": {
      "image/png": "[encoded data removed]",
      "text/plain": [
       "<Figure size 864x360 with 2 Axes>"
      ]
     },
     "metadata": {},
     "output_type": "display_data"
    }
   ],
   "source": [
    "# Figure 6.4\n",
    "fig, (ax1,ax2) = plt.subplots(1,2, figsize=(12,5))\n",
    "fig.suptitle('Figure 6.4', fontsize=18)\n",
    "\n",
    "highlight = [0,1,2,7];\n",
    "\n",
    "# Plot coefficients - absolute\n",
    "ax1.plot(alphas, coefs[:,highlight], alpha=1)\n",
    "ax1.plot(alphas, coefs, c='grey', alpha=0.3)\n",
    "ax1.set_xscale('log')\n",
    "ax1.set_xlabel('lambda'); ax1.set_ylabel('Standardized coefficients');\n",
    "ax1.legend(['Income', 'Limit', 'Rating', 'Student'], fontsize=12)\n",
    "\n",
    "# Plot coefficients - relative\n",
    "ax2.plot(rel_beta, coefs[:,highlight], alpha=1)\n",
    "ax2.plot(rel_beta, coefs, c='grey', alpha=0.3)\n",
    "ax2.set_xlabel('Relative Beta'); ax2.set_ylabel('Standardized coefficients');\n"
   ]
  },
  {
   "cell_type": "markdown",
   "metadata": {},
   "source": [
    "The above plot shows that the Ridge coefficients get larger when we decrease alpha."
   ]
  },
  {
   "cell_type": "code",
   "execution_count": 18,
   "metadata": {},
   "outputs": [],
   "source": [
    "np.random.seed(3)\n",
    "\n",
    "# Generate random data\n",
    "n = 50\n",
    "k = 45\n",
    "k0 = k\n",
    "X_train = normal(0,1,(n,k))\n",
    "e_train = normal(0,k0**0.5,(n,1))\n",
    "b0 = normal(0,1,(k0,1))\n",
    "\n",
    "# y only depends on the first two columns\n",
    "y_train = X_train[:,0:k0] @ b0 + e_train\n",
    "\n",
    "# Test\n",
    "X_test = normal(0,1,(n,k))\n",
    "e_test = normal(0,k0**0.5,(n,1))\n",
    "f_test = X_test[:,0:k0] @ b0\n",
    "y_test = f_test + e_test"
   ]
  },
  {
   "cell_type": "code",
   "execution_count": 19,
   "metadata": {},
   "outputs": [],
   "source": [
    "# Init alpha grid\n",
    "n_grid = 100\n",
    "df = pd.DataFrame({'alpha':10**np.linspace(-2,5,n_grid)})\n",
    "coefs = []\n",
    "\n",
    "# Loop over values of alpha\n",
    "for i in range(len(df)):\n",
    "    a = df.loc[i,'alpha']\n",
    "    ridge = Ridge(alpha=a).fit(scale(X_train), y_train)\n",
    "    y_hat = ridge.predict(scale(X_test))\n",
    "    df.loc[i,'var'] = np.var(y_hat)\n",
    "    df.loc[i,'mse'] = np.mean((y_test - y_hat)**2)\n",
    "    df.loc[i,'bias2'] = df.loc[i,'mse'] - df.loc[i,'var'] - np.var(e_test)\n",
    "    coefs.append(ridge.coef_)\n",
    "coefs = np.reshape(coefs,(n_grid,-1))"
   ]
  },
  {
   "cell_type": "code",
   "execution_count": 20,
   "metadata": {},
   "outputs": [],
   "source": [
    "# OLS regression\n",
    "reg = LinearRegression().fit(scale(X_train),y_train)\n",
    "ols_coefs = reg.coef_;\n",
    "\n",
    "# Relative magnitude\n",
    "mod_ols = np.linalg.norm(ols_coefs)\n",
    "rel_beta = [np.linalg.norm(coefs[k,:])/mod_ols for k in range(n_grid)]\n",
    "rel_beta = np.reshape(rel_beta, (-1,1))"
   ]
  },
  {
   "cell_type": "code",
   "execution_count": 21,
   "metadata": {
    "scrolled": false
   },
   "outputs": [
    {
     "data": {
      "image/png": "[encoded data removed]",
      "text/plain": [
       "<Figure size 864x360 with 2 Axes>"
      ]
     },
     "metadata": {},
     "output_type": "display_data"
    }
   ],
   "source": [
    "# Figure 6.4\n",
    "fig, (ax1,ax2) = plt.subplots(1,2, figsize=(12,5))\n",
    "fig.suptitle('Figure 6.5', fontsize=18)\n",
    "\n",
    "# MSE\n",
    "ax1.plot(df['alpha'], df[['bias2','var','mse']]);\n",
    "ax1.set_xscale('log');\n",
    "ax1.set_xlabel('lambda'); ax1.set_ylabel('Mean Squared Error');\n",
    "ax1.legend(['Bias2','Variance','MSE'], fontsize=12);\n",
    "\n",
    "# MSE\n",
    "ax2.plot(rel_beta, df[['bias2','var','mse']]);\n",
    "ax2.set_xlabel('Relative Beta'); ax1.set_ylabel('Mean Squared Error');\n",
    "ax2.legend(['Bias2','Variance','MSE'], fontsize=12);"
   ]
  },
  {
   "cell_type": "markdown",
   "metadata": {},
   "source": [
    "### 6.2.2 Lasso"
   ]
  },
  {
   "cell_type": "code",
   "execution_count": 22,
   "metadata": {},
   "outputs": [],
   "source": [
    "# X and y\n",
    "categ_cols = [\"Gender\", \"Student\", \"Married\", \"Ethnicity\"]\n",
    "X = credit.loc[:, credit.columns != 'Balance']\n",
    "X = pd.get_dummies(X, columns=categ_cols, drop_first=True)\n",
    "y = credit.loc[:,'Balance']\n",
    "n = len(credit)"
   ]
  },
  {
   "cell_type": "code",
   "execution_count": 24,
   "metadata": {},
   "outputs": [],
   "source": [
    "# Init alpha grid\n",
    "n_grid = 100\n",
    "alphas = 10**np.linspace(0,3,n_grid).reshape(-1,1)\n",
    "lasso = Lasso()\n",
    "coefs = []\n",
    "\n",
    "# Loop over values of alpha\n",
    "for a in alphas:\n",
    "    lasso.set_params(alpha=a)\n",
    "    lasso.fit(scale(X), y)\n",
    "    coefs.append(lasso.coef_)\n",
    "coefs = np.reshape(coefs,(n_grid,-1))"
   ]
  },
  {
   "cell_type": "code",
   "execution_count": 25,
   "metadata": {},
   "outputs": [],
   "source": [
    "# OLS regression\n",
    "reg = LinearRegression().fit(scale(X),y)\n",
    "ols_coefs = reg.coef_;\n",
    "\n",
    "# Relative magnitude\n",
    "mod_ols = np.linalg.norm(ols_coefs)\n",
    "rel_beta = [np.linalg.norm(coefs[k,:])/mod_ols for k in range(n_grid)]\n",
    "rel_beta = np.reshape(rel_beta, (-1,1))"
   ]
  },
  {
   "cell_type": "code",
   "execution_count": 26,
   "metadata": {
    "scrolled": true
   },
   "outputs": [
    {
     "data": {
      "image/png": "[encoded data removed]",
      "text/plain": [
       "<Figure size 864x360 with 2 Axes>"
      ]
     },
     "metadata": {},
     "output_type": "display_data"
    }
   ],
   "source": [
    "# Figure 6.6\n",
    "fig, (ax1,ax2) = plt.subplots(1,2, figsize=(12,5))\n",
    "fig.suptitle('Figure 6.6', fontsize=18)\n",
    "\n",
    "highlight = [0,1,2,7];\n",
    "\n",
    "# Plot coefficients - absolute\n",
    "ax1.plot(alphas, coefs[:,highlight], alpha=1)\n",
    "ax1.plot(alphas, coefs, c='grey', alpha=0.3)\n",
    "ax1.set_xscale('log')\n",
    "ax1.set_xlabel('lambda'); ax1.set_ylabel('Standardized coefficients');\n",
    "ax1.legend(['Income', 'Limit', 'Rating', 'Student'], fontsize=12)\n",
    "\n",
    "# Plot coefficients - relative\n",
    "ax2.plot(rel_beta, coefs[:,highlight], alpha=1)\n",
    "ax2.plot(rel_beta, coefs, c='grey', alpha=0.3)\n",
    "ax2.set_xlabel('relative mod beta'); ax2.set_ylabel('Standardized coefficients');\n"
   ]
  },
  {
   "cell_type": "code",
   "execution_count": 27,
   "metadata": {
    "scrolled": true
   },
   "outputs": [],
   "source": [
    "# Init alpha grid\n",
    "n_grid = 100\n",
    "df = pd.DataFrame({'alpha':10**np.linspace(-1,1,n_grid)})\n",
    "coefs = []\n",
    "\n",
    "# Loop over values of alpha\n",
    "for i in range(len(df)):\n",
    "    a = df.loc[i,'alpha']\n",
    "    lasso = Lasso(alpha=a).fit(scale(X_train), y_train)\n",
    "    y_hat = lasso.predict(scale(X_test))\n",
    "    df.loc[i,'var'] = np.var(y_hat)\n",
    "    df.loc[i,'mse'] = np.mean((y_test - y_hat)**2)\n",
    "    df.loc[i,'bias2'] = np.mean((y_hat - f_test)**2)\n",
    "    df.loc[i,'bias2'] = df.loc[i,'mse'] - df.loc[i,'var'] - np.var(e_test)\n",
    "    coefs.append(lasso.coef_)\n",
    "coefs = np.reshape(coefs,(n_grid,-1))"
   ]
  },
  {
   "cell_type": "code",
   "execution_count": 28,
   "metadata": {},
   "outputs": [],
   "source": [
    "# OLS regression\n",
    "ols_reg = LinearRegression().fit(scale(X_train),y_train)\n",
    "ols_coefs = ols_reg.coef_;\n",
    "\n",
    "# Relative magnitude\n",
    "mod_ols = np.linalg.norm(ols_coefs)\n",
    "rel_beta = [np.linalg.norm(coefs[k,:])/mod_ols for k in range(n_grid)]\n",
    "rel_beta = np.reshape(rel_beta, (-1,1))"
   ]
  },
  {
   "cell_type": "code",
   "execution_count": 29,
   "metadata": {
    "scrolled": true
   },
   "outputs": [
    {
     "data": {
      "image/png": "[encoded data removed]",
      "text/plain": [
       "<Figure size 864x360 with 2 Axes>"
      ]
     },
     "metadata": {},
     "output_type": "display_data"
    }
   ],
   "source": [
    "# Figure 6.8\n",
    "fig, (ax1,ax2) = plt.subplots(1,2, figsize=(12,5))\n",
    "fig.suptitle('Figure 6.8', fontsize=18)\n",
    "\n",
    "# MSE\n",
    "ax1.plot(df['alpha'], df[['bias2','var','mse']]);\n",
    "ax1.set_xscale('log');\n",
    "ax1.set_xlabel('lambda'); ax1.set_ylabel('Mean Squared Error');\n",
    "ax1.legend(['Bias2','Variance','MSE'], fontsize=12);\n",
    "\n",
    "# MSE\n",
    "ax2.plot(rel_beta, df[['bias2','var','mse']]);\n",
    "ax2.set_xlabel('Relative Beta'); ax1.set_ylabel('Mean Squared Error');\n",
    "ax2.legend(['Bias2','Variance','MSE'], fontsize=12);"
   ]
  },
  {
   "cell_type": "code",
   "execution_count": 32,
   "metadata": {},
   "outputs": [],
   "source": [
    "np.random.seed(3)\n",
    "\n",
    "# Generate random data\n",
    "n = 100\n",
    "k = n\n",
    "X = np.eye(k)\n",
    "e = normal(0,1,(n,1))\n",
    "b0 = uniform(-1,1,(k,1))\n",
    "y = X @ b0 + e"
   ]
  },
  {
   "cell_type": "code",
   "execution_count": 33,
   "metadata": {},
   "outputs": [],
   "source": [
    "# OLS regression\n",
    "reg = LinearRegression().fit(X,y)\n",
    "ols_coefs = reg.coef_;\n",
    "\n",
    "# Ridge regression\n",
    "ridge = Ridge(alpha=1).fit(X,y)\n",
    "ridge_coefs = ridge.coef_;\n",
    "\n",
    "# Ridge regression\n",
    "lasso = Lasso(alpha=0.01).fit(X,y)\n",
    "lasso_coefs = lasso.coef_.reshape(1,-1);\n",
    "\n",
    "# sort\n",
    "order = np.argsort(y.reshape(1,-1), axis=1)\n",
    "y_sorted = np.take_along_axis(ols_coefs, order, axis=1) \n",
    "ols_coefs = np.take_along_axis(ols_coefs, order, axis=1) \n",
    "ridge_coefs = np.take_along_axis(ridge_coefs, order, axis=1) \n",
    "lasso_coefs = np.take_along_axis(lasso_coefs, order, axis=1) "
   ]
  },
  {
   "cell_type": "code",
   "execution_count": 34,
   "metadata": {
    "scrolled": true
   },
   "outputs": [
    {
     "data": {
      "image/png": "[encoded data removed]",
      "text/plain": [
       "<Figure size 864x360 with 2 Axes>"
      ]
     },
     "metadata": {},
     "output_type": "display_data"
    }
   ],
   "source": [
    "# Figure 6.10\n",
    "fig, (ax1,ax2) = plt.subplots(1,2, figsize=(12,5))\n",
    "fig.suptitle('Figure 6.10', fontsize=18)\n",
    "\n",
    "# Ridge\n",
    "ax1.plot(y_sorted.T, ols_coefs.T)\n",
    "ax1.plot(y_sorted.T, ridge_coefs.T)\n",
    "ax1.set_xlabel('True Coefficient'); ax1.set_ylabel('Estimated Coefficient');\n",
    "ax1.legend(['OLS','Ridge'], fontsize=12);\n",
    "\n",
    "# Lasso\n",
    "ax2.plot(y_sorted.T, ols_coefs.T)\n",
    "ax2.plot(y_sorted.T, lasso_coefs.T)\n",
    "ax2.set_xlabel('True Coefficient'); ax2.set_ylabel('Estimated Coefficient');\n",
    "ax2.legend(['OLS','Lasso'], fontsize=12);"
   ]
  },
  {
   "cell_type": "markdown",
   "metadata": {},
   "source": [
    "### 6.2.3 Selecting the Tuning Parameter"
   ]
  },
  {
   "cell_type": "code",
   "execution_count": 35,
   "metadata": {},
   "outputs": [],
   "source": [
    "# X and y\n",
    "categ_cols = [\"Gender\", \"Student\", \"Married\", \"Ethnicity\"]\n",
    "X = credit.loc[:, credit.columns != 'Balance']\n",
    "X = pd.get_dummies(X, columns=categ_cols, drop_first=True).values\n",
    "y = credit.loc[:,'Balance']\n",
    "n = len(credit)"
   ]
  },
  {
   "cell_type": "code",
   "execution_count": 36,
   "metadata": {},
   "outputs": [],
   "source": [
    "from sklearn.model_selection import LeaveOneOut\n",
    "from sklearn.metrics import mean_squared_error\n",
    "\n",
    "# Get Mse Function\n",
    "def cv_ridge(X,y,a):\n",
    "    mse = []\n",
    "    # Generate splits\n",
    "    loo = LeaveOneOut()\n",
    "    loo.get_n_splits(X)\n",
    "    # Loop over splits\n",
    "    for train_index, test_index in loo.split(X):\n",
    "        X_train, X_test = X[train_index], X[test_index]\n",
    "        y_train, y_test = y[train_index], y[test_index]\n",
    "        ridge = Ridge(alpha=a).fit(X_train, y_train)\n",
    "        y_hat = ridge.predict(X_test)\n",
    "        mse.append(mean_squared_error(y_test, y_hat))\n",
    "    return np.mean(mse)"
   ]
  },
  {
   "cell_type": "code",
   "execution_count": 37,
   "metadata": {},
   "outputs": [],
   "source": [
    "# Compute MSE over grid of alphas\n",
    "# WARNING! takes time\n",
    "n_grid = 30\n",
    "alphas = 10**np.linspace(-3,1,n_grid).reshape(-1,1)\n",
    "MSE = [cv_ridge(X,y,a) for a in alphas]"
   ]
  },
  {
   "cell_type": "code",
   "execution_count": 38,
   "metadata": {},
   "outputs": [
    {
     "name": "stdout",
     "output_type": "stream",
     "text": [
      "Best alpha by LOO CV: 0.16102620275609392\n"
     ]
    }
   ],
   "source": [
    "# Find minimum alpha\n",
    "alpha_min = alphas[np.argmin(MSE)]\n",
    "print('Best alpha by LOO CV:',alpha_min[0])"
   ]
  },
  {
   "cell_type": "code",
   "execution_count": 39,
   "metadata": {},
   "outputs": [],
   "source": [
    "# Get coefficients\n",
    "coefs = []\n",
    "\n",
    "# Loop over values of alpha\n",
    "for a in alphas:\n",
    "    ridge = Ridge(alpha=a).fit(scale(X), y)\n",
    "    coefs.append(ridge.coef_)\n",
    "coefs = np.reshape(coefs,(n_grid,-1))"
   ]
  },
  {
   "cell_type": "code",
   "execution_count": 40,
   "metadata": {
    "scrolled": false
   },
   "outputs": [
    {
     "data": {
      "image/png": "[encoded data removed]",
      "text/plain": [
       "<Figure size 864x360 with 2 Axes>"
      ]
     },
     "metadata": {},
     "output_type": "display_data"
    }
   ],
   "source": [
    "# Figure 6.12\n",
    "fig, (ax1,ax2) = plt.subplots(1,2, figsize=(12,5))\n",
    "fig.suptitle('Figure 6.12', fontsize=18)\n",
    "\n",
    "# MSE by LOO CV\n",
    "ax1.plot(alphas, MSE, alpha=1);\n",
    "ax1.axvline(alpha_min, c='k', ls='--')\n",
    "ax1.set_xscale('log')\n",
    "ax1.set_xlabel('lambda'); ax1.set_ylabel('MSE');\n",
    "\n",
    "highlight = [0,1,2,7];\n",
    "\n",
    "# Plot coefficients - absolute\n",
    "ax2.plot(alphas, coefs[:,highlight], alpha=1)\n",
    "ax2.plot(alphas, coefs, c='grey', alpha=0.3)\n",
    "ax2.axvline(alpha_min, c='k', ls='--')\n",
    "ax2.set_xscale('log')\n",
    "ax2.set_xlabel('lambda'); ax2.set_ylabel('Standardized coefficients');\n",
    "ax2.legend(['Income', 'Limit', 'Rating', 'Student'], fontsize=10);\n"
   ]
  },
  {
   "cell_type": "markdown",
   "metadata": {},
   "source": [
    "# Labs"
   ]
  },
  {
   "cell_type": "markdown",
   "metadata": {},
   "source": [
    "## Lab 1: Subset Selection Methods"
   ]
  },
  {
   "cell_type": "markdown",
   "metadata": {},
   "source": [
    "### Lab1.1: Best Subset Selection"
   ]
  },
  {
   "cell_type": "markdown",
   "metadata": {},
   "source": [
    "Here we apply the best subset selection approach to the Hitters data. We\n",
    "wish to predict a baseball player’s Salary on the basis of various statistics\n",
    "associated with performance in the previous year. Let's take a quick look:"
   ]
  },
  {
   "cell_type": "code",
   "execution_count": 41,
   "metadata": {},
   "outputs": [
    {
     "data": {
      "text/html": [
       "<div>\n",
       "<style scoped>\n",
       "    .dataframe tbody tr th:only-of-type {\n",
       "        vertical-align: middle;\n",
       "    }\n",
       "\n",
       "    .dataframe tbody tr th {\n",
       "        vertical-align: top;\n",
       "    }\n",
       "\n",
       "    .dataframe thead th {\n",
       "        text-align: right;\n",
       "    }\n",
       "</style>\n",
       "<table border=\"1\" class=\"dataframe\">\n",
       "  <thead>\n",
       "    <tr style=\"text-align: right;\">\n",
       "      <th></th>\n",
       "      <th>Unnamed: 0</th>\n",
       "      <th>AtBat</th>\n",
       "      <th>Hits</th>\n",
       "      <th>HmRun</th>\n",
       "      <th>Runs</th>\n",
       "      <th>RBI</th>\n",
       "      <th>Walks</th>\n",
       "      <th>Years</th>\n",
       "      <th>CAtBat</th>\n",
       "      <th>CHits</th>\n",
       "      <th>...</th>\n",
       "      <th>CRuns</th>\n",
       "      <th>CRBI</th>\n",
       "      <th>CWalks</th>\n",
       "      <th>League</th>\n",
       "      <th>Division</th>\n",
       "      <th>PutOuts</th>\n",
       "      <th>Assists</th>\n",
       "      <th>Errors</th>\n",
       "      <th>Salary</th>\n",
       "      <th>NewLeague</th>\n",
       "    </tr>\n",
       "  </thead>\n",
       "  <tbody>\n",
       "    <tr>\n",
       "      <th>0</th>\n",
       "      <td>-Andy Allanson</td>\n",
       "      <td>293</td>\n",
       "      <td>66</td>\n",
       "      <td>1</td>\n",
       "      <td>30</td>\n",
       "      <td>29</td>\n",
       "      <td>14</td>\n",
       "      <td>1</td>\n",
       "      <td>293</td>\n",
       "      <td>66</td>\n",
       "      <td>...</td>\n",
       "      <td>30</td>\n",
       "      <td>29</td>\n",
       "      <td>14</td>\n",
       "      <td>A</td>\n",
       "      <td>E</td>\n",
       "      <td>446</td>\n",
       "      <td>33</td>\n",
       "      <td>20</td>\n",
       "      <td>NaN</td>\n",
       "      <td>A</td>\n",
       "    </tr>\n",
       "    <tr>\n",
       "      <th>1</th>\n",
       "      <td>-Alan Ashby</td>\n",
       "      <td>315</td>\n",
       "      <td>81</td>\n",
       "      <td>7</td>\n",
       "      <td>24</td>\n",
       "      <td>38</td>\n",
       "      <td>39</td>\n",
       "      <td>14</td>\n",
       "      <td>3449</td>\n",
       "      <td>835</td>\n",
       "      <td>...</td>\n",
       "      <td>321</td>\n",
       "      <td>414</td>\n",
       "      <td>375</td>\n",
       "      <td>N</td>\n",
       "      <td>W</td>\n",
       "      <td>632</td>\n",
       "      <td>43</td>\n",
       "      <td>10</td>\n",
       "      <td>475.0</td>\n",
       "      <td>N</td>\n",
       "    </tr>\n",
       "    <tr>\n",
       "      <th>2</th>\n",
       "      <td>-Alvin Davis</td>\n",
       "      <td>479</td>\n",
       "      <td>130</td>\n",
       "      <td>18</td>\n",
       "      <td>66</td>\n",
       "      <td>72</td>\n",
       "      <td>76</td>\n",
       "      <td>3</td>\n",
       "      <td>1624</td>\n",
       "      <td>457</td>\n",
       "      <td>...</td>\n",
       "      <td>224</td>\n",
       "      <td>266</td>\n",
       "      <td>263</td>\n",
       "      <td>A</td>\n",
       "      <td>W</td>\n",
       "      <td>880</td>\n",
       "      <td>82</td>\n",
       "      <td>14</td>\n",
       "      <td>480.0</td>\n",
       "      <td>A</td>\n",
       "    </tr>\n",
       "    <tr>\n",
       "      <th>3</th>\n",
       "      <td>-Andre Dawson</td>\n",
       "      <td>496</td>\n",
       "      <td>141</td>\n",
       "      <td>20</td>\n",
       "      <td>65</td>\n",
       "      <td>78</td>\n",
       "      <td>37</td>\n",
       "      <td>11</td>\n",
       "      <td>5628</td>\n",
       "      <td>1575</td>\n",
       "      <td>...</td>\n",
       "      <td>828</td>\n",
       "      <td>838</td>\n",
       "      <td>354</td>\n",
       "      <td>N</td>\n",
       "      <td>E</td>\n",
       "      <td>200</td>\n",
       "      <td>11</td>\n",
       "      <td>3</td>\n",
       "      <td>500.0</td>\n",
       "      <td>N</td>\n",
       "    </tr>\n",
       "    <tr>\n",
       "      <th>4</th>\n",
       "      <td>-Andres Galarraga</td>\n",
       "      <td>321</td>\n",
       "      <td>87</td>\n",
       "      <td>10</td>\n",
       "      <td>39</td>\n",
       "      <td>42</td>\n",
       "      <td>30</td>\n",
       "      <td>2</td>\n",
       "      <td>396</td>\n",
       "      <td>101</td>\n",
       "      <td>...</td>\n",
       "      <td>48</td>\n",
       "      <td>46</td>\n",
       "      <td>33</td>\n",
       "      <td>N</td>\n",
       "      <td>E</td>\n",
       "      <td>805</td>\n",
       "      <td>40</td>\n",
       "      <td>4</td>\n",
       "      <td>91.5</td>\n",
       "      <td>N</td>\n",
       "    </tr>\n",
       "  </tbody>\n",
       "</table>\n",
       "<p>5 rows × 21 columns</p>\n",
       "</div>"
      ],
      "text/plain": [
       "          Unnamed: 0  AtBat  Hits  HmRun  Runs  RBI  Walks  Years  CAtBat  \\\n",
       "0     -Andy Allanson    293    66      1    30   29     14      1     293   \n",
       "1        -Alan Ashby    315    81      7    24   38     39     14    3449   \n",
       "2       -Alvin Davis    479   130     18    66   72     76      3    1624   \n",
       "3      -Andre Dawson    496   141     20    65   78     37     11    5628   \n",
       "4  -Andres Galarraga    321    87     10    39   42     30      2     396   \n",
       "\n",
       "   CHits  ...  CRuns  CRBI  CWalks  League Division PutOuts  Assists  Errors  \\\n",
       "0     66  ...     30    29      14       A        E     446       33      20   \n",
       "1    835  ...    321   414     375       N        W     632       43      10   \n",
       "2    457  ...    224   266     263       A        W     880       82      14   \n",
       "3   1575  ...    828   838     354       N        E     200       11       3   \n",
       "4    101  ...     48    46      33       N        E     805       40       4   \n",
       "\n",
       "   Salary  NewLeague  \n",
       "0     NaN          A  \n",
       "1   475.0          N  \n",
       "2   480.0          A  \n",
       "3   500.0          N  \n",
       "4    91.5          N  \n",
       "\n",
       "[5 rows x 21 columns]"
      ]
     },
     "execution_count": 41,
     "metadata": {},
     "output_type": "execute_result"
    }
   ],
   "source": [
    "hitters_df = pd.read_csv('data/Hitters.csv')\n",
    "hitters_df.head()"
   ]
  },
  {
   "cell_type": "markdown",
   "metadata": {},
   "source": [
    "First of all, we note that the `Salary` variable is missing for some of the\n",
    "players. The `isnull()` function can be used to identify the missing observations. It returns a vector of the same length as the input vector, with a `TRUE` value\n",
    "for any elements that are missing, and a `FALSE` value for non-missing elements.\n",
    "The `sum()` function can then be used to count all of the missing elements:"
   ]
  },
  {
   "cell_type": "code",
   "execution_count": 42,
   "metadata": {},
   "outputs": [
    {
     "name": "stdout",
     "output_type": "stream",
     "text": [
      "Number of null values: 59\n"
     ]
    }
   ],
   "source": [
    "print(\"Number of null values:\", hitters_df[\"Salary\"].isnull().sum())"
   ]
  },
  {
   "cell_type": "markdown",
   "metadata": {},
   "source": [
    "We see that `Salary` is missing for 59 players. The `dropna()` function\n",
    "removes all of the rows that have missing values in any variable:"
   ]
  },
  {
   "cell_type": "code",
   "execution_count": 43,
   "metadata": {},
   "outputs": [
    {
     "name": "stdout",
     "output_type": "stream",
     "text": [
      "Dimensions of original data: (322, 21)\n",
      "Dimensions of modified data: (263, 20)\n",
      "Number of null values: 0\n"
     ]
    }
   ],
   "source": [
    "# Print the dimensions of the original Hitters data (322 rows x 20 columns)\n",
    "print(\"Dimensions of original data:\", hitters_df.shape)\n",
    "\n",
    "# Drop any rows the contain missing values, along with the player names\n",
    "hitters_df_clean = hitters_df.dropna().iloc[:,1:]\n",
    "\n",
    "# Print the dimensions of the modified Hitters data (263 rows x 20 columns)\n",
    "print(\"Dimensions of modified data:\", hitters_df_clean.shape)\n",
    "\n",
    "# One last check: should return 0\n",
    "print(\"Number of null values:\", hitters_df_clean[\"Salary\"].isnull().sum())"
   ]
  },
  {
   "cell_type": "code",
   "execution_count": 44,
   "metadata": {},
   "outputs": [],
   "source": [
    "dummies = pd.get_dummies(hitters_df_clean[['League', 'Division', 'NewLeague']])\n",
    "\n",
    "y = hitters_df_clean.Salary\n",
    "\n",
    "# Drop the column with the independent variable (Salary), and columns for which we created dummy variables\n",
    "X_ = hitters_df_clean.drop(['Salary', 'League', 'Division', 'NewLeague'], axis=1).astype('float64')\n",
    "\n",
    "# Define the feature set X.\n",
    "X = pd.concat([X_, dummies[['League_N', 'Division_W', 'NewLeague_N']]], axis=1)"
   ]
  },
  {
   "cell_type": "markdown",
   "metadata": {},
   "source": [
    "We can perform best subset selection by identifying the best model that contains a given number of predictors, where **best** is quantified using RSS. We'll define a helper function to outputs the best set of variables for\n",
    "each model size:"
   ]
  },
  {
   "cell_type": "code",
   "execution_count": 45,
   "metadata": {},
   "outputs": [],
   "source": [
    "def processSubset(feature_set):\n",
    "    # Fit model on feature_set and calculate RSS\n",
    "    model = sm.OLS(y,X[list(feature_set)])\n",
    "    regr = model.fit()\n",
    "    RSS = ((regr.predict(X[list(feature_set)]) - y) ** 2).sum()\n",
    "    return {\"model\":regr, \"RSS\":RSS}"
   ]
  },
  {
   "cell_type": "code",
   "execution_count": 46,
   "metadata": {},
   "outputs": [],
   "source": [
    "def getBest(k):\n",
    "    \n",
    "    tic = time.time()\n",
    "    \n",
    "    results = []\n",
    "    \n",
    "    for combo in itertools.combinations(X.columns, k):\n",
    "        results.append(processSubset(combo))\n",
    "    \n",
    "    # Wrap everything up in a nice dataframe\n",
    "    models = pd.DataFrame(results)\n",
    "    \n",
    "    # Choose the model with the highest RSS\n",
    "    best_model = models.loc[models['RSS'].argmin()]\n",
    "    \n",
    "    toc = time.time()\n",
    "    print(\"Processed\", models.shape[0], \"models on\", k, \"predictors in\", (toc-tic), \"seconds.\")\n",
    "    \n",
    "    # Return the best model, along with some other useful information about the model\n",
    "    return best_model"
   ]
  },
  {
   "cell_type": "markdown",
   "metadata": {},
   "source": [
    "This returns a `DataFrame` containing the best model that we generated, along with some extra information about the model. Now we want to call that function for each number of predictors $k$:"
   ]
  },
  {
   "cell_type": "code",
   "execution_count": 47,
   "metadata": {},
   "outputs": [
    {
     "name": "stdout",
     "output_type": "stream",
     "text": [
      "Processed 19 models on 1 predictors in 0.07494211196899414 seconds.\n",
      "Processed 171 models on 2 predictors in 0.7033591270446777 seconds.\n",
      "Processed 969 models on 3 predictors in 3.762333869934082 seconds.\n",
      "Processed 3876 models on 4 predictors in 16.705241918563843 seconds.\n",
      "Total elapsed time: 21.33211398124695 seconds.\n"
     ]
    }
   ],
   "source": [
    "# Could take quite awhile to complete...\n",
    "# Shortened from 8 to 5\n",
    "models_best = pd.DataFrame(columns=[\"RSS\", \"model\"])\n",
    "\n",
    "tic = time.time()\n",
    "for i in range(1,5):\n",
    "    models_best.loc[i] = getBest(i)\n",
    "\n",
    "toc = time.time()\n",
    "print(\"Total elapsed time:\", (toc-tic), \"seconds.\")"
   ]
  },
  {
   "cell_type": "markdown",
   "metadata": {},
   "source": [
    "Now we have one big `DataFrame` that contains the best models we've generated along with their RSS:"
   ]
  },
  {
   "cell_type": "code",
   "execution_count": 48,
   "metadata": {},
   "outputs": [
    {
     "data": {
      "text/html": [
       "<div>\n",
       "<style scoped>\n",
       "    .dataframe tbody tr th:only-of-type {\n",
       "        vertical-align: middle;\n",
       "    }\n",
       "\n",
       "    .dataframe tbody tr th {\n",
       "        vertical-align: top;\n",
       "    }\n",
       "\n",
       "    .dataframe thead th {\n",
       "        text-align: right;\n",
       "    }\n",
       "</style>\n",
       "<table border=\"1\" class=\"dataframe\">\n",
       "  <thead>\n",
       "    <tr style=\"text-align: right;\">\n",
       "      <th></th>\n",
       "      <th>RSS</th>\n",
       "      <th>model</th>\n",
       "    </tr>\n",
       "  </thead>\n",
       "  <tbody>\n",
       "    <tr>\n",
       "      <th>1</th>\n",
       "      <td>4.321393e+07</td>\n",
       "      <td>&lt;statsmodels.regression.linear_model.Regressio...</td>\n",
       "    </tr>\n",
       "    <tr>\n",
       "      <th>2</th>\n",
       "      <td>3.073305e+07</td>\n",
       "      <td>&lt;statsmodels.regression.linear_model.Regressio...</td>\n",
       "    </tr>\n",
       "    <tr>\n",
       "      <th>3</th>\n",
       "      <td>2.941071e+07</td>\n",
       "      <td>&lt;statsmodels.regression.linear_model.Regressio...</td>\n",
       "    </tr>\n",
       "    <tr>\n",
       "      <th>4</th>\n",
       "      <td>2.797678e+07</td>\n",
       "      <td>&lt;statsmodels.regression.linear_model.Regressio...</td>\n",
       "    </tr>\n",
       "  </tbody>\n",
       "</table>\n",
       "</div>"
      ],
      "text/plain": [
       "            RSS                                              model\n",
       "1  4.321393e+07  <statsmodels.regression.linear_model.Regressio...\n",
       "2  3.073305e+07  <statsmodels.regression.linear_model.Regressio...\n",
       "3  2.941071e+07  <statsmodels.regression.linear_model.Regressio...\n",
       "4  2.797678e+07  <statsmodels.regression.linear_model.Regressio..."
      ]
     },
     "execution_count": 48,
     "metadata": {},
     "output_type": "execute_result"
    }
   ],
   "source": [
    "models_best"
   ]
  },
  {
   "cell_type": "markdown",
   "metadata": {},
   "source": [
    "If we want to access the details of each model, no problem! We can get a full rundown of a single model using the `summary()` function:"
   ]
  },
  {
   "cell_type": "code",
   "execution_count": 49,
   "metadata": {},
   "outputs": [
    {
     "data": {
      "text/html": [
       "<table class=\"simpletable\">\n",
       "<caption>OLS Regression Results</caption>\n",
       "<tr>\n",
       "  <th>Dep. Variable:</th>         <td>Salary</td>      <th>  R-squared (uncentered):</th>      <td>   0.761</td>\n",
       "</tr>\n",
       "<tr>\n",
       "  <th>Model:</th>                   <td>OLS</td>       <th>  Adj. R-squared (uncentered):</th> <td>   0.760</td>\n",
       "</tr>\n",
       "<tr>\n",
       "  <th>Method:</th>             <td>Least Squares</td>  <th>  F-statistic:       </th>          <td>   416.7</td>\n",
       "</tr>\n",
       "<tr>\n",
       "  <th>Date:</th>             <td>Thu, 22 Oct 2020</td> <th>  Prob (F-statistic):</th>          <td>5.80e-82</td>\n",
       "</tr>\n",
       "<tr>\n",
       "  <th>Time:</th>                 <td>09:27:40</td>     <th>  Log-Likelihood:    </th>          <td> -1907.6</td>\n",
       "</tr>\n",
       "<tr>\n",
       "  <th>No. Observations:</th>      <td>   263</td>      <th>  AIC:               </th>          <td>   3819.</td>\n",
       "</tr>\n",
       "<tr>\n",
       "  <th>Df Residuals:</th>          <td>   261</td>      <th>  BIC:               </th>          <td>   3826.</td>\n",
       "</tr>\n",
       "<tr>\n",
       "  <th>Df Model:</th>              <td>     2</td>      <th>                     </th>              <td> </td>   \n",
       "</tr>\n",
       "<tr>\n",
       "  <th>Covariance Type:</th>      <td>nonrobust</td>    <th>                     </th>              <td> </td>   \n",
       "</tr>\n",
       "</table>\n",
       "<table class=\"simpletable\">\n",
       "<tr>\n",
       "    <td></td>      <th>coef</th>     <th>std err</th>      <th>t</th>      <th>P>|t|</th>  <th>[0.025</th>    <th>0.975]</th>  \n",
       "</tr>\n",
       "<tr>\n",
       "  <th>Hits</th> <td>    2.9538</td> <td>    0.261</td> <td>   11.335</td> <td> 0.000</td> <td>    2.441</td> <td>    3.467</td>\n",
       "</tr>\n",
       "<tr>\n",
       "  <th>CRBI</th> <td>    0.6788</td> <td>    0.066</td> <td>   10.295</td> <td> 0.000</td> <td>    0.549</td> <td>    0.809</td>\n",
       "</tr>\n",
       "</table>\n",
       "<table class=\"simpletable\">\n",
       "<tr>\n",
       "  <th>Omnibus:</th>       <td>117.551</td> <th>  Durbin-Watson:     </th> <td>   1.933</td> \n",
       "</tr>\n",
       "<tr>\n",
       "  <th>Prob(Omnibus):</th> <td> 0.000</td>  <th>  Jarque-Bera (JB):  </th> <td> 654.612</td> \n",
       "</tr>\n",
       "<tr>\n",
       "  <th>Skew:</th>          <td> 1.729</td>  <th>  Prob(JB):          </th> <td>7.12e-143</td>\n",
       "</tr>\n",
       "<tr>\n",
       "  <th>Kurtosis:</th>      <td> 9.912</td>  <th>  Cond. No.          </th> <td>    5.88</td> \n",
       "</tr>\n",
       "</table><br/><br/>Notes:<br/>[1] R² is computed without centering (uncentered) since the model does not contain a constant.<br/>[2] Standard Errors assume that the covariance matrix of the errors is correctly specified."
      ],
      "text/plain": [
       "<class 'statsmodels.iolib.summary.Summary'>\n",
       "\"\"\"\n",
       "                                 OLS Regression Results                                \n",
       "=======================================================================================\n",
       "Dep. Variable:                 Salary   R-squared (uncentered):                   0.761\n",
       "Model:                            OLS   Adj. R-squared (uncentered):              0.760\n",
       "Method:                 Least Squares   F-statistic:                              416.7\n",
       "Date:                Thu, 22 Oct 2020   Prob (F-statistic):                    5.80e-82\n",
       "Time:                        09:27:40   Log-Likelihood:                         -1907.6\n",
       "No. Observations:                 263   AIC:                                      3819.\n",
       "Df Residuals:                     261   BIC:                                      3826.\n",
       "Df Model:                           2                                                  \n",
       "Covariance Type:            nonrobust                                                  \n",
       "==============================================================================\n",
       "                 coef    std err          t      P>|t|      [0.025      0.975]\n",
       "------------------------------------------------------------------------------\n",
       "Hits           2.9538      0.261     11.335      0.000       2.441       3.467\n",
       "CRBI           0.6788      0.066     10.295      0.000       0.549       0.809\n",
       "==============================================================================\n",
       "Omnibus:                      117.551   Durbin-Watson:                   1.933\n",
       "Prob(Omnibus):                  0.000   Jarque-Bera (JB):              654.612\n",
       "Skew:                           1.729   Prob(JB):                    7.12e-143\n",
       "Kurtosis:                       9.912   Cond. No.                         5.88\n",
       "==============================================================================\n",
       "\n",
       "Notes:\n",
       "[1] R² is computed without centering (uncentered) since the model does not contain a constant.\n",
       "[2] Standard Errors assume that the covariance matrix of the errors is correctly specified.\n",
       "\"\"\""
      ]
     },
     "execution_count": 49,
     "metadata": {},
     "output_type": "execute_result"
    }
   ],
   "source": [
    "models_best.loc[2, \"model\"].summary()"
   ]
  },
  {
   "cell_type": "markdown",
   "metadata": {},
   "source": [
    "This output indicates that the best two-variable model\n",
    "contains only `Hits` and `CRBI`. To save time, we only generated results\n",
    "up to the best 7-variable model. You can use the functions we defined above to explore as many variables as are desired."
   ]
  },
  {
   "cell_type": "code",
   "execution_count": 50,
   "metadata": {},
   "outputs": [
    {
     "name": "stdout",
     "output_type": "stream",
     "text": [
      "Processed 1 models on 19 predictors in 0.010529041290283203 seconds.\n"
     ]
    },
    {
     "data": {
      "text/html": [
       "<table class=\"simpletable\">\n",
       "<caption>OLS Regression Results</caption>\n",
       "<tr>\n",
       "  <th>Dep. Variable:</th>         <td>Salary</td>      <th>  R-squared (uncentered):</th>      <td>   0.810</td>\n",
       "</tr>\n",
       "<tr>\n",
       "  <th>Model:</th>                   <td>OLS</td>       <th>  Adj. R-squared (uncentered):</th> <td>   0.795</td>\n",
       "</tr>\n",
       "<tr>\n",
       "  <th>Method:</th>             <td>Least Squares</td>  <th>  F-statistic:       </th>          <td>   54.64</td>\n",
       "</tr>\n",
       "<tr>\n",
       "  <th>Date:</th>             <td>Thu, 22 Oct 2020</td> <th>  Prob (F-statistic):</th>          <td>1.31e-76</td>\n",
       "</tr>\n",
       "<tr>\n",
       "  <th>Time:</th>                 <td>09:27:40</td>     <th>  Log-Likelihood:    </th>          <td> -1877.9</td>\n",
       "</tr>\n",
       "<tr>\n",
       "  <th>No. Observations:</th>      <td>   263</td>      <th>  AIC:               </th>          <td>   3794.</td>\n",
       "</tr>\n",
       "<tr>\n",
       "  <th>Df Residuals:</th>          <td>   244</td>      <th>  BIC:               </th>          <td>   3862.</td>\n",
       "</tr>\n",
       "<tr>\n",
       "  <th>Df Model:</th>              <td>    19</td>      <th>                     </th>              <td> </td>   \n",
       "</tr>\n",
       "<tr>\n",
       "  <th>Covariance Type:</th>      <td>nonrobust</td>    <th>                     </th>              <td> </td>   \n",
       "</tr>\n",
       "</table>\n",
       "<table class=\"simpletable\">\n",
       "<tr>\n",
       "       <td></td>          <th>coef</th>     <th>std err</th>      <th>t</th>      <th>P>|t|</th>  <th>[0.025</th>    <th>0.975]</th>  \n",
       "</tr>\n",
       "<tr>\n",
       "  <th>AtBat</th>       <td>   -1.5975</td> <td>    0.600</td> <td>   -2.663</td> <td> 0.008</td> <td>   -2.779</td> <td>   -0.416</td>\n",
       "</tr>\n",
       "<tr>\n",
       "  <th>Hits</th>        <td>    7.0330</td> <td>    2.374</td> <td>    2.963</td> <td> 0.003</td> <td>    2.357</td> <td>   11.709</td>\n",
       "</tr>\n",
       "<tr>\n",
       "  <th>HmRun</th>       <td>    4.1210</td> <td>    6.229</td> <td>    0.662</td> <td> 0.509</td> <td>   -8.148</td> <td>   16.390</td>\n",
       "</tr>\n",
       "<tr>\n",
       "  <th>Runs</th>        <td>   -2.3776</td> <td>    2.994</td> <td>   -0.794</td> <td> 0.428</td> <td>   -8.276</td> <td>    3.520</td>\n",
       "</tr>\n",
       "<tr>\n",
       "  <th>RBI</th>         <td>   -1.0873</td> <td>    2.613</td> <td>   -0.416</td> <td> 0.678</td> <td>   -6.234</td> <td>    4.059</td>\n",
       "</tr>\n",
       "<tr>\n",
       "  <th>Walks</th>       <td>    6.1560</td> <td>    1.836</td> <td>    3.352</td> <td> 0.001</td> <td>    2.539</td> <td>    9.773</td>\n",
       "</tr>\n",
       "<tr>\n",
       "  <th>Years</th>       <td>    9.5196</td> <td>   10.128</td> <td>    0.940</td> <td> 0.348</td> <td>  -10.429</td> <td>   29.468</td>\n",
       "</tr>\n",
       "<tr>\n",
       "  <th>CAtBat</th>      <td>   -0.2018</td> <td>    0.135</td> <td>   -1.497</td> <td> 0.136</td> <td>   -0.467</td> <td>    0.064</td>\n",
       "</tr>\n",
       "<tr>\n",
       "  <th>CHits</th>       <td>    0.1380</td> <td>    0.678</td> <td>    0.204</td> <td> 0.839</td> <td>   -1.197</td> <td>    1.473</td>\n",
       "</tr>\n",
       "<tr>\n",
       "  <th>CHmRun</th>      <td>   -0.1669</td> <td>    1.625</td> <td>   -0.103</td> <td> 0.918</td> <td>   -3.367</td> <td>    3.033</td>\n",
       "</tr>\n",
       "<tr>\n",
       "  <th>CRuns</th>       <td>    1.5070</td> <td>    0.753</td> <td>    2.001</td> <td> 0.047</td> <td>    0.023</td> <td>    2.991</td>\n",
       "</tr>\n",
       "<tr>\n",
       "  <th>CRBI</th>        <td>    0.7742</td> <td>    0.696</td> <td>    1.113</td> <td> 0.267</td> <td>   -0.596</td> <td>    2.144</td>\n",
       "</tr>\n",
       "<tr>\n",
       "  <th>CWalks</th>      <td>   -0.7851</td> <td>    0.329</td> <td>   -2.384</td> <td> 0.018</td> <td>   -1.434</td> <td>   -0.137</td>\n",
       "</tr>\n",
       "<tr>\n",
       "  <th>PutOuts</th>     <td>    0.2856</td> <td>    0.078</td> <td>    3.673</td> <td> 0.000</td> <td>    0.132</td> <td>    0.439</td>\n",
       "</tr>\n",
       "<tr>\n",
       "  <th>Assists</th>     <td>    0.3137</td> <td>    0.220</td> <td>    1.427</td> <td> 0.155</td> <td>   -0.119</td> <td>    0.747</td>\n",
       "</tr>\n",
       "<tr>\n",
       "  <th>Errors</th>      <td>   -2.0463</td> <td>    4.350</td> <td>   -0.470</td> <td> 0.638</td> <td>  -10.615</td> <td>    6.522</td>\n",
       "</tr>\n",
       "<tr>\n",
       "  <th>League_N</th>    <td>   86.8139</td> <td>   78.463</td> <td>    1.106</td> <td> 0.270</td> <td>  -67.737</td> <td>  241.365</td>\n",
       "</tr>\n",
       "<tr>\n",
       "  <th>Division_W</th>  <td>  -97.5160</td> <td>   39.084</td> <td>   -2.495</td> <td> 0.013</td> <td> -174.500</td> <td>  -20.532</td>\n",
       "</tr>\n",
       "<tr>\n",
       "  <th>NewLeague_N</th> <td>  -23.9133</td> <td>   79.361</td> <td>   -0.301</td> <td> 0.763</td> <td> -180.234</td> <td>  132.407</td>\n",
       "</tr>\n",
       "</table>\n",
       "<table class=\"simpletable\">\n",
       "<tr>\n",
       "  <th>Omnibus:</th>       <td>97.217</td> <th>  Durbin-Watson:     </th> <td>   2.024</td> \n",
       "</tr>\n",
       "<tr>\n",
       "  <th>Prob(Omnibus):</th> <td> 0.000</td> <th>  Jarque-Bera (JB):  </th> <td> 626.205</td> \n",
       "</tr>\n",
       "<tr>\n",
       "  <th>Skew:</th>          <td> 1.320</td> <th>  Prob(JB):          </th> <td>1.05e-136</td>\n",
       "</tr>\n",
       "<tr>\n",
       "  <th>Kurtosis:</th>      <td>10.083</td> <th>  Cond. No.          </th> <td>2.06e+04</td> \n",
       "</tr>\n",
       "</table><br/><br/>Notes:<br/>[1] R² is computed without centering (uncentered) since the model does not contain a constant.<br/>[2] Standard Errors assume that the covariance matrix of the errors is correctly specified.<br/>[3] The condition number is large, 2.06e+04. This might indicate that there are<br/>strong multicollinearity or other numerical problems."
      ],
      "text/plain": [
       "<class 'statsmodels.iolib.summary.Summary'>\n",
       "\"\"\"\n",
       "                                 OLS Regression Results                                \n",
       "=======================================================================================\n",
       "Dep. Variable:                 Salary   R-squared (uncentered):                   0.810\n",
       "Model:                            OLS   Adj. R-squared (uncentered):              0.795\n",
       "Method:                 Least Squares   F-statistic:                              54.64\n",
       "Date:                Thu, 22 Oct 2020   Prob (F-statistic):                    1.31e-76\n",
       "Time:                        09:27:40   Log-Likelihood:                         -1877.9\n",
       "No. Observations:                 263   AIC:                                      3794.\n",
       "Df Residuals:                     244   BIC:                                      3862.\n",
       "Df Model:                          19                                                  \n",
       "Covariance Type:            nonrobust                                                  \n",
       "===============================================================================\n",
       "                  coef    std err          t      P>|t|      [0.025      0.975]\n",
       "-------------------------------------------------------------------------------\n",
       "AtBat          -1.5975      0.600     -2.663      0.008      -2.779      -0.416\n",
       "Hits            7.0330      2.374      2.963      0.003       2.357      11.709\n",
       "HmRun           4.1210      6.229      0.662      0.509      -8.148      16.390\n",
       "Runs           -2.3776      2.994     -0.794      0.428      -8.276       3.520\n",
       "RBI            -1.0873      2.613     -0.416      0.678      -6.234       4.059\n",
       "Walks           6.1560      1.836      3.352      0.001       2.539       9.773\n",
       "Years           9.5196     10.128      0.940      0.348     -10.429      29.468\n",
       "CAtBat         -0.2018      0.135     -1.497      0.136      -0.467       0.064\n",
       "CHits           0.1380      0.678      0.204      0.839      -1.197       1.473\n",
       "CHmRun         -0.1669      1.625     -0.103      0.918      -3.367       3.033\n",
       "CRuns           1.5070      0.753      2.001      0.047       0.023       2.991\n",
       "CRBI            0.7742      0.696      1.113      0.267      -0.596       2.144\n",
       "CWalks         -0.7851      0.329     -2.384      0.018      -1.434      -0.137\n",
       "PutOuts         0.2856      0.078      3.673      0.000       0.132       0.439\n",
       "Assists         0.3137      0.220      1.427      0.155      -0.119       0.747\n",
       "Errors         -2.0463      4.350     -0.470      0.638     -10.615       6.522\n",
       "League_N       86.8139     78.463      1.106      0.270     -67.737     241.365\n",
       "Division_W    -97.5160     39.084     -2.495      0.013    -174.500     -20.532\n",
       "NewLeague_N   -23.9133     79.361     -0.301      0.763    -180.234     132.407\n",
       "==============================================================================\n",
       "Omnibus:                       97.217   Durbin-Watson:                   2.024\n",
       "Prob(Omnibus):                  0.000   Jarque-Bera (JB):              626.205\n",
       "Skew:                           1.320   Prob(JB):                    1.05e-136\n",
       "Kurtosis:                      10.083   Cond. No.                     2.06e+04\n",
       "==============================================================================\n",
       "\n",
       "Notes:\n",
       "[1] R² is computed without centering (uncentered) since the model does not contain a constant.\n",
       "[2] Standard Errors assume that the covariance matrix of the errors is correctly specified.\n",
       "[3] The condition number is large, 2.06e+04. This might indicate that there are\n",
       "strong multicollinearity or other numerical problems.\n",
       "\"\"\""
      ]
     },
     "execution_count": 50,
     "metadata": {},
     "output_type": "execute_result"
    }
   ],
   "source": [
    "# Show the best 19-variable model (there's actually only one)\n",
    "getBest(19)[\"model\"].summary()"
   ]
  },
  {
   "cell_type": "markdown",
   "metadata": {},
   "source": [
    "Rather than letting the results of our call to the `summary()` function print to the screen, we can access just the parts we need using the model's attributes. For example, if we want the $R^2$ value:"
   ]
  },
  {
   "cell_type": "code",
   "execution_count": 51,
   "metadata": {},
   "outputs": [
    {
     "data": {
      "text/plain": [
       "0.7614950002332872"
      ]
     },
     "execution_count": 51,
     "metadata": {},
     "output_type": "execute_result"
    }
   ],
   "source": [
    "models_best.loc[2, \"model\"].rsquared"
   ]
  },
  {
   "cell_type": "markdown",
   "metadata": {},
   "source": [
    "Excellent! In addition to the verbose output we get when we print the summary to the screen, fitting the `OLM` also produced many other useful statistics such as adjusted $R^2$, AIC, and BIC. We can examine these to try to select the best overall model. Let's start by looking at $R^2$ across all our models:"
   ]
  },
  {
   "cell_type": "code",
   "execution_count": 52,
   "metadata": {},
   "outputs": [
    {
     "data": {
      "text/plain": [
       "1    0.664637\n",
       "2    0.761495\n",
       "3    0.771757\n",
       "4    0.782885\n",
       "dtype: float64"
      ]
     },
     "execution_count": 52,
     "metadata": {},
     "output_type": "execute_result"
    }
   ],
   "source": [
    "# Gets the second element from each row ('model') and pulls out its rsquared attribute\n",
    "models_best.apply(lambda row: row[1].rsquared, axis=1)"
   ]
  },
  {
   "cell_type": "markdown",
   "metadata": {},
   "source": [
    "As expected, the $R^2$ statistic increases monotonically as more\n",
    "variables are included.\n",
    "\n",
    "Plotting RSS, adjusted $R^2$, AIC, and BIC for all of the models at once will\n",
    "help us decide which model to select. Note the `type=\"l\"` option tells `R` to\n",
    "connect the plotted points with lines:"
   ]
  },
  {
   "cell_type": "code",
   "execution_count": 53,
   "metadata": {},
   "outputs": [
    {
     "data": {
      "text/plain": [
       "Text(0, 0.5, 'BIC')"
      ]
     },
     "execution_count": 53,
     "metadata": {},
     "output_type": "execute_result"
    },
    {
     "data": {
      "image/png": "[encoded data removed]",
      "text/plain": [
       "<Figure size 1440x720 with 4 Axes>"
      ]
     },
     "metadata": {},
     "output_type": "display_data"
    }
   ],
   "source": [
    "plt.figure(figsize=(20,10))\n",
    "plt.rcParams.update({'font.size': 18, 'lines.markersize': 10})\n",
    "\n",
    "# Set up a 2x2 grid so we can look at 4 plots at once\n",
    "plt.subplot(2, 2, 1)\n",
    "\n",
    "# We will now plot a red dot to indicate the model with the largest adjusted R^2 statistic.\n",
    "# The argmax() function can be used to identify the location of the maximum point of a vector\n",
    "plt.plot(models_best[\"RSS\"])\n",
    "plt.xlabel('# Predictors')\n",
    "plt.ylabel('RSS')\n",
    "\n",
    "# We will now plot a red dot to indicate the model with the largest adjusted R^2 statistic.\n",
    "# The argmax() function can be used to identify the location of the maximum point of a vector\n",
    "\n",
    "rsquared_adj = models_best.apply(lambda row: row[1].rsquared_adj, axis=1)\n",
    "\n",
    "plt.subplot(2, 2, 2)\n",
    "plt.plot(rsquared_adj)\n",
    "plt.plot(rsquared_adj.argmax(), rsquared_adj.max(), \"or\")\n",
    "plt.xlabel('# Predictors')\n",
    "plt.ylabel('adjusted rsquared')\n",
    "\n",
    "# We'll do the same for AIC and BIC, this time looking for the models with the SMALLEST statistic\n",
    "aic = models_best.apply(lambda row: row[1].aic, axis=1)\n",
    "\n",
    "plt.subplot(2, 2, 3)\n",
    "plt.plot(aic)\n",
    "plt.plot(aic.argmin(), aic.min(), \"or\")\n",
    "plt.xlabel('# Predictors')\n",
    "plt.ylabel('AIC')\n",
    "\n",
    "bic = models_best.apply(lambda row: row[1].bic, axis=1)\n",
    "\n",
    "plt.subplot(2, 2, 4)\n",
    "plt.plot(bic)\n",
    "plt.plot(bic.argmin(), bic.min(), \"or\")\n",
    "plt.xlabel('# Predictors')\n",
    "plt.ylabel('BIC')"
   ]
  },
  {
   "cell_type": "markdown",
   "metadata": {},
   "source": [
    "Recall that in the second step of our selection process, we narrowed the field down to just one model on any $k<=p$ predictors. We see that according to BIC, the best performer is the model with 6 variables. According to AIC and adjusted $R^2$ something a bit more complex might be better. Again, no one measure is going to give us an entirely accurate picture... but they all agree that a model with 5 or fewer predictors is insufficient."
   ]
  },
  {
   "cell_type": "markdown",
   "metadata": {},
   "source": [
    "### Lab1.2: Forward and Backward Stepwise Selection"
   ]
  },
  {
   "cell_type": "markdown",
   "metadata": {},
   "source": [
    "We can also use a similar approach to perform forward stepwise\n",
    "or backward stepwise selection, using a slight modification of the functions we defined above:"
   ]
  },
  {
   "cell_type": "code",
   "execution_count": 54,
   "metadata": {},
   "outputs": [],
   "source": [
    "def forward(predictors):\n",
    "\n",
    "    # Pull out predictors we still need to process\n",
    "    remaining_predictors = [p for p in X.columns if p not in predictors]\n",
    "    \n",
    "    tic = time.time()\n",
    "    \n",
    "    results = []\n",
    "    \n",
    "    for p in remaining_predictors:\n",
    "        results.append(processSubset(predictors+[p]))\n",
    "    \n",
    "    # Wrap everything up in a nice dataframe\n",
    "    models = pd.DataFrame(results)\n",
    "    \n",
    "    # Choose the model with the highest RSS\n",
    "    best_model = models.loc[models['RSS'].argmin()]\n",
    "    \n",
    "    toc = time.time()\n",
    "    print(\"Processed \", models.shape[0], \"models on\", len(predictors)+1, \"predictors in\", (toc-tic), \"seconds.\")\n",
    "    \n",
    "    # Return the best model, along with some other useful information about the model\n",
    "    return best_model"
   ]
  },
  {
   "cell_type": "markdown",
   "metadata": {},
   "source": [
    "Now let's see how much faster it runs!"
   ]
  },
  {
   "cell_type": "code",
   "execution_count": 55,
   "metadata": {},
   "outputs": [
    {
     "name": "stdout",
     "output_type": "stream",
     "text": [
      "Processed  19 models on 1 predictors in 0.08580398559570312 seconds.\n",
      "Processed  18 models on 2 predictors in 0.14779019355773926 seconds.\n",
      "Processed  17 models on 3 predictors in 0.0635230541229248 seconds.\n",
      "Processed  16 models on 4 predictors in 0.06518983840942383 seconds.\n",
      "Processed  15 models on 5 predictors in 0.05637001991271973 seconds.\n",
      "Processed  14 models on 6 predictors in 0.10296487808227539 seconds.\n",
      "Processed  13 models on 7 predictors in 0.054399967193603516 seconds.\n",
      "Processed  12 models on 8 predictors in 0.05045509338378906 seconds.\n",
      "Processed  11 models on 9 predictors in 0.04411792755126953 seconds.\n",
      "Processed  10 models on 10 predictors in 0.061820030212402344 seconds.\n",
      "Processed  9 models on 11 predictors in 0.03718209266662598 seconds.\n",
      "Processed  8 models on 12 predictors in 0.035279035568237305 seconds.\n",
      "Processed  7 models on 13 predictors in 0.0696561336517334 seconds.\n",
      "Processed  6 models on 14 predictors in 0.027098894119262695 seconds.\n",
      "Processed  5 models on 15 predictors in 0.02525186538696289 seconds.\n",
      "Processed  4 models on 16 predictors in 0.019521236419677734 seconds.\n",
      "Processed  3 models on 17 predictors in 0.014750003814697266 seconds.\n",
      "Processed  2 models on 18 predictors in 0.011593818664550781 seconds.\n",
      "Processed  1 models on 19 predictors in 0.005960941314697266 seconds.\n",
      "Total elapsed time: 1.0958669185638428 seconds.\n"
     ]
    }
   ],
   "source": [
    "models_fwd = pd.DataFrame(columns=[\"RSS\", \"model\"])\n",
    "\n",
    "tic = time.time()\n",
    "predictors = []\n",
    "\n",
    "for i in range(1,len(X.columns)+1):    \n",
    "    models_fwd.loc[i] = forward(predictors)\n",
    "    predictors = models_fwd.loc[i][\"model\"].model.exog_names\n",
    "\n",
    "toc = time.time()\n",
    "print(\"Total elapsed time:\", (toc-tic), \"seconds.\")"
   ]
  },
  {
   "cell_type": "markdown",
   "metadata": {},
   "source": [
    "Phew! That's a lot better. Let's take a look:"
   ]
  },
  {
   "cell_type": "code",
   "execution_count": 63,
   "metadata": {},
   "outputs": [
    {
     "name": "stdout",
     "output_type": "stream",
     "text": [
      "                                 OLS Regression Results                                \n",
      "=======================================================================================\n",
      "Dep. Variable:                 Salary   R-squared (uncentered):                   0.665\n",
      "Model:                            OLS   Adj. R-squared (uncentered):              0.663\n",
      "Method:                 Least Squares   F-statistic:                              519.2\n",
      "Date:                Thu, 22 Oct 2020   Prob (F-statistic):                    4.20e-64\n",
      "Time:                        09:28:10   Log-Likelihood:                         -1952.4\n",
      "No. Observations:                 263   AIC:                                      3907.\n",
      "Df Residuals:                     262   BIC:                                      3910.\n",
      "Df Model:                           1                                                  \n",
      "Covariance Type:            nonrobust                                                  \n",
      "==============================================================================\n",
      "                 coef    std err          t      P>|t|      [0.025      0.975]\n",
      "------------------------------------------------------------------------------\n",
      "Hits           4.8833      0.214     22.787      0.000       4.461       5.305\n",
      "==============================================================================\n",
      "Omnibus:                       90.075   Durbin-Watson:                   1.949\n",
      "Prob(Omnibus):                  0.000   Jarque-Bera (JB):              293.080\n",
      "Skew:                           1.469   Prob(JB):                     2.28e-64\n",
      "Kurtosis:                       7.256   Cond. No.                         1.00\n",
      "==============================================================================\n",
      "\n",
      "Notes:\n",
      "[1] R² is computed without centering (uncentered) since the model does not contain a constant.\n",
      "[2] Standard Errors assume that the covariance matrix of the errors is correctly specified.\n",
      "                                 OLS Regression Results                                \n",
      "=======================================================================================\n",
      "Dep. Variable:                 Salary   R-squared (uncentered):                   0.761\n",
      "Model:                            OLS   Adj. R-squared (uncentered):              0.760\n",
      "Method:                 Least Squares   F-statistic:                              416.7\n",
      "Date:                Thu, 22 Oct 2020   Prob (F-statistic):                    5.80e-82\n",
      "Time:                        09:28:10   Log-Likelihood:                         -1907.6\n",
      "No. Observations:                 263   AIC:                                      3819.\n",
      "Df Residuals:                     261   BIC:                                      3826.\n",
      "Df Model:                           2                                                  \n",
      "Covariance Type:            nonrobust                                                  \n",
      "==============================================================================\n",
      "                 coef    std err          t      P>|t|      [0.025      0.975]\n",
      "------------------------------------------------------------------------------\n",
      "Hits           2.9538      0.261     11.335      0.000       2.441       3.467\n",
      "CRBI           0.6788      0.066     10.295      0.000       0.549       0.809\n",
      "==============================================================================\n",
      "Omnibus:                      117.551   Durbin-Watson:                   1.933\n",
      "Prob(Omnibus):                  0.000   Jarque-Bera (JB):              654.612\n",
      "Skew:                           1.729   Prob(JB):                    7.12e-143\n",
      "Kurtosis:                       9.912   Cond. No.                         5.88\n",
      "==============================================================================\n",
      "\n",
      "Notes:\n",
      "[1] R² is computed without centering (uncentered) since the model does not contain a constant.\n",
      "[2] Standard Errors assume that the covariance matrix of the errors is correctly specified.\n"
     ]
    }
   ],
   "source": [
    "print(models_fwd.loc[1, \"model\"].summary())\n",
    "print(models_fwd.loc[2, \"model\"].summary())"
   ]
  },
  {
   "cell_type": "markdown",
   "metadata": {},
   "source": [
    "We see that using forward stepwise selection, the best one-variable\n",
    "model contains only `Hits`, and the best two-variable model additionally\n",
    "includes `CRBI`. Let's see how the models stack up against best subset selection:"
   ]
  },
  {
   "cell_type": "code",
   "execution_count": 67,
   "metadata": {},
   "outputs": [
    {
     "data": {
      "text/html": [
       "<table class=\"simpletable\">\n",
       "<caption>OLS Regression Results</caption>\n",
       "<tr>\n",
       "  <th>Dep. Variable:</th>         <td>Salary</td>      <th>  R-squared (uncentered):</th>      <td>   0.772</td>\n",
       "</tr>\n",
       "<tr>\n",
       "  <th>Model:</th>                   <td>OLS</td>       <th>  Adj. R-squared (uncentered):</th> <td>   0.769</td>\n",
       "</tr>\n",
       "<tr>\n",
       "  <th>Method:</th>             <td>Least Squares</td>  <th>  F-statistic:       </th>          <td>   293.0</td>\n",
       "</tr>\n",
       "<tr>\n",
       "  <th>Date:</th>             <td>Thu, 22 Oct 2020</td> <th>  Prob (F-statistic):</th>          <td>4.43e-83</td>\n",
       "</tr>\n",
       "<tr>\n",
       "  <th>Time:</th>                 <td>09:28:46</td>     <th>  Log-Likelihood:    </th>          <td> -1901.8</td>\n",
       "</tr>\n",
       "<tr>\n",
       "  <th>No. Observations:</th>      <td>   263</td>      <th>  AIC:               </th>          <td>   3810.</td>\n",
       "</tr>\n",
       "<tr>\n",
       "  <th>Df Residuals:</th>          <td>   260</td>      <th>  BIC:               </th>          <td>   3820.</td>\n",
       "</tr>\n",
       "<tr>\n",
       "  <th>Df Model:</th>              <td>     3</td>      <th>                     </th>              <td> </td>   \n",
       "</tr>\n",
       "<tr>\n",
       "  <th>Covariance Type:</th>      <td>nonrobust</td>    <th>                     </th>              <td> </td>   \n",
       "</tr>\n",
       "</table>\n",
       "<table class=\"simpletable\">\n",
       "<tr>\n",
       "       <td></td>         <th>coef</th>     <th>std err</th>      <th>t</th>      <th>P>|t|</th>  <th>[0.025</th>    <th>0.975]</th>  \n",
       "</tr>\n",
       "<tr>\n",
       "  <th>Hits</th>       <td>    3.4057</td> <td>    0.288</td> <td>   11.842</td> <td> 0.000</td> <td>    2.839</td> <td>    3.972</td>\n",
       "</tr>\n",
       "<tr>\n",
       "  <th>CRBI</th>       <td>    0.6964</td> <td>    0.065</td> <td>   10.742</td> <td> 0.000</td> <td>    0.569</td> <td>    0.824</td>\n",
       "</tr>\n",
       "<tr>\n",
       "  <th>Division_W</th> <td> -129.1604</td> <td>   37.777</td> <td>   -3.419</td> <td> 0.001</td> <td> -203.548</td> <td>  -54.773</td>\n",
       "</tr>\n",
       "</table>\n",
       "<table class=\"simpletable\">\n",
       "<tr>\n",
       "  <th>Omnibus:</th>       <td>110.025</td> <th>  Durbin-Watson:     </th> <td>   1.893</td> \n",
       "</tr>\n",
       "<tr>\n",
       "  <th>Prob(Omnibus):</th> <td> 0.000</td>  <th>  Jarque-Bera (JB):  </th> <td> 621.594</td> \n",
       "</tr>\n",
       "<tr>\n",
       "  <th>Skew:</th>          <td> 1.589</td>  <th>  Prob(JB):          </th> <td>1.05e-135</td>\n",
       "</tr>\n",
       "<tr>\n",
       "  <th>Kurtosis:</th>      <td> 9.828</td>  <th>  Cond. No.          </th> <td>    856.</td> \n",
       "</tr>\n",
       "</table><br/><br/>Notes:<br/>[1] R² is computed without centering (uncentered) since the model does not contain a constant.<br/>[2] Standard Errors assume that the covariance matrix of the errors is correctly specified."
      ],
      "text/plain": [
       "<class 'statsmodels.iolib.summary.Summary'>\n",
       "\"\"\"\n",
       "                                 OLS Regression Results                                \n",
       "=======================================================================================\n",
       "Dep. Variable:                 Salary   R-squared (uncentered):                   0.772\n",
       "Model:                            OLS   Adj. R-squared (uncentered):              0.769\n",
       "Method:                 Least Squares   F-statistic:                              293.0\n",
       "Date:                Thu, 22 Oct 2020   Prob (F-statistic):                    4.43e-83\n",
       "Time:                        09:28:46   Log-Likelihood:                         -1901.8\n",
       "No. Observations:                 263   AIC:                                      3810.\n",
       "Df Residuals:                     260   BIC:                                      3820.\n",
       "Df Model:                           3                                                  \n",
       "Covariance Type:            nonrobust                                                  \n",
       "==============================================================================\n",
       "                 coef    std err          t      P>|t|      [0.025      0.975]\n",
       "------------------------------------------------------------------------------\n",
       "Hits           3.4057      0.288     11.842      0.000       2.839       3.972\n",
       "CRBI           0.6964      0.065     10.742      0.000       0.569       0.824\n",
       "Division_W  -129.1604     37.777     -3.419      0.001    -203.548     -54.773\n",
       "==============================================================================\n",
       "Omnibus:                      110.025   Durbin-Watson:                   1.893\n",
       "Prob(Omnibus):                  0.000   Jarque-Bera (JB):              621.594\n",
       "Skew:                           1.589   Prob(JB):                    1.05e-135\n",
       "Kurtosis:                       9.828   Cond. No.                         856.\n",
       "==============================================================================\n",
       "\n",
       "Notes:\n",
       "[1] R² is computed without centering (uncentered) since the model does not contain a constant.\n",
       "[2] Standard Errors assume that the covariance matrix of the errors is correctly specified.\n",
       "\"\"\""
      ]
     },
     "execution_count": 67,
     "metadata": {},
     "output_type": "execute_result"
    }
   ],
   "source": [
    "models_best.loc[3, \"model\"].summary()"
   ]
  },
  {
   "cell_type": "code",
   "execution_count": 68,
   "metadata": {},
   "outputs": [
    {
     "data": {
      "text/html": [
       "<table class=\"simpletable\">\n",
       "<caption>OLS Regression Results</caption>\n",
       "<tr>\n",
       "  <th>Dep. Variable:</th>         <td>Salary</td>      <th>  R-squared (uncentered):</th>      <td>   0.783</td>\n",
       "</tr>\n",
       "<tr>\n",
       "  <th>Model:</th>                   <td>OLS</td>       <th>  Adj. R-squared (uncentered):</th> <td>   0.780</td>\n",
       "</tr>\n",
       "<tr>\n",
       "  <th>Method:</th>             <td>Least Squares</td>  <th>  F-statistic:       </th>          <td>   233.5</td>\n",
       "</tr>\n",
       "<tr>\n",
       "  <th>Date:</th>             <td>Thu, 22 Oct 2020</td> <th>  Prob (F-statistic):</th>          <td>1.29e-84</td>\n",
       "</tr>\n",
       "<tr>\n",
       "  <th>Time:</th>                 <td>09:28:47</td>     <th>  Log-Likelihood:    </th>          <td> -1895.3</td>\n",
       "</tr>\n",
       "<tr>\n",
       "  <th>No. Observations:</th>      <td>   263</td>      <th>  AIC:               </th>          <td>   3799.</td>\n",
       "</tr>\n",
       "<tr>\n",
       "  <th>Df Residuals:</th>          <td>   259</td>      <th>  BIC:               </th>          <td>   3813.</td>\n",
       "</tr>\n",
       "<tr>\n",
       "  <th>Df Model:</th>              <td>     4</td>      <th>                     </th>              <td> </td>   \n",
       "</tr>\n",
       "<tr>\n",
       "  <th>Covariance Type:</th>      <td>nonrobust</td>    <th>                     </th>              <td> </td>   \n",
       "</tr>\n",
       "</table>\n",
       "<table class=\"simpletable\">\n",
       "<tr>\n",
       "       <td></td>         <th>coef</th>     <th>std err</th>      <th>t</th>      <th>P>|t|</th>  <th>[0.025</th>    <th>0.975]</th>  \n",
       "</tr>\n",
       "<tr>\n",
       "  <th>Hits</th>       <td>    2.7578</td> <td>    0.333</td> <td>    8.293</td> <td> 0.000</td> <td>    2.103</td> <td>    3.413</td>\n",
       "</tr>\n",
       "<tr>\n",
       "  <th>CRBI</th>       <td>    0.6844</td> <td>    0.063</td> <td>   10.789</td> <td> 0.000</td> <td>    0.559</td> <td>    0.809</td>\n",
       "</tr>\n",
       "<tr>\n",
       "  <th>Division_W</th> <td> -135.9724</td> <td>   36.963</td> <td>   -3.679</td> <td> 0.000</td> <td> -208.758</td> <td>  -63.187</td>\n",
       "</tr>\n",
       "<tr>\n",
       "  <th>PutOuts</th>    <td>    0.2755</td> <td>    0.076</td> <td>    3.643</td> <td> 0.000</td> <td>    0.127</td> <td>    0.424</td>\n",
       "</tr>\n",
       "</table>\n",
       "<table class=\"simpletable\">\n",
       "<tr>\n",
       "  <th>Omnibus:</th>       <td>106.407</td> <th>  Durbin-Watson:     </th> <td>   1.968</td> \n",
       "</tr>\n",
       "<tr>\n",
       "  <th>Prob(Omnibus):</th> <td> 0.000</td>  <th>  Jarque-Bera (JB):  </th> <td> 647.169</td> \n",
       "</tr>\n",
       "<tr>\n",
       "  <th>Skew:</th>          <td> 1.497</td>  <th>  Prob(JB):          </th> <td>2.95e-141</td>\n",
       "</tr>\n",
       "<tr>\n",
       "  <th>Kurtosis:</th>      <td>10.077</td>  <th>  Cond. No.          </th> <td>1.01e+03</td> \n",
       "</tr>\n",
       "</table><br/><br/>Notes:<br/>[1] R² is computed without centering (uncentered) since the model does not contain a constant.<br/>[2] Standard Errors assume that the covariance matrix of the errors is correctly specified.<br/>[3] The condition number is large, 1.01e+03. This might indicate that there are<br/>strong multicollinearity or other numerical problems."
      ],
      "text/plain": [
       "<class 'statsmodels.iolib.summary.Summary'>\n",
       "\"\"\"\n",
       "                                 OLS Regression Results                                \n",
       "=======================================================================================\n",
       "Dep. Variable:                 Salary   R-squared (uncentered):                   0.783\n",
       "Model:                            OLS   Adj. R-squared (uncentered):              0.780\n",
       "Method:                 Least Squares   F-statistic:                              233.5\n",
       "Date:                Thu, 22 Oct 2020   Prob (F-statistic):                    1.29e-84\n",
       "Time:                        09:28:47   Log-Likelihood:                         -1895.3\n",
       "No. Observations:                 263   AIC:                                      3799.\n",
       "Df Residuals:                     259   BIC:                                      3813.\n",
       "Df Model:                           4                                                  \n",
       "Covariance Type:            nonrobust                                                  \n",
       "==============================================================================\n",
       "                 coef    std err          t      P>|t|      [0.025      0.975]\n",
       "------------------------------------------------------------------------------\n",
       "Hits           2.7578      0.333      8.293      0.000       2.103       3.413\n",
       "CRBI           0.6844      0.063     10.789      0.000       0.559       0.809\n",
       "Division_W  -135.9724     36.963     -3.679      0.000    -208.758     -63.187\n",
       "PutOuts        0.2755      0.076      3.643      0.000       0.127       0.424\n",
       "==============================================================================\n",
       "Omnibus:                      106.407   Durbin-Watson:                   1.968\n",
       "Prob(Omnibus):                  0.000   Jarque-Bera (JB):              647.169\n",
       "Skew:                           1.497   Prob(JB):                    2.95e-141\n",
       "Kurtosis:                      10.077   Cond. No.                     1.01e+03\n",
       "==============================================================================\n",
       "\n",
       "Notes:\n",
       "[1] R² is computed without centering (uncentered) since the model does not contain a constant.\n",
       "[2] Standard Errors assume that the covariance matrix of the errors is correctly specified.\n",
       "[3] The condition number is large, 1.01e+03. This might indicate that there are\n",
       "strong multicollinearity or other numerical problems.\n",
       "\"\"\""
      ]
     },
     "execution_count": 68,
     "metadata": {},
     "output_type": "execute_result"
    }
   ],
   "source": [
    "models_fwd.loc[4, \"model\"].summary()"
   ]
  },
  {
   "cell_type": "markdown",
   "metadata": {
    "collapsed": true
   },
   "source": [
    "For this data, the best one-variable through six-variable\n",
    "models are each identical for best subset and forward selection."
   ]
  },
  {
   "cell_type": "markdown",
   "metadata": {
    "collapsed": true
   },
   "source": [
    "#### Backward Selection"
   ]
  },
  {
   "cell_type": "markdown",
   "metadata": {
    "collapsed": true
   },
   "source": [
    "Not much has to change to implement backward selection... just looping through the predictors in reverse!"
   ]
  },
  {
   "cell_type": "code",
   "execution_count": 69,
   "metadata": {},
   "outputs": [],
   "source": [
    "def backward(predictors):\n",
    "    \n",
    "    tic = time.time()\n",
    "    \n",
    "    results = []\n",
    "    \n",
    "    for combo in itertools.combinations(predictors, len(predictors)-1):\n",
    "        results.append(processSubset(combo))\n",
    "    \n",
    "    # Wrap everything up in a nice dataframe\n",
    "    models = pd.DataFrame(results)\n",
    "    \n",
    "    # Choose the model with the highest RSS\n",
    "    best_model = models.loc[models['RSS'].argmin()]\n",
    "    \n",
    "    toc = time.time()\n",
    "    print(\"Processed \", models.shape[0], \"models on\", len(predictors)-1, \"predictors in\", (toc-tic), \"seconds.\")\n",
    "    \n",
    "    # Return the best model, along with some other useful information about the model\n",
    "    return best_model"
   ]
  },
  {
   "cell_type": "code",
   "execution_count": 70,
   "metadata": {},
   "outputs": [
    {
     "name": "stdout",
     "output_type": "stream",
     "text": [
      "Processed  19 models on 18 predictors in 0.08855175971984863 seconds.\n",
      "Processed  18 models on 17 predictors in 0.11224889755249023 seconds.\n",
      "Processed  17 models on 16 predictors in 0.06334805488586426 seconds.\n",
      "Processed  16 models on 15 predictors in 0.061627864837646484 seconds.\n",
      "Processed  15 models on 14 predictors in 0.06698489189147949 seconds.\n",
      "Processed  14 models on 13 predictors in 0.0715019702911377 seconds.\n",
      "Processed  13 models on 12 predictors in 0.07284307479858398 seconds.\n",
      "Processed  12 models on 11 predictors in 0.08127903938293457 seconds.\n",
      "Processed  11 models on 10 predictors in 0.09083318710327148 seconds.\n",
      "Processed  10 models on 9 predictors in 0.04848980903625488 seconds.\n",
      "Processed  9 models on 8 predictors in 0.038469791412353516 seconds.\n",
      "Processed  8 models on 7 predictors in 0.04826712608337402 seconds.\n",
      "Processed  7 models on 6 predictors in 0.0277860164642334 seconds.\n",
      "Processed  6 models on 5 predictors in 0.024020910263061523 seconds.\n",
      "Processed  5 models on 4 predictors in 0.033032894134521484 seconds.\n",
      "Processed  4 models on 3 predictors in 0.027831077575683594 seconds.\n",
      "Processed  3 models on 2 predictors in 0.021654129028320312 seconds.\n",
      "Processed  2 models on 1 predictors in 0.008587121963500977 seconds.\n",
      "Total elapsed time: 1.0344221591949463 seconds.\n"
     ]
    }
   ],
   "source": [
    "models_bwd = pd.DataFrame(columns=[\"RSS\", \"model\"], index = range(1,len(X.columns)))\n",
    "\n",
    "tic = time.time()\n",
    "predictors = X.columns\n",
    "\n",
    "while(len(predictors) > 1):  \n",
    "    models_bwd.loc[len(predictors)-1] = backward(predictors)\n",
    "    predictors = models_bwd.loc[len(predictors)-1][\"model\"].model.exog_names\n",
    "\n",
    "toc = time.time()\n",
    "print(\"Total elapsed time:\", (toc-tic), \"seconds.\")"
   ]
  },
  {
   "cell_type": "markdown",
   "metadata": {},
   "source": [
    "For this data, the best one-variable through six-variable\n",
    "models are each identical for best subset and forward selection.\n",
    "However, the best seven-variable models identified by forward stepwise selection,\n",
    "backward stepwise selection, and best subset selection are different:"
   ]
  },
  {
   "cell_type": "code",
   "execution_count": 75,
   "metadata": {},
   "outputs": [
    {
     "name": "stdout",
     "output_type": "stream",
     "text": [
      "------------\n",
      "Best Subset:\n",
      "------------\n",
      "Hits    2.953804\n",
      "CRBI    0.678771\n",
      "dtype: float64\n"
     ]
    }
   ],
   "source": [
    "print(\"------------\")\n",
    "print(\"Best Subset:\")\n",
    "print(\"------------\")\n",
    "print(models_best.loc[2, \"model\"].params)"
   ]
  },
  {
   "cell_type": "code",
   "execution_count": 76,
   "metadata": {},
   "outputs": [
    {
     "name": "stdout",
     "output_type": "stream",
     "text": [
      "-----------------\n",
      "Foward Selection:\n",
      "-----------------\n",
      "Hits            3.405706\n",
      "CRBI            0.696362\n",
      "Division_W   -129.160367\n",
      "dtype: float64\n"
     ]
    }
   ],
   "source": [
    "print(\"-----------------\")\n",
    "print(\"Foward Selection:\")\n",
    "print(\"-----------------\")\n",
    "print(models_fwd.loc[3, \"model\"].params)"
   ]
  },
  {
   "cell_type": "code",
   "execution_count": 77,
   "metadata": {},
   "outputs": [
    {
     "name": "stdout",
     "output_type": "stream",
     "text": [
      "-------------------\n",
      "Backward Selection:\n",
      "-------------------\n",
      "AtBat     -1.473144\n",
      "Hits       7.323383\n",
      "CRuns      0.672993\n",
      "PutOuts    0.330127\n",
      "dtype: float64\n"
     ]
    }
   ],
   "source": [
    "print(\"-------------------\")\n",
    "print(\"Backward Selection:\")\n",
    "print(\"-------------------\")\n",
    "print(models_bwd.loc[4, \"model\"].params)"
   ]
  },
  {
   "cell_type": "markdown",
   "metadata": {},
   "source": [
    "### Lab 1.3: Choosing Among Models Using the Validation Set Approach and Cross-Validation"
   ]
  },
  {
   "cell_type": "markdown",
   "metadata": {},
   "source": [
    "#### Model selection using the Validation Set Approach"
   ]
  },
  {
   "cell_type": "markdown",
   "metadata": {},
   "source": [
    "In Lab 8, we saw that it is possible to choose among a set of models of different\n",
    "sizes using $C_p$, BIC, and adjusted $R^2$. We will now consider how to do this\n",
    "using the validation set and cross-validation approaches.\n",
    "\n",
    "As in Lab 8, we'll be working with the `Hitters` dataset from `ISLR`. Since we're trying to predict `Salary` and we know from last time that some are missing, let's first drop all the rows with missing values and do a little cleanup:"
   ]
  },
  {
   "cell_type": "code",
   "execution_count": 78,
   "metadata": {},
   "outputs": [],
   "source": [
    "df = pd.read_csv('data/Hitters.csv')\n",
    "\n",
    "# Drop any rows the contain missing values, along with the player names\n",
    "df = df.dropna().iloc[:,1:]\n",
    "\n",
    "# Get dummy variables\n",
    "dummies = pd.get_dummies(df[['League', 'Division', 'NewLeague']])\n",
    "\n",
    "# Extract independent variable\n",
    "y = pd.DataFrame(df.Salary)\n",
    "\n",
    "# Drop the column with the independent variable (Salary), and columns for which we created dummy variables\n",
    "X_ = df.drop(['Salary', 'League', 'Division', 'NewLeague'], axis=1).astype('float64')\n",
    "\n",
    "# Define the feature set X.\n",
    "X = pd.concat([X_, dummies[['League_N', 'Division_W', 'NewLeague_N']]], axis=1)"
   ]
  },
  {
   "cell_type": "markdown",
   "metadata": {},
   "source": [
    "In order for the validation set approach to yield accurate estimates of the test\n",
    "error, we must use *only the training observations* to perform all aspects of\n",
    "model-fitting — including variable selection. Therefore, the determination of\n",
    "which model of a given size is best must be made using *only the training\n",
    "observations*. This point is subtle but important. If the full data set is used\n",
    "to perform the best subset selection step, the validation set errors and\n",
    "cross-validation errors that we obtain will not be accurate estimates of the\n",
    "test error.\n",
    "\n",
    "In order to use the validation set approach, we begin by splitting the\n",
    "observations into a training set and a test set. We do this by creating\n",
    "a random vector, train, of elements equal to TRUE if the corresponding\n",
    "observation is in the training set, and FALSE otherwise. The vector test has\n",
    "a TRUE if the observation is in the test set, and a FALSE otherwise. Note the\n",
    "`np.invert()` in the command to create test causes TRUEs to be switched to FALSEs and\n",
    "vice versa. We also set a random seed so that the user will obtain the same\n",
    "training set/test set split."
   ]
  },
  {
   "cell_type": "code",
   "execution_count": 79,
   "metadata": {},
   "outputs": [],
   "source": [
    "np.random.seed(seed=12)\n",
    "train = np.random.choice([True, False], size = len(y), replace = True)\n",
    "test = np.invert(train)"
   ]
  },
  {
   "cell_type": "markdown",
   "metadata": {},
   "source": [
    "We'll define our helper function to outputs the best set of variables for each model size like we did in Lab 8. Note that we'll need to modify this to take in both test and training sets, because we want the returned error to be the **test** error:"
   ]
  },
  {
   "cell_type": "code",
   "execution_count": 80,
   "metadata": {},
   "outputs": [],
   "source": [
    "def processSubset(feature_set, X_train, y_train, X_test, y_test):\n",
    "    # Fit model on feature_set and calculate RSS\n",
    "    model = sm.OLS(y_train,X_train[list(feature_set)])\n",
    "    regr = model.fit()\n",
    "    RSS = ((regr.predict(X_test[list(feature_set)]) - y_test) ** 2).sum()\n",
    "    return {\"model\":regr, \"RSS\":RSS}"
   ]
  },
  {
   "cell_type": "markdown",
   "metadata": {},
   "source": [
    "And our function to perform forward selection:"
   ]
  },
  {
   "cell_type": "code",
   "execution_count": 81,
   "metadata": {},
   "outputs": [],
   "source": [
    "def forward(predictors, X_train, y_train, X_test, y_test):\n",
    "    \n",
    "    results = []\n",
    "\n",
    "    # Pull out predictors we still need to process\n",
    "    remaining_predictors = [p for p in X_train.columns if p not in predictors]\n",
    "    \n",
    "    for p in remaining_predictors:\n",
    "        results.append(processSubset(predictors+[p], X_train, y_train, X_test, y_test))\n",
    "    \n",
    "    # Wrap everything up in a nice dataframe\n",
    "    models = pd.DataFrame(results)\n",
    "    \n",
    "    # Choose the model with the highest RSS\n",
    "    best_model = models.loc[models['RSS'].argmin()]\n",
    "        \n",
    "    # Return the best model, along with some other useful information about the model\n",
    "    return best_model"
   ]
  },
  {
   "cell_type": "markdown",
   "metadata": {},
   "source": [
    "Now, we'll call our `forward()` function on the training set in order to perform forward selection for all model sizes:"
   ]
  },
  {
   "cell_type": "code",
   "execution_count": 82,
   "metadata": {},
   "outputs": [],
   "source": [
    "models_train = pd.DataFrame(columns=[\"RSS\", \"model\"])\n",
    "\n",
    "predictors = []\n",
    "\n",
    "for i in range(1,len(X.columns)+1):    \n",
    "    models_train.loc[i] = forward(predictors, X[train], y[train][\"Salary\"], X[test], y[test][\"Salary\"])\n",
    "    predictors = models_train.loc[i][\"model\"].model.exog_names"
   ]
  },
  {
   "cell_type": "markdown",
   "metadata": {
    "collapsed": true
   },
   "source": [
    "Now let's plot the errors, and find the model that minimizes it:"
   ]
  },
  {
   "cell_type": "code",
   "execution_count": 85,
   "metadata": {},
   "outputs": [
    {
     "data": {
      "image/png": "[encoded data removed]",
      "text/plain": [
       "<Figure size 576x360 with 1 Axes>"
      ]
     },
     "metadata": {},
     "output_type": "display_data"
    }
   ],
   "source": [
    "plt.plot(models_train[\"RSS\"])\n",
    "plt.xlabel('# Predictors')\n",
    "plt.ylabel('RSS')\n",
    "plt.plot(models_train[\"RSS\"].argmin(), models_train[\"RSS\"].min(), \"or\");"
   ]
  },
  {
   "cell_type": "markdown",
   "metadata": {},
   "source": [
    "Viola! We find that the best model (according to the validation set approach) is the one that contains 10 predictors.\n",
    "\n",
    "Now that we know what we're looking for, let's perform best subset selection on the full dataset and select the best 10-predictor model. It is important that we make use of the *full\n",
    "data set* in order to obtain more accurate coefficient estimates. We perform this selection on the *full data set* and select the best 10-predictor\n",
    "model, rather than simply using the predictors that we obtained\n",
    "from the training set, because the best 10-predictor model on the full data\n",
    "set may differ from the corresponding model on the training set."
   ]
  },
  {
   "cell_type": "code",
   "execution_count": 86,
   "metadata": {},
   "outputs": [],
   "source": [
    "models_test = pd.DataFrame(columns=[\"RSS\", \"model\"])\n",
    "\n",
    "predictors = []\n",
    "\n",
    "for i in range(1,11):    \n",
    "    models_test.loc[i] = forward(predictors, X[test], y[test][\"Salary\"], X[test], y[test][\"Salary\"])\n",
    "    predictors = models_test.loc[i][\"model\"].model.exog_names"
   ]
  },
  {
   "cell_type": "markdown",
   "metadata": {},
   "source": [
    "In fact, we see that the best ten-variable model on the full data set has a\n",
    "**different set of predictors** than the best ten-variable model on the training\n",
    "set:"
   ]
  },
  {
   "cell_type": "code",
   "execution_count": 87,
   "metadata": {},
   "outputs": [
    {
     "name": "stdout",
     "output_type": "stream",
     "text": [
      "['Walks', 'CRBI', 'Hits', 'Division_W', 'CWalks', 'CRuns', 'AtBat', 'League_N', 'CHits', 'Runs']\n",
      "['Walks', 'CRBI', 'Assists', 'Division_W', 'CWalks', 'CRuns', 'PutOuts', 'Errors', 'League_N', 'CHmRun']\n"
     ]
    }
   ],
   "source": [
    "print(models_train.loc[10, \"model\"].model.exog_names)\n",
    "print(models_test.loc[10, \"model\"].model.exog_names)"
   ]
  },
  {
   "cell_type": "markdown",
   "metadata": {},
   "source": [
    "#### Model selection using Cross-Validation"
   ]
  },
  {
   "cell_type": "markdown",
   "metadata": {},
   "source": [
    "Now let's try to choose among the models of different sizes using cross-validation.\n",
    "This approach is somewhat involved, as we must perform forward selection within each of the $k$ training sets. Despite this, we see that\n",
    "with its clever subsetting syntax, `python` makes this job quite easy. First, we\n",
    "create a vector that assigns each observation to one of $k = 10$ folds, and\n",
    "we create a DataFrame in which we will store the results:"
   ]
  },
  {
   "cell_type": "code",
   "execution_count": 88,
   "metadata": {},
   "outputs": [],
   "source": [
    "k = 10        # number of folds\n",
    "np.random.seed(seed=1)\n",
    "folds = np.random.choice(k, size = len(y), replace = True)\n",
    "\n",
    "# Create a DataFrame to store the results of our upcoming calculations\n",
    "cv_errors = pd.DataFrame(columns=range(1,k+1), index=range(1,20))\n",
    "cv_errors = cv_errors.fillna(0)"
   ]
  },
  {
   "cell_type": "markdown",
   "metadata": {
    "collapsed": true
   },
   "source": [
    "Now let's write a for loop that performs cross-validation. In the $j^{th}$ fold, the\n",
    "elements of folds that equal $j$ are in the test set, and the remainder are in\n",
    "the training set. We make our predictions for each model size, compute the test errors on the appropriate subset,\n",
    "and store them in the appropriate slot in the matrix `cv.errors`."
   ]
  },
  {
   "cell_type": "code",
   "execution_count": 89,
   "metadata": {},
   "outputs": [],
   "source": [
    "models_cv = pd.DataFrame(columns=[\"RSS\", \"model\"])\n",
    "    \n",
    "# Outer loop iterates over all folds\n",
    "for j in range(1,k+1):\n",
    "\n",
    "    # Reset predictors\n",
    "    predictors = []\n",
    "    \n",
    "    # Inner loop iterates over each size i\n",
    "    for i in range(1,len(X.columns)+1):    \n",
    "    \n",
    "        # The perform forward selection on the full dataset minus the jth fold, test on jth fold\n",
    "        models_cv.loc[i] = forward(predictors, X[folds != (j-1)], y[folds != (j-1)][\"Salary\"], X[folds == (j-1)], y[folds == (j-1)][\"Salary\"])\n",
    "        \n",
    "        # Save the cross-validated error for this fold\n",
    "        cv_errors[j][i] = models_cv.loc[i][\"RSS\"]\n",
    "\n",
    "        # Extract the predictors\n",
    "        predictors = models_cv.loc[i][\"model\"].model.exog_names\n",
    "        "
   ]
  },
  {
   "cell_type": "code",
   "execution_count": 90,
   "metadata": {},
   "outputs": [
    {
     "data": {
      "text/html": [
       "<div>\n",
       "<style scoped>\n",
       "    .dataframe tbody tr th:only-of-type {\n",
       "        vertical-align: middle;\n",
       "    }\n",
       "\n",
       "    .dataframe tbody tr th {\n",
       "        vertical-align: top;\n",
       "    }\n",
       "\n",
       "    .dataframe thead th {\n",
       "        text-align: right;\n",
       "    }\n",
       "</style>\n",
       "<table border=\"1\" class=\"dataframe\">\n",
       "  <thead>\n",
       "    <tr style=\"text-align: right;\">\n",
       "      <th></th>\n",
       "      <th>1</th>\n",
       "      <th>2</th>\n",
       "      <th>3</th>\n",
       "      <th>4</th>\n",
       "      <th>5</th>\n",
       "      <th>6</th>\n",
       "      <th>7</th>\n",
       "      <th>8</th>\n",
       "      <th>9</th>\n",
       "      <th>10</th>\n",
       "    </tr>\n",
       "  </thead>\n",
       "  <tbody>\n",
       "    <tr>\n",
       "      <th>1</th>\n",
       "      <td>3107900</td>\n",
       "      <td>3212304</td>\n",
       "      <td>4840103</td>\n",
       "      <td>2475453</td>\n",
       "      <td>3750302</td>\n",
       "      <td>1551976</td>\n",
       "      <td>1827366</td>\n",
       "      <td>9115194</td>\n",
       "      <td>1370720</td>\n",
       "      <td>2204862</td>\n",
       "    </tr>\n",
       "    <tr>\n",
       "      <th>2</th>\n",
       "      <td>2354036</td>\n",
       "      <td>2247881</td>\n",
       "      <td>3414444</td>\n",
       "      <td>1642455</td>\n",
       "      <td>3160950</td>\n",
       "      <td>1250564</td>\n",
       "      <td>1567469</td>\n",
       "      <td>8520751</td>\n",
       "      <td>1081052</td>\n",
       "      <td>1856304</td>\n",
       "    </tr>\n",
       "    <tr>\n",
       "      <th>3</th>\n",
       "      <td>2148733</td>\n",
       "      <td>2012864</td>\n",
       "      <td>3009435</td>\n",
       "      <td>1566581</td>\n",
       "      <td>2775618</td>\n",
       "      <td>907304</td>\n",
       "      <td>1260460</td>\n",
       "      <td>8456576</td>\n",
       "      <td>969784</td>\n",
       "      <td>1674333</td>\n",
       "    </tr>\n",
       "    <tr>\n",
       "      <th>4</th>\n",
       "      <td>1946031</td>\n",
       "      <td>1870511</td>\n",
       "      <td>2630784</td>\n",
       "      <td>1521525</td>\n",
       "      <td>2618750</td>\n",
       "      <td>805135</td>\n",
       "      <td>1143882</td>\n",
       "      <td>8331746</td>\n",
       "      <td>857553</td>\n",
       "      <td>1618265</td>\n",
       "    </tr>\n",
       "    <tr>\n",
       "      <th>5</th>\n",
       "      <td>1850398</td>\n",
       "      <td>1605148</td>\n",
       "      <td>2537690</td>\n",
       "      <td>1502728</td>\n",
       "      <td>2608466</td>\n",
       "      <td>776171</td>\n",
       "      <td>1124174</td>\n",
       "      <td>8221957</td>\n",
       "      <td>793919</td>\n",
       "      <td>1574253</td>\n",
       "    </tr>\n",
       "    <tr>\n",
       "      <th>6</th>\n",
       "      <td>1778324</td>\n",
       "      <td>1574266</td>\n",
       "      <td>2498621</td>\n",
       "      <td>1482575</td>\n",
       "      <td>2632055</td>\n",
       "      <td>776163</td>\n",
       "      <td>1115741</td>\n",
       "      <td>8196969</td>\n",
       "      <td>781235</td>\n",
       "      <td>1534220</td>\n",
       "    </tr>\n",
       "    <tr>\n",
       "      <th>7</th>\n",
       "      <td>1761111</td>\n",
       "      <td>1524413</td>\n",
       "      <td>2452303</td>\n",
       "      <td>1480345</td>\n",
       "      <td>2661104</td>\n",
       "      <td>779716</td>\n",
       "      <td>1104388</td>\n",
       "      <td>8171959</td>\n",
       "      <td>776457</td>\n",
       "      <td>1503831</td>\n",
       "    </tr>\n",
       "    <tr>\n",
       "      <th>8</th>\n",
       "      <td>1733230</td>\n",
       "      <td>1529625</td>\n",
       "      <td>2418943</td>\n",
       "      <td>1477510</td>\n",
       "      <td>2660654</td>\n",
       "      <td>803859</td>\n",
       "      <td>1100753</td>\n",
       "      <td>7449396</td>\n",
       "      <td>774589</td>\n",
       "      <td>1536790</td>\n",
       "    </tr>\n",
       "    <tr>\n",
       "      <th>9</th>\n",
       "      <td>1773705</td>\n",
       "      <td>1607919</td>\n",
       "      <td>2381843</td>\n",
       "      <td>1504519</td>\n",
       "      <td>2677002</td>\n",
       "      <td>821629</td>\n",
       "      <td>1096925</td>\n",
       "      <td>7136283</td>\n",
       "      <td>774616</td>\n",
       "      <td>1542746</td>\n",
       "    </tr>\n",
       "    <tr>\n",
       "      <th>10</th>\n",
       "      <td>1865909</td>\n",
       "      <td>1682293</td>\n",
       "      <td>2378624</td>\n",
       "      <td>1528102</td>\n",
       "      <td>2597881</td>\n",
       "      <td>854997</td>\n",
       "      <td>1136162</td>\n",
       "      <td>7059485</td>\n",
       "      <td>775993</td>\n",
       "      <td>1597314</td>\n",
       "    </tr>\n",
       "    <tr>\n",
       "      <th>11</th>\n",
       "      <td>2001187</td>\n",
       "      <td>1972309</td>\n",
       "      <td>2377337</td>\n",
       "      <td>1540347</td>\n",
       "      <td>2659206</td>\n",
       "      <td>866399</td>\n",
       "      <td>1150317</td>\n",
       "      <td>7047911</td>\n",
       "      <td>705031</td>\n",
       "      <td>1751416</td>\n",
       "    </tr>\n",
       "    <tr>\n",
       "      <th>12</th>\n",
       "      <td>2183874</td>\n",
       "      <td>2120447</td>\n",
       "      <td>2376437</td>\n",
       "      <td>1583554</td>\n",
       "      <td>2727452</td>\n",
       "      <td>980350</td>\n",
       "      <td>1114814</td>\n",
       "      <td>7056950</td>\n",
       "      <td>687640</td>\n",
       "      <td>1945971</td>\n",
       "    </tr>\n",
       "    <tr>\n",
       "      <th>13</th>\n",
       "      <td>2337672</td>\n",
       "      <td>2333119</td>\n",
       "      <td>2398381</td>\n",
       "      <td>1729660</td>\n",
       "      <td>2772831</td>\n",
       "      <td>1039253</td>\n",
       "      <td>1104974</td>\n",
       "      <td>7117616</td>\n",
       "      <td>699082</td>\n",
       "      <td>1857369</td>\n",
       "    </tr>\n",
       "    <tr>\n",
       "      <th>14</th>\n",
       "      <td>2398776</td>\n",
       "      <td>2556735</td>\n",
       "      <td>2426684</td>\n",
       "      <td>1788102</td>\n",
       "      <td>2804067</td>\n",
       "      <td>993013</td>\n",
       "      <td>1142143</td>\n",
       "      <td>7469678</td>\n",
       "      <td>743080</td>\n",
       "      <td>1884753</td>\n",
       "    </tr>\n",
       "    <tr>\n",
       "      <th>15</th>\n",
       "      <td>1971720</td>\n",
       "      <td>2519254</td>\n",
       "      <td>2421747</td>\n",
       "      <td>1750523</td>\n",
       "      <td>3054990</td>\n",
       "      <td>1033770</td>\n",
       "      <td>1204091</td>\n",
       "      <td>7439538</td>\n",
       "      <td>763736</td>\n",
       "      <td>1980209</td>\n",
       "    </tr>\n",
       "    <tr>\n",
       "      <th>16</th>\n",
       "      <td>1948823</td>\n",
       "      <td>2774368</td>\n",
       "      <td>2454268</td>\n",
       "      <td>1820562</td>\n",
       "      <td>3226325</td>\n",
       "      <td>1080503</td>\n",
       "      <td>1326684</td>\n",
       "      <td>7616005</td>\n",
       "      <td>824465</td>\n",
       "      <td>1949936</td>\n",
       "    </tr>\n",
       "    <tr>\n",
       "      <th>17</th>\n",
       "      <td>2030731</td>\n",
       "      <td>2884961</td>\n",
       "      <td>2644840</td>\n",
       "      <td>1906939</td>\n",
       "      <td>3342739</td>\n",
       "      <td>1105981</td>\n",
       "      <td>1324450</td>\n",
       "      <td>7637693</td>\n",
       "      <td>879744</td>\n",
       "      <td>2045321</td>\n",
       "    </tr>\n",
       "    <tr>\n",
       "      <th>18</th>\n",
       "      <td>2199928</td>\n",
       "      <td>3027921</td>\n",
       "      <td>2787490</td>\n",
       "      <td>2016598</td>\n",
       "      <td>4336091</td>\n",
       "      <td>1181122</td>\n",
       "      <td>1421665</td>\n",
       "      <td>7770971</td>\n",
       "      <td>909756</td>\n",
       "      <td>2062251</td>\n",
       "    </tr>\n",
       "    <tr>\n",
       "      <th>19</th>\n",
       "      <td>2601547</td>\n",
       "      <td>3389497</td>\n",
       "      <td>3137982</td>\n",
       "      <td>2412422</td>\n",
       "      <td>4918740</td>\n",
       "      <td>1706786</td>\n",
       "      <td>1582120</td>\n",
       "      <td>7933249</td>\n",
       "      <td>1202840</td>\n",
       "      <td>2066104</td>\n",
       "    </tr>\n",
       "  </tbody>\n",
       "</table>\n",
       "</div>"
      ],
      "text/plain": [
       "         1        2        3        4        5        6        7        8   \\\n",
       "1   3107900  3212304  4840103  2475453  3750302  1551976  1827366  9115194   \n",
       "2   2354036  2247881  3414444  1642455  3160950  1250564  1567469  8520751   \n",
       "3   2148733  2012864  3009435  1566581  2775618   907304  1260460  8456576   \n",
       "4   1946031  1870511  2630784  1521525  2618750   805135  1143882  8331746   \n",
       "5   1850398  1605148  2537690  1502728  2608466   776171  1124174  8221957   \n",
       "6   1778324  1574266  2498621  1482575  2632055   776163  1115741  8196969   \n",
       "7   1761111  1524413  2452303  1480345  2661104   779716  1104388  8171959   \n",
       "8   1733230  1529625  2418943  1477510  2660654   803859  1100753  7449396   \n",
       "9   1773705  1607919  2381843  1504519  2677002   821629  1096925  7136283   \n",
       "10  1865909  1682293  2378624  1528102  2597881   854997  1136162  7059485   \n",
       "11  2001187  1972309  2377337  1540347  2659206   866399  1150317  7047911   \n",
       "12  2183874  2120447  2376437  1583554  2727452   980350  1114814  7056950   \n",
       "13  2337672  2333119  2398381  1729660  2772831  1039253  1104974  7117616   \n",
       "14  2398776  2556735  2426684  1788102  2804067   993013  1142143  7469678   \n",
       "15  1971720  2519254  2421747  1750523  3054990  1033770  1204091  7439538   \n",
       "16  1948823  2774368  2454268  1820562  3226325  1080503  1326684  7616005   \n",
       "17  2030731  2884961  2644840  1906939  3342739  1105981  1324450  7637693   \n",
       "18  2199928  3027921  2787490  2016598  4336091  1181122  1421665  7770971   \n",
       "19  2601547  3389497  3137982  2412422  4918740  1706786  1582120  7933249   \n",
       "\n",
       "         9        10  \n",
       "1   1370720  2204862  \n",
       "2   1081052  1856304  \n",
       "3    969784  1674333  \n",
       "4    857553  1618265  \n",
       "5    793919  1574253  \n",
       "6    781235  1534220  \n",
       "7    776457  1503831  \n",
       "8    774589  1536790  \n",
       "9    774616  1542746  \n",
       "10   775993  1597314  \n",
       "11   705031  1751416  \n",
       "12   687640  1945971  \n",
       "13   699082  1857369  \n",
       "14   743080  1884753  \n",
       "15   763736  1980209  \n",
       "16   824465  1949936  \n",
       "17   879744  2045321  \n",
       "18   909756  2062251  \n",
       "19  1202840  2066104  "
      ]
     },
     "execution_count": 90,
     "metadata": {},
     "output_type": "execute_result"
    }
   ],
   "source": [
    "cv_errors"
   ]
  },
  {
   "cell_type": "markdown",
   "metadata": {
    "collapsed": true
   },
   "source": [
    "This has filled up the `cv_errors` DataFrame such that the $(i,j)^{th}$ element corresponds\n",
    "to the test MSE for the $i^{th}$ cross-validation fold for the best $j$-variable\n",
    "model.  We can then use the `apply()` function to take the `mean` over the columns of this\n",
    "matrix. This will give us a vector for which the $j^{th}$ element is the cross-validation\n",
    "error for the $j$-variable model."
   ]
  },
  {
   "cell_type": "code",
   "execution_count": 94,
   "metadata": {},
   "outputs": [
    {
     "data": {
      "image/png": "[encoded data removed]",
      "text/plain": [
       "<Figure size 576x360 with 1 Axes>"
      ]
     },
     "metadata": {},
     "output_type": "display_data"
    }
   ],
   "source": [
    "cv_mean = cv_errors.apply(np.mean, axis=1)\n",
    "\n",
    "plt.plot(cv_mean)\n",
    "plt.xlabel('# Predictors')\n",
    "plt.ylabel('CV Error')\n",
    "plt.plot(cv_mean.argmin(), cv_mean.min(), \"or\");"
   ]
  },
  {
   "cell_type": "markdown",
   "metadata": {},
   "source": [
    "We see that cross-validation selects a 9-predictor model. Now let's go back to our results on the full data set in order to obtain the 9-predictor model."
   ]
  },
  {
   "cell_type": "code",
   "execution_count": 95,
   "metadata": {},
   "outputs": [
    {
     "data": {
      "text/html": [
       "<table class=\"simpletable\">\n",
       "<caption>OLS Regression Results</caption>\n",
       "<tr>\n",
       "  <th>Dep. Variable:</th>         <td>Salary</td>      <th>  R-squared (uncentered):</th>      <td>   0.685</td>\n",
       "</tr>\n",
       "<tr>\n",
       "  <th>Model:</th>                   <td>OLS</td>       <th>  Adj. R-squared (uncentered):</th> <td>   0.672</td>\n",
       "</tr>\n",
       "<tr>\n",
       "  <th>Method:</th>             <td>Least Squares</td>  <th>  F-statistic:       </th>          <td>   54.56</td>\n",
       "</tr>\n",
       "<tr>\n",
       "  <th>Date:</th>             <td>Thu, 22 Oct 2020</td> <th>  Prob (F-statistic):</th>          <td>8.32e-52</td>\n",
       "</tr>\n",
       "<tr>\n",
       "  <th>Time:</th>                 <td>09:29:54</td>     <th>  Log-Likelihood:    </th>          <td> -1737.9</td>\n",
       "</tr>\n",
       "<tr>\n",
       "  <th>No. Observations:</th>      <td>   235</td>      <th>  AIC:               </th>          <td>   3494.</td>\n",
       "</tr>\n",
       "<tr>\n",
       "  <th>Df Residuals:</th>          <td>   226</td>      <th>  BIC:               </th>          <td>   3525.</td>\n",
       "</tr>\n",
       "<tr>\n",
       "  <th>Df Model:</th>              <td>     9</td>      <th>                     </th>              <td> </td>   \n",
       "</tr>\n",
       "<tr>\n",
       "  <th>Covariance Type:</th>      <td>nonrobust</td>    <th>                     </th>              <td> </td>   \n",
       "</tr>\n",
       "</table>\n",
       "<table class=\"simpletable\">\n",
       "<tr>\n",
       "       <td></td>         <th>coef</th>     <th>std err</th>      <th>t</th>      <th>P>|t|</th>  <th>[0.025</th>    <th>0.975]</th>  \n",
       "</tr>\n",
       "<tr>\n",
       "  <th>Hits</th>       <td>    5.1036</td> <td>    2.325</td> <td>    2.195</td> <td> 0.029</td> <td>    0.522</td> <td>    9.686</td>\n",
       "</tr>\n",
       "<tr>\n",
       "  <th>PutOuts</th>    <td>    0.2727</td> <td>    0.101</td> <td>    2.692</td> <td> 0.008</td> <td>    0.073</td> <td>    0.472</td>\n",
       "</tr>\n",
       "<tr>\n",
       "  <th>Division_W</th> <td>  -88.1122</td> <td>   50.742</td> <td>   -1.736</td> <td> 0.084</td> <td> -188.101</td> <td>   11.876</td>\n",
       "</tr>\n",
       "<tr>\n",
       "  <th>HmRun</th>      <td>   -0.8294</td> <td>    6.640</td> <td>   -0.125</td> <td> 0.901</td> <td>  -13.913</td> <td>   12.254</td>\n",
       "</tr>\n",
       "<tr>\n",
       "  <th>AtBat</th>      <td>   -0.7780</td> <td>    0.667</td> <td>   -1.166</td> <td> 0.245</td> <td>   -2.093</td> <td>    0.537</td>\n",
       "</tr>\n",
       "<tr>\n",
       "  <th>League_N</th>   <td>  103.4130</td> <td>   51.270</td> <td>    2.017</td> <td> 0.045</td> <td>    2.384</td> <td>  204.442</td>\n",
       "</tr>\n",
       "<tr>\n",
       "  <th>RBI</th>        <td>    5.3063</td> <td>    3.007</td> <td>    1.764</td> <td> 0.079</td> <td>   -0.620</td> <td>   11.232</td>\n",
       "</tr>\n",
       "<tr>\n",
       "  <th>Assists</th>    <td>    0.1477</td> <td>    0.281</td> <td>    0.525</td> <td> 0.600</td> <td>   -0.406</td> <td>    0.702</td>\n",
       "</tr>\n",
       "<tr>\n",
       "  <th>Errors</th>     <td>   -9.2617</td> <td>    5.660</td> <td>   -1.636</td> <td> 0.103</td> <td>  -20.415</td> <td>    1.892</td>\n",
       "</tr>\n",
       "</table>\n",
       "<table class=\"simpletable\">\n",
       "<tr>\n",
       "  <th>Omnibus:</th>       <td>62.044</td> <th>  Durbin-Watson:     </th> <td>   1.995</td>\n",
       "</tr>\n",
       "<tr>\n",
       "  <th>Prob(Omnibus):</th> <td> 0.000</td> <th>  Jarque-Bera (JB):  </th> <td> 182.556</td>\n",
       "</tr>\n",
       "<tr>\n",
       "  <th>Skew:</th>          <td> 1.123</td> <th>  Prob(JB):          </th> <td>2.28e-40</td>\n",
       "</tr>\n",
       "<tr>\n",
       "  <th>Kurtosis:</th>      <td> 6.687</td> <th>  Cond. No.          </th> <td>1.19e+03</td>\n",
       "</tr>\n",
       "</table><br/><br/>Notes:<br/>[1] R² is computed without centering (uncentered) since the model does not contain a constant.<br/>[2] Standard Errors assume that the covariance matrix of the errors is correctly specified.<br/>[3] The condition number is large, 1.19e+03. This might indicate that there are<br/>strong multicollinearity or other numerical problems."
      ],
      "text/plain": [
       "<class 'statsmodels.iolib.summary.Summary'>\n",
       "\"\"\"\n",
       "                                 OLS Regression Results                                \n",
       "=======================================================================================\n",
       "Dep. Variable:                 Salary   R-squared (uncentered):                   0.685\n",
       "Model:                            OLS   Adj. R-squared (uncentered):              0.672\n",
       "Method:                 Least Squares   F-statistic:                              54.56\n",
       "Date:                Thu, 22 Oct 2020   Prob (F-statistic):                    8.32e-52\n",
       "Time:                        09:29:54   Log-Likelihood:                         -1737.9\n",
       "No. Observations:                 235   AIC:                                      3494.\n",
       "Df Residuals:                     226   BIC:                                      3525.\n",
       "Df Model:                           9                                                  \n",
       "Covariance Type:            nonrobust                                                  \n",
       "==============================================================================\n",
       "                 coef    std err          t      P>|t|      [0.025      0.975]\n",
       "------------------------------------------------------------------------------\n",
       "Hits           5.1036      2.325      2.195      0.029       0.522       9.686\n",
       "PutOuts        0.2727      0.101      2.692      0.008       0.073       0.472\n",
       "Division_W   -88.1122     50.742     -1.736      0.084    -188.101      11.876\n",
       "HmRun         -0.8294      6.640     -0.125      0.901     -13.913      12.254\n",
       "AtBat         -0.7780      0.667     -1.166      0.245      -2.093       0.537\n",
       "League_N     103.4130     51.270      2.017      0.045       2.384     204.442\n",
       "RBI            5.3063      3.007      1.764      0.079      -0.620      11.232\n",
       "Assists        0.1477      0.281      0.525      0.600      -0.406       0.702\n",
       "Errors        -9.2617      5.660     -1.636      0.103     -20.415       1.892\n",
       "==============================================================================\n",
       "Omnibus:                       62.044   Durbin-Watson:                   1.995\n",
       "Prob(Omnibus):                  0.000   Jarque-Bera (JB):              182.556\n",
       "Skew:                           1.123   Prob(JB):                     2.28e-40\n",
       "Kurtosis:                       6.687   Cond. No.                     1.19e+03\n",
       "==============================================================================\n",
       "\n",
       "Notes:\n",
       "[1] R² is computed without centering (uncentered) since the model does not contain a constant.\n",
       "[2] Standard Errors assume that the covariance matrix of the errors is correctly specified.\n",
       "[3] The condition number is large, 1.19e+03. This might indicate that there are\n",
       "strong multicollinearity or other numerical problems.\n",
       "\"\"\""
      ]
     },
     "execution_count": 95,
     "metadata": {},
     "output_type": "execute_result"
    }
   ],
   "source": [
    "models_cv.loc[9, \"model\"].summary()"
   ]
  },
  {
   "cell_type": "markdown",
   "metadata": {},
   "source": [
    "For comparison, let's also take a look at the statistics from last lab:"
   ]
  },
  {
   "cell_type": "code",
   "execution_count": 96,
   "metadata": {},
   "outputs": [
    {
     "data": {
      "text/plain": [
       "Text(0, 0.5, 'BIC')"
      ]
     },
     "execution_count": 96,
     "metadata": {},
     "output_type": "execute_result"
    },
    {
     "data": {
      "image/png": "[encoded data removed]",
      "text/plain": [
       "<Figure size 1440x720 with 4 Axes>"
      ]
     },
     "metadata": {},
     "output_type": "display_data"
    }
   ],
   "source": [
    "plt.figure(figsize=(20,10))\n",
    "plt.rcParams.update({'font.size': 18, 'lines.markersize': 10})\n",
    "\n",
    "# Set up a 2x2 grid so we can look at 4 plots at once\n",
    "plt.subplot(2, 2, 1)\n",
    "\n",
    "# We will now plot a red dot to indicate the model with the largest adjusted R^2 statistic.\n",
    "# The argmax() function can be used to identify the location of the maximum point of a vector\n",
    "plt.plot(models_cv[\"RSS\"])\n",
    "plt.xlabel('# Predictors')\n",
    "plt.ylabel('RSS')\n",
    "\n",
    "# We will now plot a red dot to indicate the model with the largest adjusted R^2 statistic.\n",
    "# The argmax() function can be used to identify the location of the maximum point of a vector\n",
    "\n",
    "rsquared_adj = models_cv.apply(lambda row: row[1].rsquared_adj, axis=1)\n",
    "\n",
    "plt.subplot(2, 2, 2)\n",
    "plt.plot(rsquared_adj)\n",
    "plt.plot(rsquared_adj.argmax(), rsquared_adj.max(), \"or\")\n",
    "plt.xlabel('# Predictors')\n",
    "plt.ylabel('adjusted rsquared')\n",
    "\n",
    "# We'll do the same for AIC and BIC, this time looking for the models with the SMALLEST statistic\n",
    "aic = models_cv.apply(lambda row: row[1].aic, axis=1)\n",
    "\n",
    "plt.subplot(2, 2, 3)\n",
    "plt.plot(aic)\n",
    "plt.plot(aic.argmin(), aic.min(), \"or\")\n",
    "plt.xlabel('# Predictors')\n",
    "plt.ylabel('AIC')\n",
    "\n",
    "bic = models_cv.apply(lambda row: row[1].bic, axis=1)\n",
    "\n",
    "plt.subplot(2, 2, 4)\n",
    "plt.plot(bic)\n",
    "plt.plot(bic.argmin(), bic.min(), \"or\")\n",
    "plt.xlabel('# Predictors')\n",
    "plt.ylabel('BIC');"
   ]
  },
  {
   "cell_type": "markdown",
   "metadata": {},
   "source": [
    "## Lab 2: Ridge Regression and the Lasso"
   ]
  },
  {
   "cell_type": "markdown",
   "metadata": {},
   "source": [
    "We will use the `sklearn` package in order to perform ridge regression and\n",
    "the lasso. The main functions in this package that we care about are `Ridge()`, which can be used\n",
    "to fit ridge regression models, and `Lasso()` which will fit lasso models. They also have cross-validated counterparts: `RidgeCV()` and `LassoCV()`. We'll use these a bit later.\n",
    "\n",
    "Before proceeding, let's first ensure that the missing values have\n",
    "been removed from the data, as described in the previous lab."
   ]
  },
  {
   "cell_type": "code",
   "execution_count": 97,
   "metadata": {},
   "outputs": [
    {
     "name": "stdout",
     "output_type": "stream",
     "text": [
      "<class 'pandas.core.frame.DataFrame'>\n",
      "Int64Index: 263 entries, 1 to 321\n",
      "Data columns (total 20 columns):\n",
      " #   Column     Non-Null Count  Dtype  \n",
      "---  ------     --------------  -----  \n",
      " 0   AtBat      263 non-null    int64  \n",
      " 1   Hits       263 non-null    int64  \n",
      " 2   HmRun      263 non-null    int64  \n",
      " 3   Runs       263 non-null    int64  \n",
      " 4   RBI        263 non-null    int64  \n",
      " 5   Walks      263 non-null    int64  \n",
      " 6   Years      263 non-null    int64  \n",
      " 7   CAtBat     263 non-null    int64  \n",
      " 8   CHits      263 non-null    int64  \n",
      " 9   CHmRun     263 non-null    int64  \n",
      " 10  CRuns      263 non-null    int64  \n",
      " 11  CRBI       263 non-null    int64  \n",
      " 12  CWalks     263 non-null    int64  \n",
      " 13  League     263 non-null    object \n",
      " 14  Division   263 non-null    object \n",
      " 15  PutOuts    263 non-null    int64  \n",
      " 16  Assists    263 non-null    int64  \n",
      " 17  Errors     263 non-null    int64  \n",
      " 18  Salary     263 non-null    float64\n",
      " 19  NewLeague  263 non-null    object \n",
      "dtypes: float64(1), int64(16), object(3)\n",
      "memory usage: 43.1+ KB\n"
     ]
    }
   ],
   "source": [
    "df = pd.read_csv('data/Hitters.csv').dropna().iloc[:,1:]\n",
    "df.info()\n",
    "dummies = pd.get_dummies(df[['League', 'Division', 'NewLeague']])"
   ]
  },
  {
   "cell_type": "markdown",
   "metadata": {},
   "source": [
    "We will now perform ridge regression and the lasso in order to predict `Salary` on\n",
    "the `Hitters` data. Let's set up our data:"
   ]
  },
  {
   "cell_type": "code",
   "execution_count": 98,
   "metadata": {},
   "outputs": [
    {
     "name": "stdout",
     "output_type": "stream",
     "text": [
      "<class 'pandas.core.frame.DataFrame'>\n",
      "Int64Index: 263 entries, 1 to 321\n",
      "Data columns (total 19 columns):\n",
      " #   Column       Non-Null Count  Dtype  \n",
      "---  ------       --------------  -----  \n",
      " 0   AtBat        263 non-null    float64\n",
      " 1   Hits         263 non-null    float64\n",
      " 2   HmRun        263 non-null    float64\n",
      " 3   Runs         263 non-null    float64\n",
      " 4   RBI          263 non-null    float64\n",
      " 5   Walks        263 non-null    float64\n",
      " 6   Years        263 non-null    float64\n",
      " 7   CAtBat       263 non-null    float64\n",
      " 8   CHits        263 non-null    float64\n",
      " 9   CHmRun       263 non-null    float64\n",
      " 10  CRuns        263 non-null    float64\n",
      " 11  CRBI         263 non-null    float64\n",
      " 12  CWalks       263 non-null    float64\n",
      " 13  PutOuts      263 non-null    float64\n",
      " 14  Assists      263 non-null    float64\n",
      " 15  Errors       263 non-null    float64\n",
      " 16  League_N     263 non-null    uint8  \n",
      " 17  Division_W   263 non-null    uint8  \n",
      " 18  NewLeague_N  263 non-null    uint8  \n",
      "dtypes: float64(16), uint8(3)\n",
      "memory usage: 35.7 KB\n"
     ]
    }
   ],
   "source": [
    "y = df.Salary\n",
    "\n",
    "# Drop the column with the independent variable (Salary), and columns for which we created dummy variables\n",
    "X_ = df.drop(['Salary', 'League', 'Division', 'NewLeague'], axis = 1).astype('float64')\n",
    "\n",
    "# Define the feature set X.\n",
    "X = pd.concat([X_, dummies[['League_N', 'Division_W', 'NewLeague_N']]], axis = 1)\n",
    "\n",
    "X.info()"
   ]
  },
  {
   "cell_type": "markdown",
   "metadata": {},
   "source": [
    "### Lab 2.1: Ridge Regression"
   ]
  },
  {
   "cell_type": "markdown",
   "metadata": {},
   "source": [
    "The `Ridge()` function has an alpha argument ($\\lambda$, but with a different name!) that is used to tune the model. We'll generate an array of alpha values ranging from very big to very small, essentially\n",
    "covering the full range of scenarios from the null model containing\n",
    "only the intercept, to the least squares fit:"
   ]
  },
  {
   "cell_type": "code",
   "execution_count": 99,
   "metadata": {},
   "outputs": [
    {
     "data": {
      "text/plain": [
       "array([5.00000000e+09, 3.78231664e+09, 2.86118383e+09, 2.16438064e+09,\n",
       "       1.63727458e+09, 1.23853818e+09, 9.36908711e+08, 7.08737081e+08,\n",
       "       5.36133611e+08, 4.05565415e+08, 3.06795364e+08, 2.32079442e+08,\n",
       "       1.75559587e+08, 1.32804389e+08, 1.00461650e+08, 7.59955541e+07,\n",
       "       5.74878498e+07, 4.34874501e+07, 3.28966612e+07, 2.48851178e+07,\n",
       "       1.88246790e+07, 1.42401793e+07, 1.07721735e+07, 8.14875417e+06,\n",
       "       6.16423370e+06, 4.66301673e+06, 3.52740116e+06, 2.66834962e+06,\n",
       "       2.01850863e+06, 1.52692775e+06, 1.15506485e+06, 8.73764200e+05,\n",
       "       6.60970574e+05, 5.00000000e+05, 3.78231664e+05, 2.86118383e+05,\n",
       "       2.16438064e+05, 1.63727458e+05, 1.23853818e+05, 9.36908711e+04,\n",
       "       7.08737081e+04, 5.36133611e+04, 4.05565415e+04, 3.06795364e+04,\n",
       "       2.32079442e+04, 1.75559587e+04, 1.32804389e+04, 1.00461650e+04,\n",
       "       7.59955541e+03, 5.74878498e+03, 4.34874501e+03, 3.28966612e+03,\n",
       "       2.48851178e+03, 1.88246790e+03, 1.42401793e+03, 1.07721735e+03,\n",
       "       8.14875417e+02, 6.16423370e+02, 4.66301673e+02, 3.52740116e+02,\n",
       "       2.66834962e+02, 2.01850863e+02, 1.52692775e+02, 1.15506485e+02,\n",
       "       8.73764200e+01, 6.60970574e+01, 5.00000000e+01, 3.78231664e+01,\n",
       "       2.86118383e+01, 2.16438064e+01, 1.63727458e+01, 1.23853818e+01,\n",
       "       9.36908711e+00, 7.08737081e+00, 5.36133611e+00, 4.05565415e+00,\n",
       "       3.06795364e+00, 2.32079442e+00, 1.75559587e+00, 1.32804389e+00,\n",
       "       1.00461650e+00, 7.59955541e-01, 5.74878498e-01, 4.34874501e-01,\n",
       "       3.28966612e-01, 2.48851178e-01, 1.88246790e-01, 1.42401793e-01,\n",
       "       1.07721735e-01, 8.14875417e-02, 6.16423370e-02, 4.66301673e-02,\n",
       "       3.52740116e-02, 2.66834962e-02, 2.01850863e-02, 1.52692775e-02,\n",
       "       1.15506485e-02, 8.73764200e-03, 6.60970574e-03, 5.00000000e-03])"
      ]
     },
     "execution_count": 99,
     "metadata": {},
     "output_type": "execute_result"
    }
   ],
   "source": [
    "alphas = 10**np.linspace(10,-2,100)*0.5\n",
    "alphas"
   ]
  },
  {
   "cell_type": "markdown",
   "metadata": {},
   "source": [
    "Associated with each alpha value is a vector of ridge regression coefficients, which we'll\n",
    "store in a matrix `coefs`. In this case, it is a $19 \\times 100$\n",
    "matrix, with 19 rows (one for each predictor) and 100\n",
    "columns (one for each value of alpha). Remember that we'll want to standardize the\n",
    "variables so that they are on the same scale. To do this, we can use the\n",
    "`normalize = True` parameter:"
   ]
  },
  {
   "cell_type": "code",
   "execution_count": 100,
   "metadata": {},
   "outputs": [
    {
     "data": {
      "text/plain": [
       "(100, 19)"
      ]
     },
     "execution_count": 100,
     "metadata": {},
     "output_type": "execute_result"
    }
   ],
   "source": [
    "ridge = Ridge(normalize = True)\n",
    "coefs = []\n",
    "\n",
    "for a in alphas:\n",
    "    ridge.set_params(alpha = a)\n",
    "    ridge.fit(X, y)\n",
    "    coefs.append(ridge.coef_)\n",
    "    \n",
    "np.shape(coefs)"
   ]
  },
  {
   "cell_type": "markdown",
   "metadata": {},
   "source": [
    "We expect the coefficient estimates to be much smaller, in terms of $l_2$ norm,\n",
    "when a large value of alpha is used, as compared to when a small value of alpha is\n",
    "used. Let's plot and find out:"
   ]
  },
  {
   "cell_type": "code",
   "execution_count": 101,
   "metadata": {},
   "outputs": [
    {
     "data": {
      "text/plain": [
       "Text(0, 0.5, 'weights')"
      ]
     },
     "execution_count": 101,
     "metadata": {},
     "output_type": "execute_result"
    },
    {
     "data": {
      "image/png": "[encoded data removed]",
      "text/plain": [
       "<Figure size 576x360 with 1 Axes>"
      ]
     },
     "metadata": {},
     "output_type": "display_data"
    }
   ],
   "source": [
    "ax = plt.gca()\n",
    "ax.plot(alphas, coefs)\n",
    "ax.set_xscale('log')\n",
    "plt.axis('tight')\n",
    "plt.xlabel('alpha')\n",
    "plt.ylabel('weights')"
   ]
  },
  {
   "cell_type": "markdown",
   "metadata": {},
   "source": [
    "We now split the samples into a training set and a test set in order\n",
    "to estimate the test error of ridge regression and the lasso:"
   ]
  },
  {
   "cell_type": "code",
   "execution_count": 102,
   "metadata": {},
   "outputs": [],
   "source": [
    "# Split data into training and test sets\n",
    "X_train, X_test , y_train, y_test = train_test_split(X, y, test_size=0.5, random_state=1)"
   ]
  },
  {
   "cell_type": "markdown",
   "metadata": {},
   "source": [
    "Next we fit a ridge regression model on the training set, and evaluate\n",
    "its MSE on the test set, using $\\lambda = 4$:"
   ]
  },
  {
   "cell_type": "code",
   "execution_count": 103,
   "metadata": {},
   "outputs": [
    {
     "name": "stdout",
     "output_type": "stream",
     "text": [
      "AtBat           0.098658\n",
      "Hits            0.446094\n",
      "HmRun           1.412107\n",
      "Runs            0.660773\n",
      "RBI             0.843403\n",
      "Walks           1.008473\n",
      "Years           2.779882\n",
      "CAtBat          0.008244\n",
      "CHits           0.034149\n",
      "CHmRun          0.268634\n",
      "CRuns           0.070407\n",
      "CRBI            0.070060\n",
      "CWalks          0.082795\n",
      "PutOuts         0.104747\n",
      "Assists        -0.003739\n",
      "Errors          0.268363\n",
      "League_N        4.241051\n",
      "Division_W    -30.768885\n",
      "NewLeague_N     4.123474\n",
      "dtype: float64\n",
      "106216.52238005561\n"
     ]
    }
   ],
   "source": [
    "ridge2 = Ridge(alpha = 4, normalize = True)\n",
    "ridge2.fit(X_train, y_train)             # Fit a ridge regression on the training data\n",
    "pred2 = ridge2.predict(X_test)           # Use this model to predict the test data\n",
    "print(pd.Series(ridge2.coef_, index = X.columns)) # Print coefficients\n",
    "print(mean_squared_error(y_test, pred2))          # Calculate the test MSE"
   ]
  },
  {
   "cell_type": "markdown",
   "metadata": {},
   "source": [
    "The test MSE when alpha = 4 is 106216. Now let's see what happens if we use a huge value of alpha, say $10^{10}$:"
   ]
  },
  {
   "cell_type": "code",
   "execution_count": 104,
   "metadata": {},
   "outputs": [
    {
     "name": "stdout",
     "output_type": "stream",
     "text": [
      "AtBat          1.317464e-10\n",
      "Hits           4.647486e-10\n",
      "HmRun          2.079865e-09\n",
      "Runs           7.726175e-10\n",
      "RBI            9.390640e-10\n",
      "Walks          9.769219e-10\n",
      "Years          3.961442e-09\n",
      "CAtBat         1.060533e-11\n",
      "CHits          3.993605e-11\n",
      "CHmRun         2.959428e-10\n",
      "CRuns          8.245247e-11\n",
      "CRBI           7.795451e-11\n",
      "CWalks         9.894387e-11\n",
      "PutOuts        7.268991e-11\n",
      "Assists       -2.615885e-12\n",
      "Errors         2.084514e-10\n",
      "League_N      -2.501281e-09\n",
      "Division_W    -1.549951e-08\n",
      "NewLeague_N   -2.023196e-09\n",
      "dtype: float64\n",
      "172862.23580379886\n"
     ]
    }
   ],
   "source": [
    "ridge3 = Ridge(alpha = 10**10, normalize = True)\n",
    "ridge3.fit(X_train, y_train)             # Fit a ridge regression on the training data\n",
    "pred3 = ridge3.predict(X_test)           # Use this model to predict the test data\n",
    "print(pd.Series(ridge3.coef_, index = X.columns)) # Print coefficients\n",
    "print(mean_squared_error(y_test, pred3))          # Calculate the test MSE"
   ]
  },
  {
   "cell_type": "markdown",
   "metadata": {},
   "source": [
    "This big penalty shrinks the coefficients to a very large degree, essentially reducing to a model containing just the intercept. This over-shrinking makes the model more biased, resulting in a higher MSE."
   ]
  },
  {
   "cell_type": "markdown",
   "metadata": {},
   "source": [
    "Okay, so fitting a ridge regression model with alpha = 4 leads to a much lower test\n",
    "MSE than fitting a model with just an intercept. We now check whether\n",
    "there is any benefit to performing ridge regression with alpha = 4 instead of\n",
    "just performing least squares regression. Recall that least squares is simply\n",
    "ridge regression with alpha = 0."
   ]
  },
  {
   "cell_type": "code",
   "execution_count": 105,
   "metadata": {},
   "outputs": [
    {
     "name": "stdout",
     "output_type": "stream",
     "text": [
      "AtBat           -1.821115\n",
      "Hits             4.259156\n",
      "HmRun           -4.773401\n",
      "Runs            -0.038760\n",
      "RBI              3.984578\n",
      "Walks            3.470126\n",
      "Years            9.498236\n",
      "CAtBat          -0.605129\n",
      "CHits            2.174979\n",
      "CHmRun           2.979306\n",
      "CRuns            0.266356\n",
      "CRBI            -0.598456\n",
      "CWalks           0.171383\n",
      "PutOuts          0.421063\n",
      "Assists          0.464379\n",
      "Errors          -6.024576\n",
      "League_N       133.743163\n",
      "Division_W    -113.743875\n",
      "NewLeague_N    -81.927763\n",
      "dtype: float64\n",
      "116690.46856660132\n"
     ]
    }
   ],
   "source": [
    "ridge2 = Ridge(alpha = 0, normalize = True)\n",
    "ridge2.fit(X_train, y_train)             # Fit a ridge regression on the training data\n",
    "pred = ridge2.predict(X_test)            # Use this model to predict the test data\n",
    "print(pd.Series(ridge2.coef_, index = X.columns)) # Print coefficients\n",
    "print(mean_squared_error(y_test, pred))           # Calculate the test MSE"
   ]
  },
  {
   "cell_type": "markdown",
   "metadata": {},
   "source": [
    "It looks like we are indeed improving over regular least-squares!\n",
    "\n",
    "Instead of arbitrarily choosing alpha $ = 4$, it would be better to\n",
    "use cross-validation to choose the tuning parameter alpha. We can do this using\n",
    "the cross-validated ridge regression function, `RidgeCV()`. By default, the function\n",
    "performs generalized cross-validation (an efficient form of LOOCV), though this can be changed using the\n",
    "argument `cv`."
   ]
  },
  {
   "cell_type": "code",
   "execution_count": 106,
   "metadata": {},
   "outputs": [
    {
     "data": {
      "text/plain": [
       "0.5748784976988678"
      ]
     },
     "execution_count": 106,
     "metadata": {},
     "output_type": "execute_result"
    }
   ],
   "source": [
    "ridgecv = RidgeCV(alphas = alphas, scoring = 'neg_mean_squared_error', normalize = True)\n",
    "ridgecv.fit(X_train, y_train)\n",
    "ridgecv.alpha_"
   ]
  },
  {
   "cell_type": "markdown",
   "metadata": {},
   "source": [
    "Therefore, we see that the value of alpha that results in the smallest cross-validation\n",
    "error is 0.57. What is the test MSE associated with this value of\n",
    "alpha?"
   ]
  },
  {
   "cell_type": "code",
   "execution_count": 107,
   "metadata": {},
   "outputs": [
    {
     "data": {
      "text/plain": [
       "99825.6489629273"
      ]
     },
     "execution_count": 107,
     "metadata": {},
     "output_type": "execute_result"
    }
   ],
   "source": [
    "ridge4 = Ridge(alpha = ridgecv.alpha_, normalize = True)\n",
    "ridge4.fit(X_train, y_train)\n",
    "mean_squared_error(y_test, ridge4.predict(X_test))"
   ]
  },
  {
   "cell_type": "markdown",
   "metadata": {},
   "source": [
    "This represents a further improvement over the test MSE that we got using\n",
    "alpha $ = 4$. Finally, we refit our ridge regression model on the full data set,\n",
    "using the value of alpha chosen by cross-validation, and examine the coefficient\n",
    "estimates."
   ]
  },
  {
   "cell_type": "code",
   "execution_count": 108,
   "metadata": {},
   "outputs": [
    {
     "data": {
      "text/plain": [
       "AtBat           0.055838\n",
       "Hits            0.934879\n",
       "HmRun           0.369048\n",
       "Runs            1.092480\n",
       "RBI             0.878259\n",
       "Walks           1.717770\n",
       "Years           0.783515\n",
       "CAtBat          0.011318\n",
       "CHits           0.061101\n",
       "CHmRun          0.428333\n",
       "CRuns           0.121418\n",
       "CRBI            0.129351\n",
       "CWalks          0.041990\n",
       "PutOuts         0.179957\n",
       "Assists         0.035737\n",
       "Errors         -1.597699\n",
       "League_N       24.774519\n",
       "Division_W    -85.948661\n",
       "NewLeague_N     8.336918\n",
       "dtype: float64"
      ]
     },
     "execution_count": 108,
     "metadata": {},
     "output_type": "execute_result"
    }
   ],
   "source": [
    "ridge4.fit(X, y)\n",
    "pd.Series(ridge4.coef_, index = X.columns)"
   ]
  },
  {
   "cell_type": "markdown",
   "metadata": {},
   "source": [
    "As expected, none of the coefficients are exactly zero - ridge regression does not\n",
    "perform variable selection!"
   ]
  },
  {
   "cell_type": "markdown",
   "metadata": {},
   "source": [
    "### Lab 2.2: The Lasso"
   ]
  },
  {
   "cell_type": "markdown",
   "metadata": {},
   "source": [
    "We saw that ridge regression with a wise choice of alpha can outperform least squares as well as the null model on the Hitters data set. We now ask whether the lasso can yield either a more accurate or a more interpretable model than ridge regression. In order to fit a lasso model, we'll use the `Lasso()` function; however, this time we'll need to include the argument `max_iter = 10000`. Other than that change, we proceed just as we did in fitting a ridge model:"
   ]
  },
  {
   "cell_type": "code",
   "execution_count": 109,
   "metadata": {},
   "outputs": [
    {
     "data": {
      "text/plain": [
       "Text(0, 0.5, 'weights')"
      ]
     },
     "execution_count": 109,
     "metadata": {},
     "output_type": "execute_result"
    },
    {
     "data": {
      "image/png": "[encoded data removed]",
      "text/plain": [
       "<Figure size 576x360 with 1 Axes>"
      ]
     },
     "metadata": {},
     "output_type": "display_data"
    }
   ],
   "source": [
    "lasso = Lasso(max_iter = 10000, normalize = True)\n",
    "coefs = []\n",
    "\n",
    "for a in alphas:\n",
    "    lasso.set_params(alpha=a)\n",
    "    lasso.fit(scale(X_train), y_train)\n",
    "    coefs.append(lasso.coef_)\n",
    "    \n",
    "ax = plt.gca()\n",
    "ax.plot(alphas*2, coefs)\n",
    "ax.set_xscale('log')\n",
    "plt.axis('tight')\n",
    "plt.xlabel('alpha')\n",
    "plt.ylabel('weights')"
   ]
  },
  {
   "cell_type": "markdown",
   "metadata": {},
   "source": [
    "Notice that in the coefficient plot that depending on the choice of tuning\n",
    "parameter, some of the coefficients are exactly equal to zero. We now\n",
    "perform 10-fold cross-validation to choose the best alpha, refit the model, and compute the associated test error:"
   ]
  },
  {
   "cell_type": "code",
   "execution_count": 110,
   "metadata": {},
   "outputs": [
    {
     "data": {
      "text/plain": [
       "104960.65853895503"
      ]
     },
     "execution_count": 110,
     "metadata": {},
     "output_type": "execute_result"
    }
   ],
   "source": [
    "lassocv = LassoCV(alphas = None, cv = 10, max_iter = 100000, normalize = True)\n",
    "lassocv.fit(X_train, y_train)\n",
    "\n",
    "lasso.set_params(alpha=lassocv.alpha_)\n",
    "lasso.fit(X_train, y_train)\n",
    "mean_squared_error(y_test, lasso.predict(X_test))"
   ]
  },
  {
   "cell_type": "markdown",
   "metadata": {},
   "source": [
    "This is substantially lower than the test set MSE of the null model and of\n",
    "least squares, and only a little worse than the test MSE of ridge regression with alpha\n",
    "chosen by cross-validation.\n",
    "\n",
    "However, the lasso has a substantial advantage over ridge regression in\n",
    "that the resulting coefficient estimates are sparse. Here we see that 13 of\n",
    "the 19 coefficient estimates are exactly zero:"
   ]
  },
  {
   "cell_type": "code",
   "execution_count": 111,
   "metadata": {},
   "outputs": [
    {
     "data": {
      "text/plain": [
       "AtBat           0.000000\n",
       "Hits            1.082446\n",
       "HmRun           0.000000\n",
       "Runs            0.000000\n",
       "RBI             0.000000\n",
       "Walks           2.906388\n",
       "Years           0.000000\n",
       "CAtBat          0.000000\n",
       "CHits           0.000000\n",
       "CHmRun          0.219367\n",
       "CRuns           0.000000\n",
       "CRBI            0.513975\n",
       "CWalks          0.000000\n",
       "PutOuts         0.368401\n",
       "Assists        -0.000000\n",
       "Errors         -0.000000\n",
       "League_N        0.000000\n",
       "Division_W    -89.064338\n",
       "NewLeague_N     0.000000\n",
       "dtype: float64"
      ]
     },
     "execution_count": 111,
     "metadata": {},
     "output_type": "execute_result"
    }
   ],
   "source": [
    "# Some of the coefficients are now reduced to exactly zero.\n",
    "pd.Series(lasso.coef_, index=X.columns)"
   ]
  },
  {
   "cell_type": "markdown",
   "metadata": {},
   "source": [
    "## Lab 3: PCR and PLS Regression"
   ]
  },
  {
   "cell_type": "markdown",
   "metadata": {},
   "source": [
    "### Lab 3.1: Principal Components Regression"
   ]
  },
  {
   "cell_type": "markdown",
   "metadata": {},
   "source": [
    "Principal components regression (PCR) can be performed using the `PCA()`\n",
    "function, which is part of the `sklearn` library. In this lab, we'll apply PCR to the `Hitters`\n",
    "data, in order to predict `Salary`. As in previous labs, we'll start by ensuring that the missing values have\n",
    "been removed from the data:"
   ]
  },
  {
   "cell_type": "code",
   "execution_count": 112,
   "metadata": {},
   "outputs": [
    {
     "name": "stdout",
     "output_type": "stream",
     "text": [
      "<class 'pandas.core.frame.DataFrame'>\n",
      "Int64Index: 263 entries, 1 to 321\n",
      "Data columns (total 20 columns):\n",
      " #   Column     Non-Null Count  Dtype  \n",
      "---  ------     --------------  -----  \n",
      " 0   AtBat      263 non-null    int64  \n",
      " 1   Hits       263 non-null    int64  \n",
      " 2   HmRun      263 non-null    int64  \n",
      " 3   Runs       263 non-null    int64  \n",
      " 4   RBI        263 non-null    int64  \n",
      " 5   Walks      263 non-null    int64  \n",
      " 6   Years      263 non-null    int64  \n",
      " 7   CAtBat     263 non-null    int64  \n",
      " 8   CHits      263 non-null    int64  \n",
      " 9   CHmRun     263 non-null    int64  \n",
      " 10  CRuns      263 non-null    int64  \n",
      " 11  CRBI       263 non-null    int64  \n",
      " 12  CWalks     263 non-null    int64  \n",
      " 13  League     263 non-null    object \n",
      " 14  Division   263 non-null    object \n",
      " 15  PutOuts    263 non-null    int64  \n",
      " 16  Assists    263 non-null    int64  \n",
      " 17  Errors     263 non-null    int64  \n",
      " 18  Salary     263 non-null    float64\n",
      " 19  NewLeague  263 non-null    object \n",
      "dtypes: float64(1), int64(16), object(3)\n",
      "memory usage: 43.1+ KB\n"
     ]
    }
   ],
   "source": [
    "df = pd.read_csv('data/Hitters.csv').dropna().iloc[:,1:]\n",
    "df.info()\n",
    "dummies = pd.get_dummies(df[['League', 'Division', 'NewLeague']])"
   ]
  },
  {
   "cell_type": "markdown",
   "metadata": {},
   "source": [
    "Let's set up our data:"
   ]
  },
  {
   "cell_type": "code",
   "execution_count": 113,
   "metadata": {},
   "outputs": [],
   "source": [
    "y = df.Salary\n",
    "\n",
    "# Drop the column with the independent variable (Salary), and columns for which we created dummy variables\n",
    "X_ = df.drop(['Salary', 'League', 'Division', 'NewLeague'], axis=1).astype('float64')\n",
    "\n",
    "# Define the feature set X.\n",
    "X = pd.concat([X_, dummies[['League_N', 'Division_W', 'NewLeague_N']]], axis=1)"
   ]
  },
  {
   "cell_type": "markdown",
   "metadata": {},
   "source": [
    "Unfortunately `sklearn` does not have an implementation of PCA and regression combined like the `pls`, package in R: https://cran.r-project.org/web/packages/pls/vignettes/pls-manual.pdf so we'll have to do it ourselves.\n",
    "\n",
    "We'll start by performing Principal Components Analysis (PCA), remembering to scale the data:"
   ]
  },
  {
   "cell_type": "code",
   "execution_count": 117,
   "metadata": {},
   "outputs": [],
   "source": [
    "pca = PCA()\n",
    "X_reduced = pca.fit_transform(scale(X))"
   ]
  },
  {
   "cell_type": "markdown",
   "metadata": {},
   "source": [
    "Let's print out the first few variables of the first few principal components:"
   ]
  },
  {
   "cell_type": "code",
   "execution_count": 118,
   "metadata": {},
   "outputs": [
    {
     "data": {
      "text/html": [
       "<div>\n",
       "<style scoped>\n",
       "    .dataframe tbody tr th:only-of-type {\n",
       "        vertical-align: middle;\n",
       "    }\n",
       "\n",
       "    .dataframe tbody tr th {\n",
       "        vertical-align: top;\n",
       "    }\n",
       "\n",
       "    .dataframe thead th {\n",
       "        text-align: right;\n",
       "    }\n",
       "</style>\n",
       "<table border=\"1\" class=\"dataframe\">\n",
       "  <thead>\n",
       "    <tr style=\"text-align: right;\">\n",
       "      <th></th>\n",
       "      <th>0</th>\n",
       "      <th>1</th>\n",
       "      <th>2</th>\n",
       "      <th>3</th>\n",
       "      <th>4</th>\n",
       "      <th>5</th>\n",
       "    </tr>\n",
       "  </thead>\n",
       "  <tbody>\n",
       "    <tr>\n",
       "      <th>0</th>\n",
       "      <td>0.198290</td>\n",
       "      <td>-0.383784</td>\n",
       "      <td>0.088626</td>\n",
       "      <td>0.031967</td>\n",
       "      <td>0.028117</td>\n",
       "      <td>-0.070646</td>\n",
       "    </tr>\n",
       "    <tr>\n",
       "      <th>1</th>\n",
       "      <td>0.195861</td>\n",
       "      <td>-0.377271</td>\n",
       "      <td>0.074032</td>\n",
       "      <td>0.017982</td>\n",
       "      <td>-0.004652</td>\n",
       "      <td>-0.082240</td>\n",
       "    </tr>\n",
       "    <tr>\n",
       "      <th>2</th>\n",
       "      <td>0.204369</td>\n",
       "      <td>-0.237136</td>\n",
       "      <td>-0.216186</td>\n",
       "      <td>-0.235831</td>\n",
       "      <td>0.077660</td>\n",
       "      <td>-0.149646</td>\n",
       "    </tr>\n",
       "    <tr>\n",
       "      <th>3</th>\n",
       "      <td>0.198337</td>\n",
       "      <td>-0.377721</td>\n",
       "      <td>-0.017166</td>\n",
       "      <td>-0.049942</td>\n",
       "      <td>-0.038536</td>\n",
       "      <td>-0.136660</td>\n",
       "    </tr>\n",
       "    <tr>\n",
       "      <th>4</th>\n",
       "      <td>0.235174</td>\n",
       "      <td>-0.314531</td>\n",
       "      <td>-0.073085</td>\n",
       "      <td>-0.138985</td>\n",
       "      <td>0.024299</td>\n",
       "      <td>-0.111675</td>\n",
       "    </tr>\n",
       "  </tbody>\n",
       "</table>\n",
       "</div>"
      ],
      "text/plain": [
       "          0         1         2         3         4         5\n",
       "0  0.198290 -0.383784  0.088626  0.031967  0.028117 -0.070646\n",
       "1  0.195861 -0.377271  0.074032  0.017982 -0.004652 -0.082240\n",
       "2  0.204369 -0.237136 -0.216186 -0.235831  0.077660 -0.149646\n",
       "3  0.198337 -0.377721 -0.017166 -0.049942 -0.038536 -0.136660\n",
       "4  0.235174 -0.314531 -0.073085 -0.138985  0.024299 -0.111675"
      ]
     },
     "execution_count": 118,
     "metadata": {},
     "output_type": "execute_result"
    }
   ],
   "source": [
    "pd.DataFrame(pca.components_.T).loc[:4,:5]"
   ]
  },
  {
   "cell_type": "markdown",
   "metadata": {},
   "source": [
    "Now we'll perform 10-fold cross-validation to see how it influences the MSE:"
   ]
  },
  {
   "cell_type": "code",
   "execution_count": 119,
   "metadata": {},
   "outputs": [],
   "source": [
    "# 10-fold CV, with shuffle\n",
    "n = len(X_reduced)\n",
    "kf_10 = KFold(n_splits=n, shuffle=True, random_state=1)\n",
    "\n",
    "regr = LinearRegression()\n",
    "mse = []\n",
    "\n",
    "# Calculate MSE with only the intercept (no principal components in regression)\n",
    "score = -1*cross_val_score(regr, np.ones((n,1)), y.ravel(), cv=kf_10, scoring='neg_mean_squared_error').mean()    \n",
    "mse.append(score)\n",
    "\n",
    "# Calculate MSE using CV for the 19 principle components, adding one component at the time.\n",
    "for i in np.arange(1, 20):\n",
    "    score = -1*cross_val_score(regr, X_reduced[:,:i], y.ravel(), cv=kf_10, scoring='neg_mean_squared_error').mean()\n",
    "    mse.append(score)"
   ]
  },
  {
   "cell_type": "code",
   "execution_count": 120,
   "metadata": {},
   "outputs": [
    {
     "data": {
      "image/png": "[encoded data removed]",
      "text/plain": [
       "<Figure size 576x360 with 1 Axes>"
      ]
     },
     "metadata": {},
     "output_type": "display_data"
    }
   ],
   "source": [
    " # Plot results    \n",
    "plt.plot(mse, '-v')\n",
    "plt.xlabel('Number of principal components in regression')\n",
    "plt.ylabel('MSE')\n",
    "plt.title('Salary')\n",
    "plt.xlim(xmin=-1);"
   ]
  },
  {
   "cell_type": "markdown",
   "metadata": {},
   "source": [
    "We see that the smallest cross-validation error occurs when $M = 18$ components\n",
    "are used. This is barely fewer than $M = 19$, which amounts to\n",
    "simply performing least squares, because when all of the components are\n",
    "used in PCR no dimension reduction occurs. However, from the plot we\n",
    "also see that the cross-validation error is roughly the same when only one\n",
    "component is included in the model. This suggests that a model that uses\n",
    "just a small number of components might suffice."
   ]
  },
  {
   "cell_type": "markdown",
   "metadata": {},
   "source": [
    "We'll do a little math to get the amount of variance explained by adding each consecutive principal component:"
   ]
  },
  {
   "cell_type": "code",
   "execution_count": 121,
   "metadata": {},
   "outputs": [
    {
     "data": {
      "text/plain": [
       "array([38.31, 60.15, 70.84, 79.03, 84.29, 88.63, 92.26, 94.96, 96.28,\n",
       "       97.25, 97.97, 98.64, 99.14, 99.46, 99.73, 99.88, 99.95, 99.98,\n",
       "       99.99])"
      ]
     },
     "execution_count": 121,
     "metadata": {},
     "output_type": "execute_result"
    }
   ],
   "source": [
    "np.cumsum(np.round(pca.explained_variance_ratio_, decimals=4)*100)"
   ]
  },
  {
   "cell_type": "markdown",
   "metadata": {},
   "source": [
    "We'll dig deeper into this concept in Chapter 10, but for now we can think of this as the amount of information about the predictors or the response that is captured using $M$ principal components. For example,\n",
    "setting $M = 1$ only captures 38.31% of all the variance, or information, in\n",
    "the predictors. In contrast, using $M = 6$ increases the value to 88.63%. If\n",
    "we were to use all $M = p = 19$ components, this would increase to 100%.\n",
    "\n",
    "Now let's perform PCA on the training data and evaluate its test set\n",
    "performance:"
   ]
  },
  {
   "cell_type": "code",
   "execution_count": 122,
   "metadata": {},
   "outputs": [
    {
     "data": {
      "image/png": "[encoded data removed]",
      "text/plain": [
       "<Figure size 576x360 with 1 Axes>"
      ]
     },
     "metadata": {},
     "output_type": "display_data"
    }
   ],
   "source": [
    "pca2 = PCA()\n",
    "\n",
    "# Split into training and test sets\n",
    "X_train, X_test , y_train, y_test = train_test_split(X, y, test_size=0.5, random_state=1)\n",
    "\n",
    "# Scale the data\n",
    "X_reduced_train = pca2.fit_transform(scale(X_train))\n",
    "n = len(X_reduced_train)\n",
    "\n",
    "# 10-fold CV, with shuffle\n",
    "kf_10 = KFold(n_splits=10, shuffle=True, random_state=1)\n",
    "\n",
    "mse = []\n",
    "\n",
    "# Calculate MSE with only the intercept (no principal components in regression)\n",
    "score = -1*cross_val_score(regr, np.ones((n,1)), y_train.ravel(), cv=kf_10, scoring='neg_mean_squared_error').mean()    \n",
    "mse.append(score)\n",
    "\n",
    "# Calculate MSE using CV for the 19 principle components, adding one component at the time.\n",
    "for i in np.arange(1, 20):\n",
    "    score = -1*cross_val_score(regr, X_reduced_train[:,:i], y_train.ravel(), cv=kf_10, scoring='neg_mean_squared_error').mean()\n",
    "    mse.append(score)\n",
    "\n",
    "plt.plot(np.array(mse), '-v')\n",
    "plt.xlabel('Number of principal components in regression')\n",
    "plt.ylabel('MSE')\n",
    "plt.title('Salary')\n",
    "plt.xlim(xmin=-1);"
   ]
  },
  {
   "cell_type": "markdown",
   "metadata": {},
   "source": [
    "We find that the lowest cross-validation error occurs when $M = 6$\n",
    "components are used. Now we'll see how it performs on the test data and compute the test MSE as follows:"
   ]
  },
  {
   "cell_type": "code",
   "execution_count": 123,
   "metadata": {},
   "outputs": [
    {
     "data": {
      "text/plain": [
       "111994.42273636989"
      ]
     },
     "execution_count": 123,
     "metadata": {},
     "output_type": "execute_result"
    }
   ],
   "source": [
    "X_reduced_test = pca2.transform(scale(X_test))[:,:7]\n",
    "\n",
    "# Train regression model on training data \n",
    "regr = LinearRegression()\n",
    "regr.fit(X_reduced_train[:,:7], y_train)\n",
    "\n",
    "# Prediction with test data\n",
    "pred = regr.predict(X_reduced_test)\n",
    "mean_squared_error(y_test, pred)"
   ]
  },
  {
   "cell_type": "markdown",
   "metadata": {},
   "source": [
    "This test set MSE is competitive with the results obtained using ridge regression\n",
    "and the lasso. However, as a result of the way PCR is implemented,\n",
    "the final model is more difficult to interpret because it does not perform\n",
    "any kind of variable selection or even directly produce coefficient estimates."
   ]
  },
  {
   "cell_type": "markdown",
   "metadata": {},
   "source": [
    "### Lab 3.2: Partial Least Squares"
   ]
  },
  {
   "cell_type": "markdown",
   "metadata": {},
   "source": [
    "Scikit-learn `PLSRegression` gives same results as the `pls` package in R when using `method='oscorespls'`. However, the standard method used is `'kernelpls'`, which we'll use here. Feel free to try out both."
   ]
  },
  {
   "cell_type": "code",
   "execution_count": 124,
   "metadata": {},
   "outputs": [],
   "source": [
    "n = len(X_train)\n",
    "\n",
    "# 10-fold CV, with shuffle\n",
    "kf_10 = KFold(n_splits=10, shuffle=True, random_state=1)\n",
    "\n",
    "mse = []\n",
    "\n",
    "for i in np.arange(1, 20):\n",
    "    pls = PLSRegression(n_components=i)\n",
    "    score = cross_val_score(pls, scale(X_train), y_train, cv=kf_10, scoring='neg_mean_squared_error').mean()\n",
    "    mse.append(-score)"
   ]
  },
  {
   "cell_type": "code",
   "execution_count": 125,
   "metadata": {},
   "outputs": [
    {
     "data": {
      "text/plain": [
       "(-1.0, 19.9)"
      ]
     },
     "execution_count": 125,
     "metadata": {},
     "output_type": "execute_result"
    },
    {
     "data": {
      "image/png": "[encoded data removed]",
      "text/plain": [
       "<Figure size 576x360 with 1 Axes>"
      ]
     },
     "metadata": {},
     "output_type": "display_data"
    }
   ],
   "source": [
    "# Plot results\n",
    "plt.plot(np.arange(1, 20), np.array(mse), '-v')\n",
    "plt.xlabel('Number of principal components in regression')\n",
    "plt.ylabel('MSE')\n",
    "plt.title('Salary')\n",
    "plt.xlim(xmin=-1);"
   ]
  },
  {
   "cell_type": "markdown",
   "metadata": {},
   "source": [
    "The lowest cross-validation error occurs when only $M = 2$ partial least\n",
    "squares dimensions are used. We now evaluate the corresponding test set\n",
    "MSE:"
   ]
  },
  {
   "cell_type": "code",
   "execution_count": 126,
   "metadata": {},
   "outputs": [
    {
     "data": {
      "text/plain": [
       "104838.51042760801"
      ]
     },
     "execution_count": 126,
     "metadata": {},
     "output_type": "execute_result"
    }
   ],
   "source": [
    "pls = PLSRegression(n_components=2)\n",
    "pls.fit(scale(X_train), y_train)\n",
    "\n",
    "mean_squared_error(y_test, pls.predict(scale(X_test)))"
   ]
  },
  {
   "cell_type": "markdown",
   "metadata": {},
   "source": [
    "The test MSE is again comparable to the test MSE\n",
    "obtained using ridge regression, the lasso, and PCR."
   ]
  },
  {
   "cell_type": "markdown",
   "metadata": {},
   "source": [
    "## Next Lecture"
   ]
  },
  {
   "cell_type": "markdown",
   "metadata": {},
   "source": [
    "Jump to [Session 6 - Convexity and Optimization](https://nbviewer.jupyter.org/github/matteocourthoud/Machine-Learning-for-Economic-Analysis-2020/blob/master/6_convexity.ipynb)"
   ]
  }
 ],
 "metadata": {
  "kernelspec": {
   "display_name": "Python 3",
   "language": "python",
   "name": "python3"
  },
  "language_info": {
   "codemirror_mode": {
    "name": "ipython",
    "version": 3
   },
   "file_extension": ".py",
   "mimetype": "text/x-python",
   "name": "python",
   "nbconvert_exporter": "python",
   "pygments_lexer": "ipython3",
   "version": "3.8.5"
  }
 },
 "nbformat": 4,
 "nbformat_minor": 1
}
